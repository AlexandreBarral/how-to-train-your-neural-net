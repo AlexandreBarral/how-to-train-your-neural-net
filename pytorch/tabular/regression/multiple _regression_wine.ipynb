{
 "cells": [
  {
   "cell_type": "markdown",
   "metadata": {},
   "source": [
    "# Tabular - Multiple Regression using DNNs"
   ]
  },
  {
   "cell_type": "markdown",
   "metadata": {},
   "source": [
    "By [Akshaj Verma](https://akshajverma.com)\n",
    "\n",
    "This notebook takes you through the implementation of multiple regression using feedforward networks on the wine dataset using PyTorch.\n",
    "\n",
    "We will use the [wine dataset](https://www.kaggle.com/uciml/red-wine-quality-cortez-et-al-2009  ) available on Kaggle. This dataset has 12 columns where the first 11 are the features and the last column is the target column. The data set has 1599 rows."
   ]
  },
  {
   "cell_type": "code",
   "execution_count": 1,
   "metadata": {},
   "outputs": [],
   "source": [
    "import numpy as np\n",
    "import pandas as pd\n",
    "import seaborn as sns\n",
    "from tqdm.notebook import tqdm\n",
    "import matplotlib.pyplot as plt\n",
    "\n",
    "import torch\n",
    "import torch.nn as nn\n",
    "import torch.optim as optim\n",
    "from torch.utils.data import Dataset, DataLoader\n",
    "\n",
    "from sklearn.preprocessing import MinMaxScaler    \n",
    "from sklearn.model_selection import train_test_split\n",
    "from sklearn.metrics import mean_squared_error, r2_score"
   ]
  },
  {
   "cell_type": "code",
   "execution_count": 2,
   "metadata": {},
   "outputs": [],
   "source": [
    "torch.manual_seed(69)\n",
    "np.random.seed(21)"
   ]
  },
  {
   "cell_type": "code",
   "execution_count": 3,
   "metadata": {},
   "outputs": [
    {
     "name": "stdout",
     "output_type": "stream",
     "text": [
      "We're using cuda? True\n"
     ]
    }
   ],
   "source": [
    "%matplotlib inline\n",
    "sns.set_style('darkgrid')\n",
    "\n",
    "print(\"We're using cuda?\", torch.cuda.is_available())"
   ]
  },
  {
   "cell_type": "code",
   "execution_count": 4,
   "metadata": {},
   "outputs": [],
   "source": [
    "df = pd.read_csv(\"../../../data/tabular/classification/winequality-red.csv\")"
   ]
  },
  {
   "cell_type": "markdown",
   "metadata": {},
   "source": [
    "## Pre-processing"
   ]
  },
  {
   "cell_type": "code",
   "execution_count": 5,
   "metadata": {},
   "outputs": [
    {
     "data": {
      "text/html": [
       "<div>\n",
       "<style scoped>\n",
       "    .dataframe tbody tr th:only-of-type {\n",
       "        vertical-align: middle;\n",
       "    }\n",
       "\n",
       "    .dataframe tbody tr th {\n",
       "        vertical-align: top;\n",
       "    }\n",
       "\n",
       "    .dataframe thead th {\n",
       "        text-align: right;\n",
       "    }\n",
       "</style>\n",
       "<table border=\"1\" class=\"dataframe\">\n",
       "  <thead>\n",
       "    <tr style=\"text-align: right;\">\n",
       "      <th></th>\n",
       "      <th>fixed acidity</th>\n",
       "      <th>volatile acidity</th>\n",
       "      <th>citric acid</th>\n",
       "      <th>residual sugar</th>\n",
       "      <th>chlorides</th>\n",
       "      <th>free sulfur dioxide</th>\n",
       "      <th>total sulfur dioxide</th>\n",
       "      <th>density</th>\n",
       "      <th>pH</th>\n",
       "      <th>sulphates</th>\n",
       "      <th>alcohol</th>\n",
       "      <th>quality</th>\n",
       "    </tr>\n",
       "  </thead>\n",
       "  <tbody>\n",
       "    <tr>\n",
       "      <th>0</th>\n",
       "      <td>7.4</td>\n",
       "      <td>0.70</td>\n",
       "      <td>0.00</td>\n",
       "      <td>1.9</td>\n",
       "      <td>0.076</td>\n",
       "      <td>11.0</td>\n",
       "      <td>34.0</td>\n",
       "      <td>0.9978</td>\n",
       "      <td>3.51</td>\n",
       "      <td>0.56</td>\n",
       "      <td>9.4</td>\n",
       "      <td>5</td>\n",
       "    </tr>\n",
       "    <tr>\n",
       "      <th>1</th>\n",
       "      <td>7.8</td>\n",
       "      <td>0.88</td>\n",
       "      <td>0.00</td>\n",
       "      <td>2.6</td>\n",
       "      <td>0.098</td>\n",
       "      <td>25.0</td>\n",
       "      <td>67.0</td>\n",
       "      <td>0.9968</td>\n",
       "      <td>3.20</td>\n",
       "      <td>0.68</td>\n",
       "      <td>9.8</td>\n",
       "      <td>5</td>\n",
       "    </tr>\n",
       "    <tr>\n",
       "      <th>2</th>\n",
       "      <td>7.8</td>\n",
       "      <td>0.76</td>\n",
       "      <td>0.04</td>\n",
       "      <td>2.3</td>\n",
       "      <td>0.092</td>\n",
       "      <td>15.0</td>\n",
       "      <td>54.0</td>\n",
       "      <td>0.9970</td>\n",
       "      <td>3.26</td>\n",
       "      <td>0.65</td>\n",
       "      <td>9.8</td>\n",
       "      <td>5</td>\n",
       "    </tr>\n",
       "    <tr>\n",
       "      <th>3</th>\n",
       "      <td>11.2</td>\n",
       "      <td>0.28</td>\n",
       "      <td>0.56</td>\n",
       "      <td>1.9</td>\n",
       "      <td>0.075</td>\n",
       "      <td>17.0</td>\n",
       "      <td>60.0</td>\n",
       "      <td>0.9980</td>\n",
       "      <td>3.16</td>\n",
       "      <td>0.58</td>\n",
       "      <td>9.8</td>\n",
       "      <td>6</td>\n",
       "    </tr>\n",
       "    <tr>\n",
       "      <th>4</th>\n",
       "      <td>7.4</td>\n",
       "      <td>0.70</td>\n",
       "      <td>0.00</td>\n",
       "      <td>1.9</td>\n",
       "      <td>0.076</td>\n",
       "      <td>11.0</td>\n",
       "      <td>34.0</td>\n",
       "      <td>0.9978</td>\n",
       "      <td>3.51</td>\n",
       "      <td>0.56</td>\n",
       "      <td>9.4</td>\n",
       "      <td>5</td>\n",
       "    </tr>\n",
       "  </tbody>\n",
       "</table>\n",
       "</div>"
      ],
      "text/plain": [
       "   fixed acidity  volatile acidity  citric acid  residual sugar  chlorides  \\\n",
       "0            7.4              0.70         0.00             1.9      0.076   \n",
       "1            7.8              0.88         0.00             2.6      0.098   \n",
       "2            7.8              0.76         0.04             2.3      0.092   \n",
       "3           11.2              0.28         0.56             1.9      0.075   \n",
       "4            7.4              0.70         0.00             1.9      0.076   \n",
       "\n",
       "   free sulfur dioxide  total sulfur dioxide  density    pH  sulphates  \\\n",
       "0                 11.0                  34.0   0.9978  3.51       0.56   \n",
       "1                 25.0                  67.0   0.9968  3.20       0.68   \n",
       "2                 15.0                  54.0   0.9970  3.26       0.65   \n",
       "3                 17.0                  60.0   0.9980  3.16       0.58   \n",
       "4                 11.0                  34.0   0.9978  3.51       0.56   \n",
       "\n",
       "   alcohol  quality  \n",
       "0      9.4        5  \n",
       "1      9.8        5  \n",
       "2      9.8        5  \n",
       "3      9.8        6  \n",
       "4      9.4        5  "
      ]
     },
     "execution_count": 5,
     "metadata": {},
     "output_type": "execute_result"
    }
   ],
   "source": [
    "df.head()"
   ]
  },
  {
   "cell_type": "markdown",
   "metadata": {},
   "source": [
    "First off, we plot the output rows to observe the class distribution. There's a lot of imbalance here. Classes 3, 4, and 8 have a very few number of samples. \n",
    "\n",
    "We will not treat the output variables as classes here because we're performing regression. We will convert output column, which is all integers, to float values.\n"
   ]
  },
  {
   "cell_type": "code",
   "execution_count": 6,
   "metadata": {},
   "outputs": [
    {
     "data": {
      "text/plain": [
       "<matplotlib.axes._subplots.AxesSubplot at 0x7f5564a0a080>"
      ]
     },
     "execution_count": 6,
     "metadata": {},
     "output_type": "execute_result"
    },
    {
     "data": {
      "image/png": "[encoded data removed]",
      "text/plain": [
       "<Figure size 432x288 with 1 Axes>"
      ]
     },
     "metadata": {},
     "output_type": "display_data"
    }
   ],
   "source": [
    "sns.countplot(x = 'quality', data=df)"
   ]
  },
  {
   "cell_type": "markdown",
   "metadata": {},
   "source": [
    "In order to split our data into train, validation, and test sets, we need to separate out our inputs and outputs. \n",
    "\n",
    "Input X is all but the last column. Output y is the last column."
   ]
  },
  {
   "cell_type": "code",
   "execution_count": 7,
   "metadata": {},
   "outputs": [],
   "source": [
    "X = df.iloc[:, 0:-1]\n",
    "y = df.iloc[:, -1]"
   ]
  },
  {
   "cell_type": "markdown",
   "metadata": {},
   "source": [
    "## Train - Validation - Test"
   ]
  },
  {
   "cell_type": "markdown",
   "metadata": {},
   "source": [
    "To create the train-val-test split, we'll use `train_test_split()` from Sklearn. \n",
    "\n",
    "First we'll split our data into `train+val` and `test` sets. Then, we'll further split our `train+val` set to create our `train` and `val` sets. \n",
    "\n",
    "Because there's a \"class\" imbalance, we want to have equal distribution of all output classes in our train, validation, and test sets.\n",
    "\n",
    "To do that, we use the `stratify` option in function `train_test_split()`.\n",
    "\n",
    "Remember that stratification only works with classes, not numbers. So, in general, we can bin our numbers into classes using quartiles, deciles, histogram(`np.histogram()`) and so on. So, you would have to create a new dataframe which contains the output and it's \"class\". This \"class\" was obtained using the above mentioned methods.\n",
    "\n",
    "In our case, let's use the numbers as is because they are already _like_ classes. After we split our data, we can convert the output to float (because regression).\n"
   ]
  },
  {
   "cell_type": "code",
   "execution_count": 8,
   "metadata": {},
   "outputs": [],
   "source": [
    "# Train - Test\n",
    "X_trainval, X_test, y_trainval, y_test = train_test_split(X, y, test_size=0.2, stratify=y, random_state=69)\n",
    "\n",
    "# Split train into train-val\n",
    "X_train, X_val, y_train, y_val = train_test_split(X_trainval, y_trainval, test_size=0.1, stratify=y_trainval, random_state=21)"
   ]
  },
  {
   "cell_type": "markdown",
   "metadata": {},
   "source": [
    "Neural networks need data that lies between the range of (0,1). There's a ton of material available online on why we need to do it. \n",
    "\n",
    "To scale our values, we'll use the `MinMaxScaler()` from Sklearn. The `MinMaxScaler` transforms features by scaling each feature to a given range which is (0,1) in our case.\n",
    "\n",
    ">     x_scaled = (x-min(x)) / (max(x)–min(x))\n",
    "\n",
    "Notice that we use `.fit_transform()` on `X_train` while we use `.transform()` on `X_val` and `X_test`. \n",
    "\n",
    "We do this because we want to scale the validation and test set with the same parameters as that of the train set to avoid data leakage. `fit_transform` calculates scaling values and applies them while `.transform` only applies the calculated values."
   ]
  },
  {
   "cell_type": "code",
   "execution_count": 9,
   "metadata": {},
   "outputs": [],
   "source": [
    "scaler = MinMaxScaler()\n",
    "X_train = scaler.fit_transform(X_train)\n",
    "X_val = scaler.transform(X_val)\n",
    "X_test = scaler.transform(X_test)"
   ]
  },
  {
   "cell_type": "code",
   "execution_count": 10,
   "metadata": {},
   "outputs": [],
   "source": [
    "X_train, y_train = np.array(X_train), np.array(y_train)\n",
    "X_val, y_val = np.array(X_val), np.array(y_val)\n",
    "X_test, y_test = np.array(X_test), np.array(y_test)"
   ]
  },
  {
   "cell_type": "markdown",
   "metadata": {},
   "source": [
    "### Visualize Class Distribution in Train, Val, and Test"
   ]
  },
  {
   "cell_type": "markdown",
   "metadata": {},
   "source": [
    "Once we've split our data into train, validation, and test sets, let's make sure the distribution of classes is equal in all three sets.\n",
    "\n",
    "To do that, let's create a function called `get_class_distribution()`.\n",
    "This function takes as input the obj `y` , ie. `y_train`, `y_val`, or `y_test`. Inside the function, we initialize a dictionary which contains the output classes as keys and their count as values. The counts are all initialized to 0. \n",
    "\n",
    "We then loop through our `y` object and update our dictionary."
   ]
  },
  {
   "cell_type": "code",
   "execution_count": 11,
   "metadata": {},
   "outputs": [],
   "source": [
    "def get_class_distribution(obj):\n",
    "    count_dict = {\n",
    "        \"rating_3\": 0,\n",
    "        \"rating_4\": 0,\n",
    "        \"rating_5\": 0,\n",
    "        \"rating_6\": 0,\n",
    "        \"rating_7\": 0,\n",
    "        \"rating_8\": 0,\n",
    "    }\n",
    "    \n",
    "    for i in obj:\n",
    "        if i == 3: \n",
    "            count_dict['rating_3'] += 1\n",
    "        elif i == 4: \n",
    "            count_dict['rating_4'] += 1\n",
    "        elif i == 5: \n",
    "            count_dict['rating_5'] += 1\n",
    "        elif i == 6: \n",
    "            count_dict['rating_6'] += 1\n",
    "        elif i == 7: \n",
    "            count_dict['rating_7'] += 1  \n",
    "        elif i == 8: \n",
    "            count_dict['rating_8'] += 1              \n",
    "        else:\n",
    "            print(\"Check classes.\")\n",
    "            \n",
    "    return count_dict"
   ]
  },
  {
   "cell_type": "markdown",
   "metadata": {},
   "source": [
    "Once we have the dictionary count, we use Seaborn library to plot the bar charts.\n",
    "\n",
    "The make the plot, we first convert our dictionary to a dataframe using `pd.DataFrame.from_dict([get_class_distribution(y_train)])`.\n",
    "\n",
    "Subsequently, we `.melt()` our convert our dataframe into the `long` format and finally use `sns.barplot()` to build the plots."
   ]
  },
  {
   "cell_type": "code",
   "execution_count": 12,
   "metadata": {},
   "outputs": [
    {
     "name": "stdout",
     "output_type": "stream",
     "text": [
      "Train: {'rating_3': 7, 'rating_4': 38, 'rating_5': 490, 'rating_6': 459, 'rating_7': 143, 'rating_8': 14}\n",
      "Test : {'rating_3': 2, 'rating_4': 11, 'rating_5': 136, 'rating_6': 128, 'rating_7': 40, 'rating_8': 3}\n",
      "Val  : {'rating_3': 1, 'rating_4': 4, 'rating_5': 55, 'rating_6': 51, 'rating_7': 16, 'rating_8': 1}\n"
     ]
    }
   ],
   "source": [
    "print(\"Train:\", get_class_distribution(y_train))\n",
    "print(\"Test :\", get_class_distribution(y_test))\n",
    "print(\"Val  :\", get_class_distribution(y_val))"
   ]
  },
  {
   "cell_type": "code",
   "execution_count": 13,
   "metadata": {},
   "outputs": [
    {
     "data": {
      "text/plain": [
       "Text(0.5, 1.0, 'Class Distribution in Test Set')"
      ]
     },
     "execution_count": 13,
     "metadata": {},
     "output_type": "execute_result"
    },
    {
     "data": {
      "image/png": "[encoded data removed]",
      "text/plain": [
       "<Figure size 1800x504 with 3 Axes>"
      ]
     },
     "metadata": {},
     "output_type": "display_data"
    }
   ],
   "source": [
    "fig, axes = plt.subplots(nrows=1, ncols=3, figsize=(25,7))\n",
    "\n",
    "sns.barplot(data = pd.DataFrame.from_dict([get_class_distribution(y_train)]).melt(), x = \"variable\", y=\"value\", hue=\"variable\",  ax=axes[0]).set_title('Class Distribution in Train Set')\n",
    "sns.barplot(data = pd.DataFrame.from_dict([get_class_distribution(y_val)]).melt(), x = \"variable\", y=\"value\", hue=\"variable\",  ax=axes[1]).set_title('Class Distribution in Val Set')\n",
    "sns.barplot(data = pd.DataFrame.from_dict([get_class_distribution(y_test)]).melt(), x = \"variable\", y=\"value\", hue=\"variable\",  ax=axes[2]).set_title('Class Distribution in Test Set')"
   ]
  },
  {
   "cell_type": "markdown",
   "metadata": {},
   "source": [
    "Convert output to `float`."
   ]
  },
  {
   "cell_type": "code",
   "execution_count": 14,
   "metadata": {},
   "outputs": [],
   "source": [
    "y_train, y_test, y_val = y_train.astype(float), y_test.astype(float), y_val.astype(float)"
   ]
  },
  {
   "cell_type": "markdown",
   "metadata": {},
   "source": [
    "## Neural Network"
   ]
  },
  {
   "cell_type": "markdown",
   "metadata": {},
   "source": [
    "### Define custom dataset"
   ]
  },
  {
   "cell_type": "code",
   "execution_count": 15,
   "metadata": {},
   "outputs": [],
   "source": [
    "class RegressionDataset(Dataset):\n",
    "    \n",
    "    def __init__(self, X_data, y_data):\n",
    "        self.X_data = X_data\n",
    "        self.y_data = y_data\n",
    "        \n",
    "    def __getitem__(self, index):\n",
    "        return self.X_data[index], self.y_data[index]\n",
    "        \n",
    "    def __len__ (self):\n",
    "        return len(self.X_data)\n",
    "\n",
    "\n",
    "train_dataset = RegressionDataset(torch.from_numpy(X_train).float(), torch.from_numpy(y_train).float())\n",
    "val_dataset = RegressionDataset(torch.from_numpy(X_val).float(), torch.from_numpy(y_val).float())\n",
    "test_dataset = RegressionDataset(torch.from_numpy(X_test).float(), torch.from_numpy(y_test).float())"
   ]
  },
  {
   "cell_type": "markdown",
   "metadata": {},
   "source": [
    "### Model Params\n",
    "\n",
    "Before we proceed any further, let's define a few parameters that we'll use down the line."
   ]
  },
  {
   "cell_type": "code",
   "execution_count": 16,
   "metadata": {},
   "outputs": [],
   "source": [
    "EPOCHS = 150\n",
    "BATCH_SIZE = 64\n",
    "LEARNING_RATE = 0.001\n",
    "\n",
    "NUM_FEATURES = len(X.columns)"
   ]
  },
  {
   "cell_type": "markdown",
   "metadata": {},
   "source": [
    "### Define Data Loader"
   ]
  },
  {
   "cell_type": "code",
   "execution_count": 17,
   "metadata": {},
   "outputs": [],
   "source": [
    "train_loader = DataLoader(dataset=train_dataset, batch_size=BATCH_SIZE, shuffle=True)\n",
    "val_loader = DataLoader(dataset=val_dataset, batch_size=1)\n",
    "test_loader = DataLoader(dataset=test_dataset, batch_size=1)"
   ]
  },
  {
   "cell_type": "markdown",
   "metadata": {},
   "source": [
    "### Define Neural Network Architecture"
   ]
  },
  {
   "cell_type": "code",
   "execution_count": 18,
   "metadata": {},
   "outputs": [],
   "source": [
    "class MultipleRegression(nn.Module):\n",
    "    def __init__(self, num_features):\n",
    "        super(MultipleRegression, self).__init__()\n",
    "        \n",
    "        self.layer_1 = nn.Linear(num_features, 16)\n",
    "        self.layer_2 = nn.Linear(16, 32)\n",
    "        self.layer_3 = nn.Linear(32, 16)\n",
    "        self.layer_out = nn.Linear(16, 1)\n",
    "        \n",
    "        self.relu = nn.ReLU()\n",
    "\n",
    "    def forward(self, inputs):\n",
    "        x = self.relu(self.layer_1(inputs))\n",
    "        x = self.relu(self.layer_2(x))\n",
    "        x = self.relu(self.layer_3(x))\n",
    "        x = self.layer_out(x)\n",
    "\n",
    "        \n",
    "        return (x)\n",
    "\n",
    "    def predict(self, test_inputs):\n",
    "        x = self.relu(self.layer_1(test_inputs))\n",
    "        x = self.relu(self.layer_2(x))\n",
    "        x = self.relu(self.layer_3(x))\n",
    "        x = self.layer_out(x)\n",
    "\n",
    "        \n",
    "        return (x)        "
   ]
  },
  {
   "cell_type": "markdown",
   "metadata": {},
   "source": [
    "### Check for GPU"
   ]
  },
  {
   "cell_type": "code",
   "execution_count": 19,
   "metadata": {},
   "outputs": [
    {
     "name": "stdout",
     "output_type": "stream",
     "text": [
      "cuda:0\n"
     ]
    }
   ],
   "source": [
    "device = torch.device(\"cuda:0\" if torch.cuda.is_available() else \"cpu\")\n",
    "print(device)"
   ]
  },
  {
   "cell_type": "markdown",
   "metadata": {},
   "source": [
    "Initialize the model, optimizer, and loss function. Transfer the model to GPU.\n",
    "\n",
    "We are using the Mean Squared Error loss."
   ]
  },
  {
   "cell_type": "code",
   "execution_count": 20,
   "metadata": {},
   "outputs": [
    {
     "name": "stdout",
     "output_type": "stream",
     "text": [
      "MultipleRegression(\n",
      "  (layer_1): Linear(in_features=11, out_features=16, bias=True)\n",
      "  (layer_2): Linear(in_features=16, out_features=32, bias=True)\n",
      "  (layer_3): Linear(in_features=32, out_features=16, bias=True)\n",
      "  (layer_out): Linear(in_features=16, out_features=1, bias=True)\n",
      "  (relu): ReLU()\n",
      ")\n"
     ]
    }
   ],
   "source": [
    "model = MultipleRegression(NUM_FEATURES)\n",
    "model.to(device)\n",
    "\n",
    "print(model)\n",
    "\n",
    "criterion = nn.MSELoss()\n",
    "optimizer = optim.Adam(model.parameters(), lr=LEARNING_RATE)"
   ]
  },
  {
   "cell_type": "markdown",
   "metadata": {},
   "source": [
    "### Train"
   ]
  },
  {
   "cell_type": "markdown",
   "metadata": {},
   "source": [
    "Before we start our training, let's define a dictionaries which will store the loss/epoch for both train and validation sets."
   ]
  },
  {
   "cell_type": "code",
   "execution_count": 21,
   "metadata": {},
   "outputs": [],
   "source": [
    "loss_stats = {\n",
    "    'train': [],\n",
    "    \"val\": []\n",
    "}"
   ]
  },
  {
   "cell_type": "markdown",
   "metadata": {},
   "source": [
    "You can see we've put a model.train() at the before the loop. `model.train()` tells PyTorch that you're in training mode. Well, why do we need to do that? If you're using layers such as `Dropout` or `BatchNorm` which behave differently during training and evaluation (for eample; not use dropout during evalualtion), you need to tell PyTorch to act accordingly. While the default mode in PyTorch is the train, so, you don't explicitly have to write that. But it's good practice.\n",
    "\n",
    "Similarly, we'll call `model.eval()` when we test our model. We'll see that below. Back to training; we start a _for-loop_. At the top of this _for-loop_, we initialize our `loss` and per epoch to 0. After every epoch, we'll print out the loss and reset it back to 0.\n",
    "\n",
    "Then we have another _for-loop_. This _for-loop_ is used to get our data in batches from the `train_loader`.\n",
    "\n",
    "We do `optimizer.zero_grad()` before we make any predictions. Since the `backward()` function accumulates gradients, we need to set it to 0 manually per mini-batch. From our defined model, we then obtain a prediction, get the loss for that mini-batch, perform backpropagation using `loss.backward()` and `optimizer.step()`.  Finally, we add all the mini-batch losses to obtain the average loss for that epoch. We add up all the losses for each minibatch and finally divide it by the number of minibatches ie. length of trainloader to obtain the average loss/accuracy per epoch.\n",
    "\n",
    "The procedure we follow for training is the exact same for validation except for the fact that we wrap it up in torch.no_grad and not perform any backpropagation. `torch.no_grad()` tells PyTorch that we do not want to perform back-propagation, which reduces memory usage and speeds up computation."
   ]
  },
  {
   "cell_type": "code",
   "execution_count": 22,
   "metadata": {},
   "outputs": [
    {
     "name": "stdout",
     "output_type": "stream",
     "text": [
      "Begin training.\n"
     ]
    },
    {
     "data": {
      "application/vnd.jupyter.widget-view+json": {
       "model_id": "d608f36730b74c118ee84ff295d3adc6",
       "version_major": 2,
       "version_minor": 0
      },
      "text/plain": [
       "HBox(children=(FloatProgress(value=0.0, max=150.0), HTML(value='')))"
      ]
     },
     "metadata": {},
     "output_type": "display_data"
    },
    {
     "name": "stdout",
     "output_type": "stream",
     "text": [
      "Epoch 001: | Train Loss: 31.22514 | Val Loss: 30.50931\n",
      "Epoch 002: | Train Loss: 30.02529 | Val Loss: 28.97327\n",
      "Epoch 003: | Train Loss: 27.88010 | Val Loss: 25.89581\n",
      "Epoch 004: | Train Loss: 23.50889 | Val Loss: 19.79879\n",
      "Epoch 005: | Train Loss: 15.56384 | Val Loss: 9.91873\n",
      "Epoch 006: | Train Loss: 5.49825 | Val Loss: 1.64401\n",
      "Epoch 007: | Train Loss: 1.04008 | Val Loss: 1.23942\n",
      "Epoch 008: | Train Loss: 0.92445 | Val Loss: 0.94137\n",
      "Epoch 009: | Train Loss: 0.82020 | Val Loss: 0.91441\n",
      "Epoch 010: | Train Loss: 0.80620 | Val Loss: 0.89953\n",
      "Epoch 011: | Train Loss: 0.79084 | Val Loss: 0.87788\n",
      "Epoch 012: | Train Loss: 0.77065 | Val Loss: 0.84902\n",
      "Epoch 013: | Train Loss: 0.75632 | Val Loss: 0.83048\n",
      "Epoch 014: | Train Loss: 0.74059 | Val Loss: 0.81050\n",
      "Epoch 015: | Train Loss: 0.72692 | Val Loss: 0.78730\n",
      "Epoch 016: | Train Loss: 0.71349 | Val Loss: 0.76783\n",
      "Epoch 017: | Train Loss: 0.69864 | Val Loss: 0.74767\n",
      "Epoch 018: | Train Loss: 0.68463 | Val Loss: 0.73214\n",
      "Epoch 019: | Train Loss: 0.67153 | Val Loss: 0.71117\n",
      "Epoch 020: | Train Loss: 0.66022 | Val Loss: 0.69258\n",
      "Epoch 021: | Train Loss: 0.64778 | Val Loss: 0.67628\n",
      "Epoch 022: | Train Loss: 0.63795 | Val Loss: 0.66191\n",
      "Epoch 023: | Train Loss: 0.62626 | Val Loss: 0.64431\n",
      "Epoch 024: | Train Loss: 0.61707 | Val Loss: 0.63473\n",
      "Epoch 025: | Train Loss: 0.60827 | Val Loss: 0.61625\n",
      "Epoch 026: | Train Loss: 0.59984 | Val Loss: 0.60491\n",
      "Epoch 027: | Train Loss: 0.59106 | Val Loss: 0.59477\n",
      "Epoch 028: | Train Loss: 0.58194 | Val Loss: 0.58011\n",
      "Epoch 029: | Train Loss: 0.57390 | Val Loss: 0.57055\n",
      "Epoch 030: | Train Loss: 0.56622 | Val Loss: 0.55829\n",
      "Epoch 031: | Train Loss: 0.56011 | Val Loss: 0.54756\n",
      "Epoch 032: | Train Loss: 0.55503 | Val Loss: 0.53743\n",
      "Epoch 033: | Train Loss: 0.54828 | Val Loss: 0.52843\n",
      "Epoch 034: | Train Loss: 0.54292 | Val Loss: 0.52407\n",
      "Epoch 035: | Train Loss: 0.53732 | Val Loss: 0.51333\n",
      "Epoch 036: | Train Loss: 0.53243 | Val Loss: 0.50852\n",
      "Epoch 037: | Train Loss: 0.52698 | Val Loss: 0.49884\n",
      "Epoch 038: | Train Loss: 0.52221 | Val Loss: 0.49101\n",
      "Epoch 039: | Train Loss: 0.51811 | Val Loss: 0.48519\n",
      "Epoch 040: | Train Loss: 0.51448 | Val Loss: 0.47893\n",
      "Epoch 041: | Train Loss: 0.51142 | Val Loss: 0.47337\n",
      "Epoch 042: | Train Loss: 0.51351 | Val Loss: 0.47232\n",
      "Epoch 043: | Train Loss: 0.50640 | Val Loss: 0.47184\n",
      "Epoch 044: | Train Loss: 0.50456 | Val Loss: 0.45956\n",
      "Epoch 045: | Train Loss: 0.49879 | Val Loss: 0.45559\n",
      "Epoch 046: | Train Loss: 0.49514 | Val Loss: 0.45500\n",
      "Epoch 047: | Train Loss: 0.49177 | Val Loss: 0.44764\n",
      "Epoch 048: | Train Loss: 0.49258 | Val Loss: 0.44384\n",
      "Epoch 049: | Train Loss: 0.48805 | Val Loss: 0.44231\n",
      "Epoch 050: | Train Loss: 0.48407 | Val Loss: 0.43872\n",
      "Epoch 051: | Train Loss: 0.48262 | Val Loss: 0.43476\n",
      "Epoch 052: | Train Loss: 0.48118 | Val Loss: 0.43519\n",
      "Epoch 053: | Train Loss: 0.48124 | Val Loss: 0.44383\n",
      "Epoch 054: | Train Loss: 0.48742 | Val Loss: 0.45150\n",
      "Epoch 055: | Train Loss: 0.48457 | Val Loss: 0.42622\n",
      "Epoch 056: | Train Loss: 0.48407 | Val Loss: 0.42693\n",
      "Epoch 057: | Train Loss: 0.47512 | Val Loss: 0.42958\n",
      "Epoch 058: | Train Loss: 0.47233 | Val Loss: 0.43148\n",
      "Epoch 059: | Train Loss: 0.47521 | Val Loss: 0.41728\n",
      "Epoch 060: | Train Loss: 0.46948 | Val Loss: 0.41547\n",
      "Epoch 061: | Train Loss: 0.46600 | Val Loss: 0.41613\n",
      "Epoch 062: | Train Loss: 0.46293 | Val Loss: 0.41825\n",
      "Epoch 063: | Train Loss: 0.46599 | Val Loss: 0.41243\n",
      "Epoch 064: | Train Loss: 0.46019 | Val Loss: 0.41030\n",
      "Epoch 065: | Train Loss: 0.45841 | Val Loss: 0.41372\n",
      "Epoch 066: | Train Loss: 0.46085 | Val Loss: 0.41268\n",
      "Epoch 067: | Train Loss: 0.45797 | Val Loss: 0.40651\n",
      "Epoch 068: | Train Loss: 0.45755 | Val Loss: 0.41276\n",
      "Epoch 069: | Train Loss: 0.45500 | Val Loss: 0.40794\n",
      "Epoch 070: | Train Loss: 0.45400 | Val Loss: 0.40779\n",
      "Epoch 071: | Train Loss: 0.45288 | Val Loss: 0.40264\n",
      "Epoch 072: | Train Loss: 0.45386 | Val Loss: 0.41614\n",
      "Epoch 073: | Train Loss: 0.45120 | Val Loss: 0.40299\n",
      "Epoch 074: | Train Loss: 0.44903 | Val Loss: 0.40067\n",
      "Epoch 075: | Train Loss: 0.44752 | Val Loss: 0.40343\n",
      "Epoch 076: | Train Loss: 0.44693 | Val Loss: 0.40148\n",
      "Epoch 077: | Train Loss: 0.44762 | Val Loss: 0.40187\n",
      "Epoch 078: | Train Loss: 0.44434 | Val Loss: 0.39994\n",
      "Epoch 079: | Train Loss: 0.45091 | Val Loss: 0.39505\n",
      "Epoch 080: | Train Loss: 0.44754 | Val Loss: 0.39814\n",
      "Epoch 081: | Train Loss: 0.44755 | Val Loss: 0.42153\n",
      "Epoch 082: | Train Loss: 0.44392 | Val Loss: 0.39315\n",
      "Epoch 083: | Train Loss: 0.44129 | Val Loss: 0.39283\n",
      "Epoch 084: | Train Loss: 0.44670 | Val Loss: 0.39188\n",
      "Epoch 085: | Train Loss: 0.44103 | Val Loss: 0.39254\n",
      "Epoch 086: | Train Loss: 0.43861 | Val Loss: 0.39032\n",
      "Epoch 087: | Train Loss: 0.43828 | Val Loss: 0.39023\n",
      "Epoch 088: | Train Loss: 0.43501 | Val Loss: 0.40735\n",
      "Epoch 089: | Train Loss: 0.44119 | Val Loss: 0.38908\n",
      "Epoch 090: | Train Loss: 0.44768 | Val Loss: 0.39406\n",
      "Epoch 091: | Train Loss: 0.44110 | Val Loss: 0.38869\n",
      "Epoch 092: | Train Loss: 0.43553 | Val Loss: 0.39613\n",
      "Epoch 093: | Train Loss: 0.43844 | Val Loss: 0.38726\n",
      "Epoch 094: | Train Loss: 0.44239 | Val Loss: 0.39037\n",
      "Epoch 095: | Train Loss: 0.43716 | Val Loss: 0.38543\n",
      "Epoch 096: | Train Loss: 0.43499 | Val Loss: 0.38963\n",
      "Epoch 097: | Train Loss: 0.43207 | Val Loss: 0.38444\n",
      "Epoch 098: | Train Loss: 0.43109 | Val Loss: 0.38385\n",
      "Epoch 099: | Train Loss: 0.43060 | Val Loss: 0.38359\n",
      "Epoch 100: | Train Loss: 0.43442 | Val Loss: 0.38504\n",
      "Epoch 101: | Train Loss: 0.43143 | Val Loss: 0.38296\n",
      "Epoch 102: | Train Loss: 0.43116 | Val Loss: 0.38241\n",
      "Epoch 103: | Train Loss: 0.43057 | Val Loss: 0.38214\n",
      "Epoch 104: | Train Loss: 0.43077 | Val Loss: 0.38061\n",
      "Epoch 105: | Train Loss: 0.42879 | Val Loss: 0.38397\n",
      "Epoch 106: | Train Loss: 0.42871 | Val Loss: 0.37984\n",
      "Epoch 107: | Train Loss: 0.42836 | Val Loss: 0.38012\n",
      "Epoch 108: | Train Loss: 0.42903 | Val Loss: 0.38156\n",
      "Epoch 109: | Train Loss: 0.42778 | Val Loss: 0.38634\n",
      "Epoch 110: | Train Loss: 0.42674 | Val Loss: 0.37924\n",
      "Epoch 111: | Train Loss: 0.42789 | Val Loss: 0.37847\n",
      "Epoch 112: | Train Loss: 0.42681 | Val Loss: 0.37749\n",
      "Epoch 113: | Train Loss: 0.42851 | Val Loss: 0.38055\n",
      "Epoch 114: | Train Loss: 0.42490 | Val Loss: 0.37973\n",
      "Epoch 115: | Train Loss: 0.42674 | Val Loss: 0.38806\n",
      "Epoch 116: | Train Loss: 0.42652 | Val Loss: 0.38673\n",
      "Epoch 117: | Train Loss: 0.42969 | Val Loss: 0.38440\n",
      "Epoch 118: | Train Loss: 0.42557 | Val Loss: 0.37797\n",
      "Epoch 119: | Train Loss: 0.42510 | Val Loss: 0.38110\n",
      "Epoch 120: | Train Loss: 0.43000 | Val Loss: 0.37662\n",
      "Epoch 121: | Train Loss: 0.42746 | Val Loss: 0.38886\n",
      "Epoch 122: | Train Loss: 0.43162 | Val Loss: 0.41257\n",
      "Epoch 123: | Train Loss: 0.42894 | Val Loss: 0.37682\n",
      "Epoch 124: | Train Loss: 0.42631 | Val Loss: 0.37738\n",
      "Epoch 125: | Train Loss: 0.42656 | Val Loss: 0.37455\n",
      "Epoch 126: | Train Loss: 0.42494 | Val Loss: 0.37579\n",
      "Epoch 127: | Train Loss: 0.42328 | Val Loss: 0.37474\n",
      "Epoch 128: | Train Loss: 0.42322 | Val Loss: 0.37528\n",
      "Epoch 129: | Train Loss: 0.42403 | Val Loss: 0.37493\n",
      "Epoch 130: | Train Loss: 0.42455 | Val Loss: 0.37453\n",
      "Epoch 131: | Train Loss: 0.42369 | Val Loss: 0.37482\n",
      "Epoch 132: | Train Loss: 0.42457 | Val Loss: 0.37472\n",
      "Epoch 133: | Train Loss: 0.42284 | Val Loss: 0.37305\n",
      "Epoch 134: | Train Loss: 0.42305 | Val Loss: 0.37587\n",
      "Epoch 135: | Train Loss: 0.42720 | Val Loss: 0.37251\n",
      "Epoch 136: | Train Loss: 0.42148 | Val Loss: 0.37291\n",
      "Epoch 137: | Train Loss: 0.42141 | Val Loss: 0.37817\n",
      "Epoch 138: | Train Loss: 0.42059 | Val Loss: 0.37878\n",
      "Epoch 139: | Train Loss: 0.42616 | Val Loss: 0.40391\n",
      "Epoch 140: | Train Loss: 0.43458 | Val Loss: 0.37581\n",
      "Epoch 141: | Train Loss: 0.42077 | Val Loss: 0.37377\n",
      "Epoch 142: | Train Loss: 0.42617 | Val Loss: 0.37054\n",
      "Epoch 143: | Train Loss: 0.42118 | Val Loss: 0.37320\n",
      "Epoch 144: | Train Loss: 0.41955 | Val Loss: 0.37002\n",
      "Epoch 145: | Train Loss: 0.42189 | Val Loss: 0.37150\n",
      "Epoch 146: | Train Loss: 0.42040 | Val Loss: 0.37184\n",
      "Epoch 147: | Train Loss: 0.41964 | Val Loss: 0.37206\n",
      "Epoch 148: | Train Loss: 0.42163 | Val Loss: 0.38333\n",
      "Epoch 149: | Train Loss: 0.42277 | Val Loss: 0.37748\n",
      "Epoch 150: | Train Loss: 0.42012 | Val Loss: 0.37028\n",
      "\n"
     ]
    }
   ],
   "source": [
    "print(\"Begin training.\")\n",
    "\n",
    "for e in tqdm(range(1, EPOCHS+1)):\n",
    "    \n",
    "    # TRAINING\n",
    "    train_epoch_loss = 0\n",
    "\n",
    "    model.train()\n",
    "    for X_train_batch, y_train_batch in train_loader:\n",
    "        X_train_batch, y_train_batch = X_train_batch.to(device), y_train_batch.to(device)\n",
    "        optimizer.zero_grad()\n",
    "        \n",
    "        y_train_pred = model(X_train_batch)\n",
    "        \n",
    "        train_loss = criterion(y_train_pred, y_train_batch.unsqueeze(1))\n",
    "        \n",
    "        train_loss.backward()\n",
    "        optimizer.step()\n",
    "        \n",
    "        train_epoch_loss += train_loss.item()\n",
    "        \n",
    "        \n",
    "    # VALIDATION    \n",
    "    with torch.no_grad():\n",
    "        \n",
    "        val_epoch_loss = 0\n",
    "        \n",
    "        model.eval()\n",
    "        for X_val_batch, y_val_batch in val_loader:\n",
    "            X_val_batch, y_val_batch = X_val_batch.to(device), y_val_batch.to(device)\n",
    "            \n",
    "            y_val_pred = model(X_val_batch)\n",
    "                        \n",
    "            val_loss = criterion(y_val_pred, y_val_batch.unsqueeze(1))\n",
    "            \n",
    "            val_epoch_loss += val_loss.item()\n",
    "\n",
    "    \n",
    "        \n",
    "    loss_stats['train'].append(train_epoch_loss/len(train_loader))\n",
    "    loss_stats['val'].append(val_epoch_loss/len(val_loader))                              \n",
    "    \n",
    "    print(f'Epoch {e+0:03}: | Train Loss: {train_epoch_loss/len(train_loader):.5f} | Val Loss: {val_epoch_loss/len(val_loader):.5f}')        "
   ]
  },
  {
   "cell_type": "markdown",
   "metadata": {},
   "source": [
    "## Visualize Loss and Accuracy"
   ]
  },
  {
   "cell_type": "markdown",
   "metadata": {},
   "source": [
    "To plot the loss line plots, we again create a dataframe from the `loss_stats` dictionary."
   ]
  },
  {
   "cell_type": "code",
   "execution_count": 23,
   "metadata": {},
   "outputs": [],
   "source": [
    "train_val_loss_df = pd.DataFrame.from_dict(loss_stats).reset_index().melt(id_vars=['index']).rename(columns={\"index\":\"epochs\"})"
   ]
  },
  {
   "cell_type": "code",
   "execution_count": 24,
   "metadata": {},
   "outputs": [
    {
     "data": {
      "text/plain": [
       "Text(0.5, 1.0, 'Train-Val Loss/Epoch')"
      ]
     },
     "execution_count": 24,
     "metadata": {},
     "output_type": "execute_result"
    },
    {
     "data": {
      "image/png": "[encoded data removed]",
      "text/plain": [
       "<Figure size 1080x576 with 1 Axes>"
      ]
     },
     "metadata": {},
     "output_type": "display_data"
    }
   ],
   "source": [
    "plt.figure(figsize=(15,8))\n",
    "sns.lineplot(data=train_val_loss_df, x = \"epochs\", y=\"value\", hue=\"variable\").set_title('Train-Val Loss/Epoch')"
   ]
  },
  {
   "cell_type": "markdown",
   "metadata": {},
   "source": [
    "## Test\n",
    "\n",
    "After training is done, we need to test how our model fared. Note that we've used `model.eval()` before we run our testing code.\n",
    "To tell PyTorch that we do not want to perform back-propagation during inference, we use `torch.no_grad()`, just like we did it for the validation loop above.\n"
   ]
  },
  {
   "cell_type": "code",
   "execution_count": 25,
   "metadata": {},
   "outputs": [],
   "source": [
    "y_pred_list = []\n",
    "\n",
    "with torch.no_grad():\n",
    "    model.eval()\n",
    "    for X_batch, _ in test_loader:\n",
    "        X_batch = X_batch.to(device)\n",
    "        y_test_pred = model(X_batch)\n",
    "        y_pred_list.append(y_test_pred.cpu().numpy())"
   ]
  },
  {
   "cell_type": "code",
   "execution_count": 26,
   "metadata": {},
   "outputs": [],
   "source": [
    "y_pred_list = [a.squeeze().tolist() for a in y_pred_list]"
   ]
  },
  {
   "cell_type": "code",
   "execution_count": 27,
   "metadata": {},
   "outputs": [
    {
     "name": "stdout",
     "output_type": "stream",
     "text": [
      "Mean Squared Error : 0.40861496703609534\n",
      "R^2 : 0.36675687655886924\n"
     ]
    }
   ],
   "source": [
    "mse = mean_squared_error(y_test, y_pred_list)\n",
    "r_square = r2_score(y_test, y_pred_list)\n",
    "\n",
    "print(\"Mean Squared Error :\",mse)\n",
    "print(\"R^2 :\",r_square)"
   ]
  }
 ],
 "metadata": {
  "kernelspec": {
   "display_name": "Python 3",
   "language": "python",
   "name": "python3"
  },
  "language_info": {
   "codemirror_mode": {
    "name": "ipython",
    "version": 3
   },
   "file_extension": ".py",
   "mimetype": "text/x-python",
   "name": "python",
   "nbconvert_exporter": "python",
   "pygments_lexer": "ipython3",
   "version": "3.6.10"
  }
 },
 "nbformat": 4,
 "nbformat_minor": 4
}
