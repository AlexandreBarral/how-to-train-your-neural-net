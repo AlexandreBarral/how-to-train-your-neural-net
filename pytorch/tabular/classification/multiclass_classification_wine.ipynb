{
 "cells": [
  {
   "cell_type": "markdown",
   "metadata": {},
   "source": [
    "# Tabular - Mutliclass Classification using DNNs\n",
    "By [Akshaj Verma](https://akshajverma.com/)\n",
    "\n",
    "This notebook takes you through the implementation of multiclass classification using feedforward networks on the [wine dataset](https://www.kaggle.com/uciml/red-wine-quality-cortez-et-al-2009) using PyTorch."
   ]
  },
  {
   "cell_type": "markdown",
   "metadata": {},
   "source": [
    "We will use the wine dataset available on Kaggle. This dataset has 12 columns where the first 11 are the features and the last column is the target column. The data set has 1599 rows."
   ]
  },
  {
   "cell_type": "code",
   "execution_count": 1,
   "metadata": {},
   "outputs": [],
   "source": [
    "import numpy as np\n",
    "import pandas as pd\n",
    "import seaborn as sns\n",
    "from tqdm.notebook import tqdm\n",
    "import matplotlib.pyplot as plt\n",
    "\n",
    "import torch\n",
    "import torch.nn as nn\n",
    "import torch.optim as optim\n",
    "from torch.utils.data import Dataset, DataLoader, WeightedRandomSampler\n",
    "\n",
    "from sklearn.preprocessing import MinMaxScaler    \n",
    "from sklearn.model_selection import train_test_split\n",
    "from sklearn.metrics import confusion_matrix, classification_report"
   ]
  },
  {
   "cell_type": "code",
   "execution_count": 2,
   "metadata": {},
   "outputs": [],
   "source": [
    "torch.manual_seed(69)\n",
    "np.random.seed(21)"
   ]
  },
  {
   "cell_type": "code",
   "execution_count": 3,
   "metadata": {},
   "outputs": [
    {
     "name": "stdout",
     "output_type": "stream",
     "text": [
      "We're using cuda? True\n"
     ]
    }
   ],
   "source": [
    "%matplotlib inline\n",
    "sns.set_style('darkgrid')\n",
    "\n",
    "print(\"We're using cuda?\", torch.cuda.is_available())"
   ]
  },
  {
   "cell_type": "code",
   "execution_count": 4,
   "metadata": {},
   "outputs": [],
   "source": [
    "df = pd.read_csv(\"../../../data/tabular/classification/winequality-red.csv\")"
   ]
  },
  {
   "cell_type": "markdown",
   "metadata": {},
   "source": [
    "## Pre-processing"
   ]
  },
  {
   "cell_type": "code",
   "execution_count": 5,
   "metadata": {},
   "outputs": [
    {
     "data": {
      "text/html": [
       "<div>\n",
       "<style scoped>\n",
       "    .dataframe tbody tr th:only-of-type {\n",
       "        vertical-align: middle;\n",
       "    }\n",
       "\n",
       "    .dataframe tbody tr th {\n",
       "        vertical-align: top;\n",
       "    }\n",
       "\n",
       "    .dataframe thead th {\n",
       "        text-align: right;\n",
       "    }\n",
       "</style>\n",
       "<table border=\"1\" class=\"dataframe\">\n",
       "  <thead>\n",
       "    <tr style=\"text-align: right;\">\n",
       "      <th></th>\n",
       "      <th>fixed acidity</th>\n",
       "      <th>volatile acidity</th>\n",
       "      <th>citric acid</th>\n",
       "      <th>residual sugar</th>\n",
       "      <th>chlorides</th>\n",
       "      <th>free sulfur dioxide</th>\n",
       "      <th>total sulfur dioxide</th>\n",
       "      <th>density</th>\n",
       "      <th>pH</th>\n",
       "      <th>sulphates</th>\n",
       "      <th>alcohol</th>\n",
       "      <th>quality</th>\n",
       "    </tr>\n",
       "  </thead>\n",
       "  <tbody>\n",
       "    <tr>\n",
       "      <th>0</th>\n",
       "      <td>7.4</td>\n",
       "      <td>0.70</td>\n",
       "      <td>0.00</td>\n",
       "      <td>1.9</td>\n",
       "      <td>0.076</td>\n",
       "      <td>11.0</td>\n",
       "      <td>34.0</td>\n",
       "      <td>0.9978</td>\n",
       "      <td>3.51</td>\n",
       "      <td>0.56</td>\n",
       "      <td>9.4</td>\n",
       "      <td>5</td>\n",
       "    </tr>\n",
       "    <tr>\n",
       "      <th>1</th>\n",
       "      <td>7.8</td>\n",
       "      <td>0.88</td>\n",
       "      <td>0.00</td>\n",
       "      <td>2.6</td>\n",
       "      <td>0.098</td>\n",
       "      <td>25.0</td>\n",
       "      <td>67.0</td>\n",
       "      <td>0.9968</td>\n",
       "      <td>3.20</td>\n",
       "      <td>0.68</td>\n",
       "      <td>9.8</td>\n",
       "      <td>5</td>\n",
       "    </tr>\n",
       "    <tr>\n",
       "      <th>2</th>\n",
       "      <td>7.8</td>\n",
       "      <td>0.76</td>\n",
       "      <td>0.04</td>\n",
       "      <td>2.3</td>\n",
       "      <td>0.092</td>\n",
       "      <td>15.0</td>\n",
       "      <td>54.0</td>\n",
       "      <td>0.9970</td>\n",
       "      <td>3.26</td>\n",
       "      <td>0.65</td>\n",
       "      <td>9.8</td>\n",
       "      <td>5</td>\n",
       "    </tr>\n",
       "    <tr>\n",
       "      <th>3</th>\n",
       "      <td>11.2</td>\n",
       "      <td>0.28</td>\n",
       "      <td>0.56</td>\n",
       "      <td>1.9</td>\n",
       "      <td>0.075</td>\n",
       "      <td>17.0</td>\n",
       "      <td>60.0</td>\n",
       "      <td>0.9980</td>\n",
       "      <td>3.16</td>\n",
       "      <td>0.58</td>\n",
       "      <td>9.8</td>\n",
       "      <td>6</td>\n",
       "    </tr>\n",
       "    <tr>\n",
       "      <th>4</th>\n",
       "      <td>7.4</td>\n",
       "      <td>0.70</td>\n",
       "      <td>0.00</td>\n",
       "      <td>1.9</td>\n",
       "      <td>0.076</td>\n",
       "      <td>11.0</td>\n",
       "      <td>34.0</td>\n",
       "      <td>0.9978</td>\n",
       "      <td>3.51</td>\n",
       "      <td>0.56</td>\n",
       "      <td>9.4</td>\n",
       "      <td>5</td>\n",
       "    </tr>\n",
       "  </tbody>\n",
       "</table>\n",
       "</div>"
      ],
      "text/plain": [
       "   fixed acidity  volatile acidity  citric acid  residual sugar  chlorides  \\\n",
       "0            7.4              0.70         0.00             1.9      0.076   \n",
       "1            7.8              0.88         0.00             2.6      0.098   \n",
       "2            7.8              0.76         0.04             2.3      0.092   \n",
       "3           11.2              0.28         0.56             1.9      0.075   \n",
       "4            7.4              0.70         0.00             1.9      0.076   \n",
       "\n",
       "   free sulfur dioxide  total sulfur dioxide  density    pH  sulphates  \\\n",
       "0                 11.0                  34.0   0.9978  3.51       0.56   \n",
       "1                 25.0                  67.0   0.9968  3.20       0.68   \n",
       "2                 15.0                  54.0   0.9970  3.26       0.65   \n",
       "3                 17.0                  60.0   0.9980  3.16       0.58   \n",
       "4                 11.0                  34.0   0.9978  3.51       0.56   \n",
       "\n",
       "   alcohol  quality  \n",
       "0      9.4        5  \n",
       "1      9.8        5  \n",
       "2      9.8        5  \n",
       "3      9.8        6  \n",
       "4      9.4        5  "
      ]
     },
     "execution_count": 5,
     "metadata": {},
     "output_type": "execute_result"
    }
   ],
   "source": [
    "df.head()"
   ]
  },
  {
   "cell_type": "code",
   "execution_count": 6,
   "metadata": {},
   "outputs": [
    {
     "name": "stdout",
     "output_type": "stream",
     "text": [
      "Number of rows: 1599\n"
     ]
    }
   ],
   "source": [
    "print(\"Number of rows:\", len(df))"
   ]
  },
  {
   "cell_type": "code",
   "execution_count": 7,
   "metadata": {},
   "outputs": [
    {
     "data": {
      "text/html": [
       "<div>\n",
       "<style scoped>\n",
       "    .dataframe tbody tr th:only-of-type {\n",
       "        vertical-align: middle;\n",
       "    }\n",
       "\n",
       "    .dataframe tbody tr th {\n",
       "        vertical-align: top;\n",
       "    }\n",
       "\n",
       "    .dataframe thead th {\n",
       "        text-align: right;\n",
       "    }\n",
       "</style>\n",
       "<table border=\"1\" class=\"dataframe\">\n",
       "  <thead>\n",
       "    <tr style=\"text-align: right;\">\n",
       "      <th></th>\n",
       "      <th>fixed acidity</th>\n",
       "      <th>volatile acidity</th>\n",
       "      <th>citric acid</th>\n",
       "      <th>residual sugar</th>\n",
       "      <th>chlorides</th>\n",
       "      <th>free sulfur dioxide</th>\n",
       "      <th>total sulfur dioxide</th>\n",
       "      <th>density</th>\n",
       "      <th>pH</th>\n",
       "      <th>sulphates</th>\n",
       "      <th>alcohol</th>\n",
       "      <th>quality</th>\n",
       "    </tr>\n",
       "  </thead>\n",
       "  <tbody>\n",
       "    <tr>\n",
       "      <th>count</th>\n",
       "      <td>1599.000000</td>\n",
       "      <td>1599.000000</td>\n",
       "      <td>1599.000000</td>\n",
       "      <td>1599.000000</td>\n",
       "      <td>1599.000000</td>\n",
       "      <td>1599.000000</td>\n",
       "      <td>1599.000000</td>\n",
       "      <td>1599.000000</td>\n",
       "      <td>1599.000000</td>\n",
       "      <td>1599.000000</td>\n",
       "      <td>1599.000000</td>\n",
       "      <td>1599.000000</td>\n",
       "    </tr>\n",
       "    <tr>\n",
       "      <th>mean</th>\n",
       "      <td>8.319637</td>\n",
       "      <td>0.527821</td>\n",
       "      <td>0.270976</td>\n",
       "      <td>2.538806</td>\n",
       "      <td>0.087467</td>\n",
       "      <td>15.874922</td>\n",
       "      <td>46.467792</td>\n",
       "      <td>0.996747</td>\n",
       "      <td>3.311113</td>\n",
       "      <td>0.658149</td>\n",
       "      <td>10.422983</td>\n",
       "      <td>5.636023</td>\n",
       "    </tr>\n",
       "    <tr>\n",
       "      <th>std</th>\n",
       "      <td>1.741096</td>\n",
       "      <td>0.179060</td>\n",
       "      <td>0.194801</td>\n",
       "      <td>1.409928</td>\n",
       "      <td>0.047065</td>\n",
       "      <td>10.460157</td>\n",
       "      <td>32.895324</td>\n",
       "      <td>0.001887</td>\n",
       "      <td>0.154386</td>\n",
       "      <td>0.169507</td>\n",
       "      <td>1.065668</td>\n",
       "      <td>0.807569</td>\n",
       "    </tr>\n",
       "    <tr>\n",
       "      <th>min</th>\n",
       "      <td>4.600000</td>\n",
       "      <td>0.120000</td>\n",
       "      <td>0.000000</td>\n",
       "      <td>0.900000</td>\n",
       "      <td>0.012000</td>\n",
       "      <td>1.000000</td>\n",
       "      <td>6.000000</td>\n",
       "      <td>0.990070</td>\n",
       "      <td>2.740000</td>\n",
       "      <td>0.330000</td>\n",
       "      <td>8.400000</td>\n",
       "      <td>3.000000</td>\n",
       "    </tr>\n",
       "    <tr>\n",
       "      <th>25%</th>\n",
       "      <td>7.100000</td>\n",
       "      <td>0.390000</td>\n",
       "      <td>0.090000</td>\n",
       "      <td>1.900000</td>\n",
       "      <td>0.070000</td>\n",
       "      <td>7.000000</td>\n",
       "      <td>22.000000</td>\n",
       "      <td>0.995600</td>\n",
       "      <td>3.210000</td>\n",
       "      <td>0.550000</td>\n",
       "      <td>9.500000</td>\n",
       "      <td>5.000000</td>\n",
       "    </tr>\n",
       "    <tr>\n",
       "      <th>50%</th>\n",
       "      <td>7.900000</td>\n",
       "      <td>0.520000</td>\n",
       "      <td>0.260000</td>\n",
       "      <td>2.200000</td>\n",
       "      <td>0.079000</td>\n",
       "      <td>14.000000</td>\n",
       "      <td>38.000000</td>\n",
       "      <td>0.996750</td>\n",
       "      <td>3.310000</td>\n",
       "      <td>0.620000</td>\n",
       "      <td>10.200000</td>\n",
       "      <td>6.000000</td>\n",
       "    </tr>\n",
       "    <tr>\n",
       "      <th>75%</th>\n",
       "      <td>9.200000</td>\n",
       "      <td>0.640000</td>\n",
       "      <td>0.420000</td>\n",
       "      <td>2.600000</td>\n",
       "      <td>0.090000</td>\n",
       "      <td>21.000000</td>\n",
       "      <td>62.000000</td>\n",
       "      <td>0.997835</td>\n",
       "      <td>3.400000</td>\n",
       "      <td>0.730000</td>\n",
       "      <td>11.100000</td>\n",
       "      <td>6.000000</td>\n",
       "    </tr>\n",
       "    <tr>\n",
       "      <th>max</th>\n",
       "      <td>15.900000</td>\n",
       "      <td>1.580000</td>\n",
       "      <td>1.000000</td>\n",
       "      <td>15.500000</td>\n",
       "      <td>0.611000</td>\n",
       "      <td>72.000000</td>\n",
       "      <td>289.000000</td>\n",
       "      <td>1.003690</td>\n",
       "      <td>4.010000</td>\n",
       "      <td>2.000000</td>\n",
       "      <td>14.900000</td>\n",
       "      <td>8.000000</td>\n",
       "    </tr>\n",
       "  </tbody>\n",
       "</table>\n",
       "</div>"
      ],
      "text/plain": [
       "       fixed acidity  volatile acidity  citric acid  residual sugar  \\\n",
       "count    1599.000000       1599.000000  1599.000000     1599.000000   \n",
       "mean        8.319637          0.527821     0.270976        2.538806   \n",
       "std         1.741096          0.179060     0.194801        1.409928   \n",
       "min         4.600000          0.120000     0.000000        0.900000   \n",
       "25%         7.100000          0.390000     0.090000        1.900000   \n",
       "50%         7.900000          0.520000     0.260000        2.200000   \n",
       "75%         9.200000          0.640000     0.420000        2.600000   \n",
       "max        15.900000          1.580000     1.000000       15.500000   \n",
       "\n",
       "         chlorides  free sulfur dioxide  total sulfur dioxide      density  \\\n",
       "count  1599.000000          1599.000000           1599.000000  1599.000000   \n",
       "mean      0.087467            15.874922             46.467792     0.996747   \n",
       "std       0.047065            10.460157             32.895324     0.001887   \n",
       "min       0.012000             1.000000              6.000000     0.990070   \n",
       "25%       0.070000             7.000000             22.000000     0.995600   \n",
       "50%       0.079000            14.000000             38.000000     0.996750   \n",
       "75%       0.090000            21.000000             62.000000     0.997835   \n",
       "max       0.611000            72.000000            289.000000     1.003690   \n",
       "\n",
       "                pH    sulphates      alcohol      quality  \n",
       "count  1599.000000  1599.000000  1599.000000  1599.000000  \n",
       "mean      3.311113     0.658149    10.422983     5.636023  \n",
       "std       0.154386     0.169507     1.065668     0.807569  \n",
       "min       2.740000     0.330000     8.400000     3.000000  \n",
       "25%       3.210000     0.550000     9.500000     5.000000  \n",
       "50%       3.310000     0.620000    10.200000     6.000000  \n",
       "75%       3.400000     0.730000    11.100000     6.000000  \n",
       "max       4.010000     2.000000    14.900000     8.000000  "
      ]
     },
     "execution_count": 7,
     "metadata": {},
     "output_type": "execute_result"
    }
   ],
   "source": [
    "df.describe()"
   ]
  },
  {
   "cell_type": "markdown",
   "metadata": {},
   "source": [
    "First off, we plot the output rows to observe the class distribution. There's a lot of imbalance here. Classes 3, 4, and 8 have a very few number of samples."
   ]
  },
  {
   "cell_type": "code",
   "execution_count": 8,
   "metadata": {},
   "outputs": [
    {
     "data": {
      "text/plain": [
       "<matplotlib.axes._subplots.AxesSubplot at 0x7efe490b5080>"
      ]
     },
     "execution_count": 8,
     "metadata": {},
     "output_type": "execute_result"
    },
    {
     "data": {
      "image/png": "[encoded data removed]",
      "text/plain": [
       "<Figure size 432x288 with 1 Axes>"
      ]
     },
     "metadata": {},
     "output_type": "display_data"
    }
   ],
   "source": [
    "sns.countplot(x = 'quality', data=df)"
   ]
  },
  {
   "cell_type": "markdown",
   "metadata": {},
   "source": [
    "Next, we see that the output labels are from 3 to 8. That needs to change because PyTorch supports labels starting from 0. That is [0, n]. We need to remap our labels to start from 0.\n",
    "\n",
    "\n",
    "To do that, let's create a dictionary called class2idx  and use the .replace() method from the Pandas library to change it. Let's also create a reverse mapping called idx2class which converts the IDs back to their original classes.\n",
    "\n",
    "\n",
    "To create the reverse mapping, we create a dictionary comprehension and simply reverse the key and value."
   ]
  },
  {
   "cell_type": "code",
   "execution_count": 9,
   "metadata": {},
   "outputs": [],
   "source": [
    "# PyTorch supports labels starting from 0. That is [0, n]. We need to remap our labels to start from 0.\n",
    "\n",
    "class2idx = {\n",
    "    3:0,\n",
    "    4:1,\n",
    "    5:2,\n",
    "    6:3,\n",
    "    7:4,\n",
    "    8:5\n",
    "}\n",
    "\n",
    "idx2class = {v: k for k, v in class2idx.items()}\n",
    "\n",
    "df['quality'].replace(class2idx, inplace=True)"
   ]
  },
  {
   "cell_type": "markdown",
   "metadata": {},
   "source": [
    "In order to split our data into train, validation, and test sets, we need to separate out our inputs and outputs. \n",
    "\n",
    "\n",
    "Input X is all but the last column. Output y is the last column."
   ]
  },
  {
   "cell_type": "code",
   "execution_count": 10,
   "metadata": {},
   "outputs": [],
   "source": [
    "X = df.iloc[:, 0:-1]\n",
    "y = df.iloc[:, -1]"
   ]
  },
  {
   "cell_type": "markdown",
   "metadata": {},
   "source": [
    "## Train - Validation - Test"
   ]
  },
  {
   "cell_type": "markdown",
   "metadata": {},
   "source": [
    "To create the train-val-test split, we'll use train_test_split() from Sklearn. \n",
    "\n",
    "\n",
    "First we'll split our data into train+val and test sets. Then, we'll further split our train+val set to create our train and val sets. \n",
    "\n",
    "Because there's a class imbalance, we want to have equal distribution of all output classes in our train, validation, and test sets. \n",
    "\n",
    "To do that, we use the stratify option in function train_test_split()."
   ]
  },
  {
   "cell_type": "code",
   "execution_count": 11,
   "metadata": {},
   "outputs": [],
   "source": [
    "# Train - Test\n",
    "X_trainval, X_test, y_trainval, y_test = train_test_split(X, y, test_size=0.2, stratify=y, random_state=69)\n",
    "\n",
    "# Split train into train-val\n",
    "X_train, X_val, y_train, y_val = train_test_split(X_trainval, y_trainval, test_size=0.1, stratify=y_trainval, random_state=21)"
   ]
  },
  {
   "cell_type": "markdown",
   "metadata": {},
   "source": [
    "Neural networks need data that lies between the range of (0,1). There's a ton of material available online on why we need to do it. \n",
    "\n",
    "To scale our values, we'll use the `MinMaxScaler()` from Sklearn. The `MinMaxScaler` transforms features by scaling each feature to a given range which is (0,1) in our case.\n",
    "\n",
    "\n",
    "> x_scaled = (x-min(x)) / (max(x)–min(x))\n",
    "\n",
    "\n",
    "Notice that we use `.fit_transform()` on `X_train` while we use `.transform()` on `X_val` and `X_test` . \n",
    "\n",
    "We do this because we want to scale the validation and test set with the same parameters as that of the train set to avoid data leakage. `it_transform` calculates scaling values and applies them while `.transform` only applies the calculated values."
   ]
  },
  {
   "cell_type": "code",
   "execution_count": 12,
   "metadata": {},
   "outputs": [],
   "source": [
    "scaler = MinMaxScaler()\n",
    "X_train = scaler.fit_transform(X_train)\n",
    "X_val = scaler.transform(X_val)\n",
    "X_test = scaler.transform(X_test)"
   ]
  },
  {
   "cell_type": "code",
   "execution_count": 13,
   "metadata": {},
   "outputs": [],
   "source": [
    "X_train, y_train = np.array(X_train), np.array(y_train)\n",
    "X_val, y_val = np.array(X_val), np.array(y_val)\n",
    "X_test, y_test = np.array(X_test), np.array(y_test)"
   ]
  },
  {
   "cell_type": "markdown",
   "metadata": {},
   "source": [
    "Once we've split our data into train, validation, and test sets, let's make sure the distribution of classes is equal in all three sets.\n",
    "\n",
    "To do that, let's create a function called `get_class_distribution()`.   \n",
    "This function takes as input the obj `y` , ie. `y_train`, `y_val`, or `y_test`. Inside the function, we initialize a dictionary which contains the output classes as keys and their count as values. The counts are all initialized to 0. \n",
    "\n",
    "\n",
    "We then loop through our `y` object and update our dictionary."
   ]
  },
  {
   "cell_type": "code",
   "execution_count": 14,
   "metadata": {},
   "outputs": [],
   "source": [
    "def get_class_distribution(obj):\n",
    "    count_dict = {\n",
    "        \"rating_3\": 0,\n",
    "        \"rating_4\": 0,\n",
    "        \"rating_5\": 0,\n",
    "        \"rating_6\": 0,\n",
    "        \"rating_7\": 0,\n",
    "        \"rating_8\": 0,\n",
    "    }\n",
    "    \n",
    "    for i in obj:\n",
    "        if i == 0: \n",
    "            count_dict['rating_3'] += 1\n",
    "        elif i == 1: \n",
    "            count_dict['rating_4'] += 1\n",
    "        elif i == 2: \n",
    "            count_dict['rating_5'] += 1\n",
    "        elif i == 3: \n",
    "            count_dict['rating_6'] += 1\n",
    "        elif i == 4: \n",
    "            count_dict['rating_7'] += 1  \n",
    "        elif i == 5: \n",
    "            count_dict['rating_8'] += 1              \n",
    "        else:\n",
    "            print(\"Check classes.\")\n",
    "            \n",
    "    return count_dict "
   ]
  },
  {
   "cell_type": "markdown",
   "metadata": {},
   "source": [
    "Once we have the dictionary count, we use Seaborn library to plot the bar charts. \n",
    "\n",
    "The make the plot, we first convert our dictionary to a dataframe using `pd.DataFrame.from_dict([get_class_distribution(y_train)])`. \n",
    "\n",
    "Subsequently, we `.melt()` our convert our dataframe into the long format and finally use `sns.barplot()` to build the plots."
   ]
  },
  {
   "cell_type": "code",
   "execution_count": 15,
   "metadata": {},
   "outputs": [
    {
     "name": "stdout",
     "output_type": "stream",
     "text": [
      "Train: {'rating_3': 7, 'rating_4': 38, 'rating_5': 490, 'rating_6': 459, 'rating_7': 143, 'rating_8': 14}\n",
      "Test : {'rating_3': 2, 'rating_4': 11, 'rating_5': 136, 'rating_6': 128, 'rating_7': 40, 'rating_8': 3}\n",
      "Val  : {'rating_3': 1, 'rating_4': 4, 'rating_5': 55, 'rating_6': 51, 'rating_7': 16, 'rating_8': 1}\n"
     ]
    }
   ],
   "source": [
    "print(\"Train:\", get_class_distribution(y_train))\n",
    "print(\"Test :\", get_class_distribution(y_test))\n",
    "print(\"Val  :\", get_class_distribution(y_val))"
   ]
  },
  {
   "cell_type": "code",
   "execution_count": 16,
   "metadata": {},
   "outputs": [
    {
     "data": {
      "text/plain": [
       "Text(0.5, 1.0, 'Class Distribution in Test Set')"
      ]
     },
     "execution_count": 16,
     "metadata": {},
     "output_type": "execute_result"
    },
    {
     "data": {
      "image/png": "[encoded data removed]",
      "text/plain": [
       "<Figure size 1800x504 with 3 Axes>"
      ]
     },
     "metadata": {},
     "output_type": "display_data"
    }
   ],
   "source": [
    "fig, axes = plt.subplots(nrows=1, ncols=3, figsize=(25,7))\n",
    "sns.barplot(data = pd.DataFrame.from_dict([get_class_distribution(y_train)]).melt(), x = \"variable\", y=\"value\", hue=\"variable\",  ax=axes[0]).set_title('Class Distribution in Train Set')\n",
    "sns.barplot(data = pd.DataFrame.from_dict([get_class_distribution(y_val)]).melt(), x = \"variable\", y=\"value\", hue=\"variable\",  ax=axes[1]).set_title('Class Distribution in Val Set')\n",
    "sns.barplot(data = pd.DataFrame.from_dict([get_class_distribution(y_test)]).melt(), x = \"variable\", y=\"value\", hue=\"variable\",  ax=axes[2]).set_title('Class Distribution in Test Set')"
   ]
  },
  {
   "cell_type": "markdown",
   "metadata": {},
   "source": [
    "## Neural Net"
   ]
  },
  {
   "cell_type": "markdown",
   "metadata": {},
   "source": [
    "### Define Custom Dataset"
   ]
  },
  {
   "cell_type": "markdown",
   "metadata": {},
   "source": [
    "First up, let's define a custom dataset. This dataset will be used by the dataloader to pass our data into our model.   \n",
    "We initialize our dataset by passing X and y as inputs. Make sure X is a `float` while y is `long`."
   ]
  },
  {
   "cell_type": "code",
   "execution_count": 17,
   "metadata": {},
   "outputs": [],
   "source": [
    "class ClassifierDataset(Dataset):\n",
    "    \n",
    "    def __init__(self, X_data, y_data):\n",
    "        self.X_data = X_data\n",
    "        self.y_data = y_data\n",
    "        \n",
    "    def __getitem__(self, index):\n",
    "        return self.X_data[index], self.y_data[index]\n",
    "        \n",
    "    def __len__ (self):\n",
    "        return len(self.X_data)\n",
    "\n",
    "\n",
    "train_dataset = ClassifierDataset(torch.from_numpy(X_train).float(), torch.from_numpy(y_train).long())\n",
    "val_dataset = ClassifierDataset(torch.from_numpy(X_val).float(), torch.from_numpy(y_val).long())\n",
    "test_dataset = ClassifierDataset(torch.from_numpy(X_test).float(), torch.from_numpy(y_test).long())"
   ]
  },
  {
   "cell_type": "markdown",
   "metadata": {},
   "source": [
    "### Weighted Sampling"
   ]
  },
  {
   "cell_type": "markdown",
   "metadata": {},
   "source": [
    "Because there's a class imbalance, we use stratified split to create our train, validation, and test sets.  \n",
    "\n",
    "While it helps, it still does not ensure that each mini-batch of our model see's all our classes. We need to oversample the classes with less number of values. To do that, we use the `WeightedRandomSampler`.\n",
    "\n",
    "\n",
    "First, we obtain a list called target_list which contains all our outputs. This list is then converted to a tensor and shuffled."
   ]
  },
  {
   "cell_type": "code",
   "execution_count": 18,
   "metadata": {},
   "outputs": [],
   "source": [
    "target_list = []\n",
    "\n",
    "for _, t in train_dataset:\n",
    "    target_list.append(t)\n",
    "    \n",
    "target_list = torch.tensor(target_list)\n",
    "target_list = target_list[torch.randperm(len(target_list))]"
   ]
  },
  {
   "cell_type": "markdown",
   "metadata": {},
   "source": [
    "Then, we obtain the count of all classes in our training set. We use the reciprocal of each count to obtain it's weight.   \n",
    "Now that we've calculated the weights for each class, we can proceed."
   ]
  },
  {
   "cell_type": "code",
   "execution_count": 19,
   "metadata": {},
   "outputs": [
    {
     "data": {
      "text/plain": [
       "tensor([0.1429, 0.0263, 0.0020, 0.0022, 0.0070, 0.0714])"
      ]
     },
     "execution_count": 19,
     "metadata": {},
     "output_type": "execute_result"
    }
   ],
   "source": [
    "class_count = [i for i in get_class_distribution(y_train).values()]\n",
    "class_weights = 1./torch.tensor(class_count, dtype=torch.float) \n",
    "class_weights"
   ]
  },
  {
   "cell_type": "markdown",
   "metadata": {},
   "source": [
    "`WeightedRandomSampler` expects a weight for each sample. We do that using the following command."
   ]
  },
  {
   "cell_type": "code",
   "execution_count": 20,
   "metadata": {},
   "outputs": [],
   "source": [
    "class_weights_all = class_weights[target_list]"
   ]
  },
  {
   "cell_type": "markdown",
   "metadata": {},
   "source": [
    "Finally, let's initialize our `WeightedRandomSampler`. We'll call this in our dataloader below."
   ]
  },
  {
   "cell_type": "code",
   "execution_count": 21,
   "metadata": {},
   "outputs": [],
   "source": [
    "weighted_sampler = WeightedRandomSampler(\n",
    "    weights=class_weights_all,\n",
    "    num_samples=len(class_weights_all),\n",
    "    replacement=True\n",
    ")"
   ]
  },
  {
   "cell_type": "markdown",
   "metadata": {},
   "source": [
    "### Model Params"
   ]
  },
  {
   "cell_type": "markdown",
   "metadata": {},
   "source": [
    "Before we proceed any further, let's define a few parameters that we'll use down the line."
   ]
  },
  {
   "cell_type": "code",
   "execution_count": 22,
   "metadata": {},
   "outputs": [],
   "source": [
    "EPOCHS = 400\n",
    "BATCH_SIZE = 64\n",
    "LEARNING_RATE = 0.001\n",
    "\n",
    "NUM_FEATURES = len(X.columns)\n",
    "NUM_CLASSES = 6"
   ]
  },
  {
   "cell_type": "markdown",
   "metadata": {},
   "source": [
    "### Define Dataloader"
   ]
  },
  {
   "cell_type": "markdown",
   "metadata": {},
   "source": [
    "Let's now initialize our dataloaders. \n",
    "\n",
    "For train_dataloader we'll use `batch_size = 64` and pass our sampler to it. Note that we're not using `shuffle=True` in our `train_dataloader` because we're already using a sampler. These two are mutually exclusive.\n",
    "\n",
    "For `test_dataloader` and `val_dataloader` we'll use `batch_size = 1`."
   ]
  },
  {
   "cell_type": "code",
   "execution_count": 23,
   "metadata": {},
   "outputs": [],
   "source": [
    "train_loader = DataLoader(dataset=train_dataset, batch_size=BATCH_SIZE, sampler=weighted_sampler)\n",
    "val_loader = DataLoader(dataset=val_dataset, batch_size=1)\n",
    "test_loader = DataLoader(dataset=test_dataset, batch_size=1)"
   ]
  },
  {
   "cell_type": "markdown",
   "metadata": {},
   "source": [
    "## Define Neural Net Architecture"
   ]
  },
  {
   "cell_type": "markdown",
   "metadata": {},
   "source": [
    "Let's define a simple  3-layer feedforward network with dropout and batchnorm."
   ]
  },
  {
   "cell_type": "code",
   "execution_count": 24,
   "metadata": {},
   "outputs": [],
   "source": [
    "class MulticlassClassification(nn.Module):\n",
    "    def __init__(self, num_feature, num_class):\n",
    "        super(MulticlassClassification, self).__init__()\n",
    "        \n",
    "        self.layer_1 = nn.Linear(num_feature, 512)\n",
    "        self.layer_2 = nn.Linear(512, 128)\n",
    "        self.layer_3 = nn.Linear(128, 64)\n",
    "        self.layer_out = nn.Linear(64, num_class) \n",
    "        \n",
    "        self.relu = nn.ReLU()\n",
    "        self.dropout = nn.Dropout(p=0.2)\n",
    "        self.batchnorm1 = nn.BatchNorm1d(512)\n",
    "        self.batchnorm2 = nn.BatchNorm1d(128)\n",
    "        self.batchnorm3 = nn.BatchNorm1d(64)\n",
    "        \n",
    "    def forward(self, x):\n",
    "        x = self.layer_1(x)\n",
    "        x = self.batchnorm1(x)\n",
    "        x = self.relu(x)\n",
    "        \n",
    "        x = self.layer_2(x)\n",
    "        x = self.batchnorm2(x)\n",
    "        x = self.relu(x)\n",
    "        x = self.dropout(x)\n",
    "        \n",
    "        x = self.layer_3(x)\n",
    "        x = self.batchnorm3(x)\n",
    "        x = self.relu(x)\n",
    "        x = self.dropout(x)\n",
    "        \n",
    "        x = self.layer_out(x)\n",
    "        \n",
    "        return x"
   ]
  },
  {
   "cell_type": "code",
   "execution_count": 25,
   "metadata": {},
   "outputs": [
    {
     "name": "stdout",
     "output_type": "stream",
     "text": [
      "cuda:0\n"
     ]
    }
   ],
   "source": [
    "device = torch.device(\"cuda:0\" if torch.cuda.is_available() else \"cpu\")\n",
    "print(device)"
   ]
  },
  {
   "cell_type": "markdown",
   "metadata": {},
   "source": [
    "Initialize the model, optimizer, and loss function. Transfer the model to GPU. We're using the `nn.CrossEntropyLoss` because this is multiclass classification problem.   \n",
    "\n",
    "We don't have to manually apply a `log_softmax` layer after our final layer because `nn.CrossEntropyLoss` does that for us. \n",
    "\n",
    "However, we need to apply `log_softmax` for our validation and testing."
   ]
  },
  {
   "cell_type": "code",
   "execution_count": 26,
   "metadata": {},
   "outputs": [
    {
     "name": "stdout",
     "output_type": "stream",
     "text": [
      "MulticlassClassification(\n",
      "  (layer_1): Linear(in_features=11, out_features=512, bias=True)\n",
      "  (layer_2): Linear(in_features=512, out_features=128, bias=True)\n",
      "  (layer_3): Linear(in_features=128, out_features=64, bias=True)\n",
      "  (layer_out): Linear(in_features=64, out_features=6, bias=True)\n",
      "  (relu): ReLU()\n",
      "  (dropout): Dropout(p=0.2, inplace=False)\n",
      "  (batchnorm1): BatchNorm1d(512, eps=1e-05, momentum=0.1, affine=True, track_running_stats=True)\n",
      "  (batchnorm2): BatchNorm1d(128, eps=1e-05, momentum=0.1, affine=True, track_running_stats=True)\n",
      "  (batchnorm3): BatchNorm1d(64, eps=1e-05, momentum=0.1, affine=True, track_running_stats=True)\n",
      ")\n"
     ]
    }
   ],
   "source": [
    "model = MulticlassClassification(num_feature = NUM_FEATURES, num_class=NUM_CLASSES)\n",
    "model.to(device)\n",
    "\n",
    "print(model)\n",
    "\n",
    "criterion = nn.CrossEntropyLoss(weight=class_weights.to(device))\n",
    "optimizer = optim.Adam(model.parameters(), lr=LEARNING_RATE)"
   ]
  },
  {
   "cell_type": "markdown",
   "metadata": {},
   "source": [
    "## Train "
   ]
  },
  {
   "cell_type": "markdown",
   "metadata": {},
   "source": [
    "Before we start our training, let's define a function to calculate accuracy per epoch. \n",
    "\n",
    "This function takes y_pred and y_test as input arguments. We then apply softmax to  y_pred and extract the class which has a higher probability.\n",
    "\n",
    "After that, we compare the the predicted classes and the actual classes to calculate the accuracy."
   ]
  },
  {
   "cell_type": "code",
   "execution_count": 27,
   "metadata": {},
   "outputs": [],
   "source": [
    "def multi_acc(y_pred, y_test):\n",
    "    y_pred_softmax = torch.log_softmax(y_pred, dim = 1)\n",
    "    _, y_pred_tags = torch.max(y_pred_softmax, dim = 1)    \n",
    "    \n",
    "    correct_pred = (y_pred_tags == y_test).float()\n",
    "    acc = correct_pred.sum() / len(correct_pred)\n",
    "    \n",
    "    acc = torch.round(acc) * 100\n",
    "    \n",
    "    return acc"
   ]
  },
  {
   "cell_type": "markdown",
   "metadata": {},
   "source": [
    "We'll also define 2 dictionaries which will store the accuracy/epoch and loss/epoch for both train and validation sets."
   ]
  },
  {
   "cell_type": "code",
   "execution_count": 28,
   "metadata": {},
   "outputs": [],
   "source": [
    "accuracy_stats = {\n",
    "    'train': [],\n",
    "    \"val\": []\n",
    "}\n",
    "\n",
    "loss_stats = {\n",
    "    'train': [],\n",
    "    \"val\": []\n",
    "}"
   ]
  },
  {
   "cell_type": "markdown",
   "metadata": {},
   "source": [
    "Let's TRAAAAAIN our model!  \n",
    "\n",
    "\n",
    "\n",
    "\n",
    "\n",
    "You can see we've put a model.train() at the before the loop. `model.train()` tells PyTorch that you're in training mode.\n",
    "Well, why do we need to do that? If you're using layers such as `Dropout` or `BatchNorm` which behave differently during training and evaluation (for eample; not use dropout during evalualtion), you need to tell PyTorch to act accordingly. While the default mode in PyTorch is the train, so, you don't explicitly have to write that. But it's good practice.  \n",
    "\n",
    "\n",
    "Similarly, we'll call `model.eval()` when we test our model. We'll see that below.\n",
    "Back to training; we start a for-loop. At the top of this for-loop, we initialize our loss and accuracy per epoch to 0. After every epoch, we'll print out the loss/accuracy and reset it back to 0.\n",
    "\n",
    "\n",
    "Then we have another for-loop. This for-loop is used to get our data in batches from the `train_loader`.\n",
    "\n",
    "\n",
    "We do `optimizer.zero_grad()` before we make any predictions. Since the `backward()` function accumulates gradients, we need to set it to 0 manually per mini-batch.\n",
    "From our defined model, we then obtain a prediction, get the loss(and accuracy) for that mini-batch, perform backpropagation using `loss.backward()` and `optimizer.step()`. \n",
    "Finally, we add all the mini-batch losses (and accuracies) to obtain the average loss (and accuracy) for that epoch. We add up all the losses/accuracies for each minibatch and finally divide it by the number of minibatches ie. length of trainloader to obtain the average loss/accuracy per epoch.\n",
    "\n",
    "\n",
    "The procedure we follow for training is the exact same for validation except for the fact that we wrap it up in `torch.no_grad` and not perform any backpropagation. `torch.no_grad()` tells PyTorch that we do not want to perform back-propagation, which reduces memory usage and speeds up computation."
   ]
  },
  {
   "cell_type": "code",
   "execution_count": 29,
   "metadata": {},
   "outputs": [
    {
     "name": "stdout",
     "output_type": "stream",
     "text": [
      "Begin training.\n"
     ]
    },
    {
     "data": {
      "application/vnd.jupyter.widget-view+json": {
       "model_id": "adab9b99a2514927a77cef57c6a8137c",
       "version_major": 2,
       "version_minor": 0
      },
      "text/plain": [
       "HBox(children=(FloatProgress(value=0.0, max=400.0), HTML(value='')))"
      ]
     },
     "metadata": {},
     "output_type": "display_data"
    },
    {
     "name": "stdout",
     "output_type": "stream",
     "text": [
      "Epoch 001: | Train Loss: 1.55731 | Val Loss: 1.48898 | Train Acc: 5.556| Val Acc: 0.000\n",
      "Epoch 002: | Train Loss: 1.28391 | Val Loss: 1.07831 | Train Acc: 27.778| Val Acc: 100.000\n",
      "Epoch 003: | Train Loss: 1.14020 | Val Loss: 0.94434 | Train Acc: 66.667| Val Acc: 100.000\n",
      "Epoch 004: | Train Loss: 0.98549 | Val Loss: 0.92541 | Train Acc: 66.667| Val Acc: 100.000\n",
      "Epoch 005: | Train Loss: 0.90951 | Val Loss: 1.21929 | Train Acc: 83.333| Val Acc: 100.000\n",
      "Epoch 006: | Train Loss: 0.87550 | Val Loss: 0.59302 | Train Acc: 94.444| Val Acc: 100.000\n",
      "Epoch 007: | Train Loss: 0.90416 | Val Loss: 0.91807 | Train Acc: 94.444| Val Acc: 100.000\n",
      "Epoch 008: | Train Loss: 0.84661 | Val Loss: 0.87379 | Train Acc: 100.000| Val Acc: 100.000\n",
      "Epoch 009: | Train Loss: 0.84163 | Val Loss: 0.86823 | Train Acc: 94.444| Val Acc: 100.000\n",
      "Epoch 010: | Train Loss: 0.70409 | Val Loss: 0.44907 | Train Acc: 100.000| Val Acc: 100.000\n",
      "Epoch 011: | Train Loss: 0.76849 | Val Loss: 0.58032 | Train Acc: 100.000| Val Acc: 100.000\n",
      "Epoch 012: | Train Loss: 0.73868 | Val Loss: 0.80697 | Train Acc: 100.000| Val Acc: 100.000\n",
      "Epoch 013: | Train Loss: 0.73237 | Val Loss: 0.76582 | Train Acc: 100.000| Val Acc: 100.000\n",
      "Epoch 014: | Train Loss: 0.71736 | Val Loss: 0.69532 | Train Acc: 100.000| Val Acc: 100.000\n",
      "Epoch 015: | Train Loss: 0.64406 | Val Loss: 0.69512 | Train Acc: 100.000| Val Acc: 100.000\n",
      "Epoch 016: | Train Loss: 0.60894 | Val Loss: 0.44802 | Train Acc: 100.000| Val Acc: 100.000\n",
      "Epoch 017: | Train Loss: 0.64982 | Val Loss: 0.66133 | Train Acc: 100.000| Val Acc: 100.000\n",
      "Epoch 018: | Train Loss: 0.66954 | Val Loss: 0.57770 | Train Acc: 100.000| Val Acc: 100.000\n",
      "Epoch 019: | Train Loss: 0.68551 | Val Loss: 0.58913 | Train Acc: 100.000| Val Acc: 100.000\n",
      "Epoch 020: | Train Loss: 0.60651 | Val Loss: 0.53586 | Train Acc: 100.000| Val Acc: 100.000\n",
      "Epoch 021: | Train Loss: 0.59393 | Val Loss: 0.62778 | Train Acc: 100.000| Val Acc: 100.000\n",
      "Epoch 022: | Train Loss: 0.56236 | Val Loss: 0.33542 | Train Acc: 100.000| Val Acc: 100.000\n",
      "Epoch 023: | Train Loss: 0.57441 | Val Loss: 0.68736 | Train Acc: 100.000| Val Acc: 100.000\n",
      "Epoch 024: | Train Loss: 0.58688 | Val Loss: 0.56506 | Train Acc: 100.000| Val Acc: 100.000\n",
      "Epoch 025: | Train Loss: 0.54710 | Val Loss: 0.47295 | Train Acc: 100.000| Val Acc: 100.000\n",
      "Epoch 026: | Train Loss: 0.48130 | Val Loss: 0.46156 | Train Acc: 100.000| Val Acc: 100.000\n",
      "Epoch 027: | Train Loss: 0.52696 | Val Loss: 0.27548 | Train Acc: 100.000| Val Acc: 100.000\n",
      "Epoch 028: | Train Loss: 0.68693 | Val Loss: 0.49889 | Train Acc: 100.000| Val Acc: 100.000\n",
      "Epoch 029: | Train Loss: 0.55866 | Val Loss: 0.43204 | Train Acc: 100.000| Val Acc: 100.000\n",
      "Epoch 030: | Train Loss: 0.56630 | Val Loss: 0.70100 | Train Acc: 100.000| Val Acc: 100.000\n",
      "Epoch 031: | Train Loss: 0.61141 | Val Loss: 0.38026 | Train Acc: 100.000| Val Acc: 100.000\n",
      "Epoch 032: | Train Loss: 0.47927 | Val Loss: 0.56211 | Train Acc: 100.000| Val Acc: 100.000\n",
      "Epoch 033: | Train Loss: 0.44723 | Val Loss: 0.42364 | Train Acc: 100.000| Val Acc: 100.000\n",
      "Epoch 034: | Train Loss: 0.43284 | Val Loss: 0.65988 | Train Acc: 100.000| Val Acc: 100.000\n",
      "Epoch 035: | Train Loss: 0.43658 | Val Loss: 0.36562 | Train Acc: 100.000| Val Acc: 100.000\n",
      "Epoch 036: | Train Loss: 0.44844 | Val Loss: 0.33193 | Train Acc: 100.000| Val Acc: 100.000\n",
      "Epoch 037: | Train Loss: 0.49434 | Val Loss: 0.29676 | Train Acc: 100.000| Val Acc: 100.000\n",
      "Epoch 038: | Train Loss: 0.52538 | Val Loss: 0.52075 | Train Acc: 100.000| Val Acc: 100.000\n",
      "Epoch 039: | Train Loss: 0.47833 | Val Loss: 0.56640 | Train Acc: 100.000| Val Acc: 100.000\n",
      "Epoch 040: | Train Loss: 0.51471 | Val Loss: 0.52222 | Train Acc: 100.000| Val Acc: 100.000\n",
      "Epoch 041: | Train Loss: 0.42015 | Val Loss: 0.34617 | Train Acc: 100.000| Val Acc: 100.000\n",
      "Epoch 042: | Train Loss: 0.44772 | Val Loss: 0.55186 | Train Acc: 100.000| Val Acc: 100.000\n",
      "Epoch 043: | Train Loss: 0.51288 | Val Loss: 0.37343 | Train Acc: 100.000| Val Acc: 100.000\n",
      "Epoch 044: | Train Loss: 0.49889 | Val Loss: 0.48853 | Train Acc: 100.000| Val Acc: 100.000\n",
      "Epoch 045: | Train Loss: 0.42049 | Val Loss: 0.20738 | Train Acc: 100.000| Val Acc: 100.000\n",
      "Epoch 046: | Train Loss: 0.42080 | Val Loss: 0.45462 | Train Acc: 100.000| Val Acc: 100.000\n",
      "Epoch 047: | Train Loss: 0.38570 | Val Loss: 0.35201 | Train Acc: 100.000| Val Acc: 100.000\n",
      "Epoch 048: | Train Loss: 0.43779 | Val Loss: 0.32684 | Train Acc: 100.000| Val Acc: 100.000\n",
      "Epoch 049: | Train Loss: 0.38431 | Val Loss: 0.39062 | Train Acc: 100.000| Val Acc: 100.000\n",
      "Epoch 050: | Train Loss: 0.38566 | Val Loss: 0.60279 | Train Acc: 100.000| Val Acc: 100.000\n",
      "Epoch 051: | Train Loss: 0.37840 | Val Loss: 0.18774 | Train Acc: 100.000| Val Acc: 100.000\n",
      "Epoch 052: | Train Loss: 0.39342 | Val Loss: 0.35619 | Train Acc: 100.000| Val Acc: 100.000\n",
      "Epoch 053: | Train Loss: 0.43249 | Val Loss: 0.24529 | Train Acc: 100.000| Val Acc: 100.000\n",
      "Epoch 054: | Train Loss: 0.35171 | Val Loss: 0.32934 | Train Acc: 100.000| Val Acc: 100.000\n",
      "Epoch 055: | Train Loss: 0.39678 | Val Loss: 0.55208 | Train Acc: 100.000| Val Acc: 100.000\n",
      "Epoch 056: | Train Loss: 0.37273 | Val Loss: 0.19235 | Train Acc: 100.000| Val Acc: 100.000\n",
      "Epoch 057: | Train Loss: 0.34662 | Val Loss: 0.24534 | Train Acc: 100.000| Val Acc: 100.000\n",
      "Epoch 058: | Train Loss: 0.36569 | Val Loss: 0.35855 | Train Acc: 100.000| Val Acc: 100.000\n",
      "Epoch 059: | Train Loss: 0.46119 | Val Loss: 0.33340 | Train Acc: 100.000| Val Acc: 100.000\n",
      "Epoch 060: | Train Loss: 0.35087 | Val Loss: 0.15011 | Train Acc: 100.000| Val Acc: 100.000\n",
      "Epoch 061: | Train Loss: 0.42172 | Val Loss: 0.34835 | Train Acc: 100.000| Val Acc: 100.000\n",
      "Epoch 062: | Train Loss: 0.33049 | Val Loss: 0.28220 | Train Acc: 100.000| Val Acc: 100.000\n",
      "Epoch 063: | Train Loss: 0.32369 | Val Loss: 0.20006 | Train Acc: 100.000| Val Acc: 100.000\n",
      "Epoch 064: | Train Loss: 0.29906 | Val Loss: 0.22976 | Train Acc: 100.000| Val Acc: 100.000\n",
      "Epoch 065: | Train Loss: 0.29052 | Val Loss: 0.20346 | Train Acc: 100.000| Val Acc: 100.000\n",
      "Epoch 066: | Train Loss: 0.33033 | Val Loss: 0.38665 | Train Acc: 100.000| Val Acc: 100.000\n",
      "Epoch 067: | Train Loss: 0.38990 | Val Loss: 0.48905 | Train Acc: 100.000| Val Acc: 100.000\n",
      "Epoch 068: | Train Loss: 0.40189 | Val Loss: 0.61330 | Train Acc: 100.000| Val Acc: 100.000\n",
      "Epoch 069: | Train Loss: 0.37893 | Val Loss: 0.27286 | Train Acc: 100.000| Val Acc: 100.000\n",
      "Epoch 070: | Train Loss: 0.34849 | Val Loss: 0.30147 | Train Acc: 100.000| Val Acc: 100.000\n",
      "Epoch 071: | Train Loss: 0.34646 | Val Loss: 0.32783 | Train Acc: 100.000| Val Acc: 100.000\n",
      "Epoch 072: | Train Loss: 0.37226 | Val Loss: 0.32955 | Train Acc: 100.000| Val Acc: 100.000\n",
      "Epoch 073: | Train Loss: 0.36113 | Val Loss: 0.18534 | Train Acc: 100.000| Val Acc: 100.000\n",
      "Epoch 074: | Train Loss: 0.49506 | Val Loss: 0.68424 | Train Acc: 100.000| Val Acc: 100.000\n",
      "Epoch 075: | Train Loss: 0.29940 | Val Loss: 0.16902 | Train Acc: 100.000| Val Acc: 100.000\n",
      "Epoch 076: | Train Loss: 0.37014 | Val Loss: 0.31607 | Train Acc: 100.000| Val Acc: 100.000\n",
      "Epoch 077: | Train Loss: 0.31977 | Val Loss: 0.31694 | Train Acc: 100.000| Val Acc: 100.000\n",
      "Epoch 078: | Train Loss: 0.31962 | Val Loss: 0.36930 | Train Acc: 100.000| Val Acc: 100.000\n",
      "Epoch 079: | Train Loss: 0.30286 | Val Loss: 0.33941 | Train Acc: 100.000| Val Acc: 100.000\n",
      "Epoch 080: | Train Loss: 0.25031 | Val Loss: 0.16507 | Train Acc: 100.000| Val Acc: 100.000\n",
      "Epoch 081: | Train Loss: 0.29910 | Val Loss: 0.30404 | Train Acc: 100.000| Val Acc: 100.000\n",
      "Epoch 082: | Train Loss: 0.32428 | Val Loss: 0.30588 | Train Acc: 100.000| Val Acc: 100.000\n",
      "Epoch 083: | Train Loss: 0.29886 | Val Loss: 0.57460 | Train Acc: 100.000| Val Acc: 100.000\n",
      "Epoch 084: | Train Loss: 0.33552 | Val Loss: 0.27237 | Train Acc: 100.000| Val Acc: 100.000\n",
      "Epoch 085: | Train Loss: 0.30665 | Val Loss: 0.40460 | Train Acc: 100.000| Val Acc: 100.000\n",
      "Epoch 086: | Train Loss: 0.35266 | Val Loss: 0.48629 | Train Acc: 100.000| Val Acc: 100.000\n",
      "Epoch 087: | Train Loss: 0.34804 | Val Loss: 0.47993 | Train Acc: 100.000| Val Acc: 100.000\n",
      "Epoch 088: | Train Loss: 0.32330 | Val Loss: 0.46759 | Train Acc: 100.000| Val Acc: 100.000\n",
      "Epoch 089: | Train Loss: 0.32233 | Val Loss: 0.26339 | Train Acc: 100.000| Val Acc: 100.000\n",
      "Epoch 090: | Train Loss: 0.31908 | Val Loss: 0.36825 | Train Acc: 100.000| Val Acc: 100.000\n",
      "Epoch 091: | Train Loss: 0.31035 | Val Loss: 0.22015 | Train Acc: 100.000| Val Acc: 100.000\n",
      "Epoch 092: | Train Loss: 0.31408 | Val Loss: 0.27192 | Train Acc: 100.000| Val Acc: 100.000\n",
      "Epoch 093: | Train Loss: 0.39231 | Val Loss: 0.36313 | Train Acc: 100.000| Val Acc: 100.000\n",
      "Epoch 094: | Train Loss: 0.29684 | Val Loss: 0.44424 | Train Acc: 100.000| Val Acc: 100.000\n",
      "Epoch 095: | Train Loss: 0.37063 | Val Loss: 0.23795 | Train Acc: 100.000| Val Acc: 100.000\n",
      "Epoch 096: | Train Loss: 0.27674 | Val Loss: 0.22318 | Train Acc: 100.000| Val Acc: 100.000\n",
      "Epoch 097: | Train Loss: 0.31419 | Val Loss: 0.15701 | Train Acc: 100.000| Val Acc: 100.000\n",
      "Epoch 098: | Train Loss: 0.30305 | Val Loss: 0.29008 | Train Acc: 100.000| Val Acc: 100.000\n",
      "Epoch 099: | Train Loss: 0.29336 | Val Loss: 0.16985 | Train Acc: 100.000| Val Acc: 100.000\n",
      "Epoch 100: | Train Loss: 0.33518 | Val Loss: 0.19643 | Train Acc: 100.000| Val Acc: 100.000\n",
      "Epoch 101: | Train Loss: 0.31459 | Val Loss: 0.27559 | Train Acc: 100.000| Val Acc: 100.000\n",
      "Epoch 102: | Train Loss: 0.28834 | Val Loss: 0.29277 | Train Acc: 100.000| Val Acc: 100.000\n",
      "Epoch 103: | Train Loss: 0.27491 | Val Loss: 0.37688 | Train Acc: 100.000| Val Acc: 100.000\n",
      "Epoch 104: | Train Loss: 0.26549 | Val Loss: 0.16236 | Train Acc: 100.000| Val Acc: 100.000\n",
      "Epoch 105: | Train Loss: 0.28072 | Val Loss: 0.34573 | Train Acc: 100.000| Val Acc: 100.000\n",
      "Epoch 106: | Train Loss: 0.30417 | Val Loss: 0.46327 | Train Acc: 100.000| Val Acc: 100.000\n",
      "Epoch 107: | Train Loss: 0.26694 | Val Loss: 0.13529 | Train Acc: 100.000| Val Acc: 100.000\n",
      "Epoch 108: | Train Loss: 0.26238 | Val Loss: 0.35010 | Train Acc: 100.000| Val Acc: 100.000\n",
      "Epoch 109: | Train Loss: 0.27771 | Val Loss: 0.26811 | Train Acc: 100.000| Val Acc: 100.000\n",
      "Epoch 110: | Train Loss: 0.22594 | Val Loss: 0.22844 | Train Acc: 100.000| Val Acc: 100.000\n",
      "Epoch 111: | Train Loss: 0.27502 | Val Loss: 0.17420 | Train Acc: 100.000| Val Acc: 100.000\n",
      "Epoch 112: | Train Loss: 0.28459 | Val Loss: 0.24369 | Train Acc: 100.000| Val Acc: 100.000\n",
      "Epoch 113: | Train Loss: 0.28098 | Val Loss: 0.45372 | Train Acc: 100.000| Val Acc: 100.000\n",
      "Epoch 114: | Train Loss: 0.32040 | Val Loss: 0.32856 | Train Acc: 100.000| Val Acc: 100.000\n",
      "Epoch 115: | Train Loss: 0.25348 | Val Loss: 0.27658 | Train Acc: 100.000| Val Acc: 100.000\n",
      "Epoch 116: | Train Loss: 0.23638 | Val Loss: 0.15171 | Train Acc: 100.000| Val Acc: 100.000\n",
      "Epoch 117: | Train Loss: 0.23774 | Val Loss: 0.18020 | Train Acc: 100.000| Val Acc: 100.000\n",
      "Epoch 118: | Train Loss: 0.26070 | Val Loss: 0.24756 | Train Acc: 100.000| Val Acc: 100.000\n",
      "Epoch 119: | Train Loss: 0.29649 | Val Loss: 0.26251 | Train Acc: 100.000| Val Acc: 100.000\n",
      "Epoch 120: | Train Loss: 0.26085 | Val Loss: 0.53571 | Train Acc: 100.000| Val Acc: 100.000\n",
      "Epoch 121: | Train Loss: 0.20357 | Val Loss: 0.20055 | Train Acc: 100.000| Val Acc: 100.000\n",
      "Epoch 122: | Train Loss: 0.25049 | Val Loss: 0.11250 | Train Acc: 100.000| Val Acc: 100.000\n",
      "Epoch 123: | Train Loss: 0.21652 | Val Loss: 0.24755 | Train Acc: 100.000| Val Acc: 100.000\n",
      "Epoch 124: | Train Loss: 0.22130 | Val Loss: 0.14696 | Train Acc: 100.000| Val Acc: 100.000\n",
      "Epoch 125: | Train Loss: 0.22702 | Val Loss: 0.39680 | Train Acc: 100.000| Val Acc: 100.000\n",
      "Epoch 126: | Train Loss: 0.23152 | Val Loss: 0.18748 | Train Acc: 100.000| Val Acc: 100.000\n",
      "Epoch 127: | Train Loss: 0.27772 | Val Loss: 0.38568 | Train Acc: 100.000| Val Acc: 100.000\n",
      "Epoch 128: | Train Loss: 0.22214 | Val Loss: 0.18273 | Train Acc: 100.000| Val Acc: 100.000\n",
      "Epoch 129: | Train Loss: 0.25290 | Val Loss: 0.31399 | Train Acc: 100.000| Val Acc: 100.000\n",
      "Epoch 130: | Train Loss: 0.23722 | Val Loss: 0.16158 | Train Acc: 100.000| Val Acc: 100.000\n",
      "Epoch 131: | Train Loss: 0.25435 | Val Loss: 0.12917 | Train Acc: 100.000| Val Acc: 100.000\n",
      "Epoch 132: | Train Loss: 0.26377 | Val Loss: 0.38940 | Train Acc: 100.000| Val Acc: 100.000\n",
      "Epoch 133: | Train Loss: 0.26003 | Val Loss: 0.14454 | Train Acc: 100.000| Val Acc: 100.000\n",
      "Epoch 134: | Train Loss: 0.22457 | Val Loss: 0.71587 | Train Acc: 100.000| Val Acc: 100.000\n",
      "Epoch 135: | Train Loss: 0.23118 | Val Loss: 0.09894 | Train Acc: 100.000| Val Acc: 100.000\n",
      "Epoch 136: | Train Loss: 0.26121 | Val Loss: 0.38386 | Train Acc: 100.000| Val Acc: 100.000\n",
      "Epoch 137: | Train Loss: 0.22133 | Val Loss: 0.15797 | Train Acc: 100.000| Val Acc: 100.000\n",
      "Epoch 138: | Train Loss: 0.22599 | Val Loss: 0.14719 | Train Acc: 100.000| Val Acc: 100.000\n",
      "Epoch 139: | Train Loss: 0.24336 | Val Loss: 0.15266 | Train Acc: 100.000| Val Acc: 100.000\n",
      "Epoch 140: | Train Loss: 0.24247 | Val Loss: 0.17187 | Train Acc: 100.000| Val Acc: 100.000\n",
      "Epoch 141: | Train Loss: 0.20837 | Val Loss: 0.25568 | Train Acc: 100.000| Val Acc: 100.000\n",
      "Epoch 142: | Train Loss: 0.23550 | Val Loss: 0.35089 | Train Acc: 100.000| Val Acc: 100.000\n",
      "Epoch 143: | Train Loss: 0.23736 | Val Loss: 0.17187 | Train Acc: 100.000| Val Acc: 100.000\n",
      "Epoch 144: | Train Loss: 0.26686 | Val Loss: 0.12419 | Train Acc: 100.000| Val Acc: 100.000\n",
      "Epoch 145: | Train Loss: 0.27210 | Val Loss: 0.19775 | Train Acc: 100.000| Val Acc: 100.000\n",
      "Epoch 146: | Train Loss: 0.26379 | Val Loss: 0.36453 | Train Acc: 100.000| Val Acc: 100.000\n",
      "Epoch 147: | Train Loss: 0.23206 | Val Loss: 0.18640 | Train Acc: 100.000| Val Acc: 100.000\n",
      "Epoch 148: | Train Loss: 0.20653 | Val Loss: 0.20422 | Train Acc: 100.000| Val Acc: 100.000\n",
      "Epoch 149: | Train Loss: 0.19943 | Val Loss: 0.31836 | Train Acc: 100.000| Val Acc: 100.000\n",
      "Epoch 150: | Train Loss: 0.27225 | Val Loss: 0.12403 | Train Acc: 100.000| Val Acc: 100.000\n",
      "Epoch 151: | Train Loss: 0.26129 | Val Loss: 0.32150 | Train Acc: 100.000| Val Acc: 100.000\n",
      "Epoch 152: | Train Loss: 0.24038 | Val Loss: 0.11830 | Train Acc: 100.000| Val Acc: 100.000\n",
      "Epoch 153: | Train Loss: 0.25472 | Val Loss: 0.25468 | Train Acc: 100.000| Val Acc: 100.000\n",
      "Epoch 154: | Train Loss: 0.23641 | Val Loss: 0.15471 | Train Acc: 100.000| Val Acc: 100.000\n",
      "Epoch 155: | Train Loss: 0.19063 | Val Loss: 0.25167 | Train Acc: 100.000| Val Acc: 100.000\n",
      "Epoch 156: | Train Loss: 0.21208 | Val Loss: 0.16122 | Train Acc: 100.000| Val Acc: 100.000\n",
      "Epoch 157: | Train Loss: 0.21701 | Val Loss: 0.09886 | Train Acc: 100.000| Val Acc: 100.000\n",
      "Epoch 158: | Train Loss: 0.19354 | Val Loss: 0.35533 | Train Acc: 100.000| Val Acc: 100.000\n",
      "Epoch 159: | Train Loss: 0.20282 | Val Loss: 0.18987 | Train Acc: 100.000| Val Acc: 100.000\n",
      "Epoch 160: | Train Loss: 0.17706 | Val Loss: 0.14106 | Train Acc: 100.000| Val Acc: 100.000\n",
      "Epoch 161: | Train Loss: 0.16326 | Val Loss: 0.09509 | Train Acc: 100.000| Val Acc: 100.000\n",
      "Epoch 162: | Train Loss: 0.17304 | Val Loss: 0.10356 | Train Acc: 100.000| Val Acc: 100.000\n",
      "Epoch 163: | Train Loss: 0.18288 | Val Loss: 0.09111 | Train Acc: 100.000| Val Acc: 100.000\n",
      "Epoch 164: | Train Loss: 0.19313 | Val Loss: 0.19511 | Train Acc: 100.000| Val Acc: 100.000\n",
      "Epoch 165: | Train Loss: 0.17924 | Val Loss: 0.22596 | Train Acc: 100.000| Val Acc: 100.000\n",
      "Epoch 166: | Train Loss: 0.17149 | Val Loss: 0.18449 | Train Acc: 100.000| Val Acc: 100.000\n",
      "Epoch 167: | Train Loss: 0.18016 | Val Loss: 0.23490 | Train Acc: 100.000| Val Acc: 100.000\n",
      "Epoch 168: | Train Loss: 0.18660 | Val Loss: 0.06532 | Train Acc: 100.000| Val Acc: 100.000\n",
      "Epoch 169: | Train Loss: 0.20690 | Val Loss: 0.17208 | Train Acc: 100.000| Val Acc: 100.000\n",
      "Epoch 170: | Train Loss: 0.21230 | Val Loss: 0.12510 | Train Acc: 100.000| Val Acc: 100.000\n",
      "Epoch 171: | Train Loss: 0.22035 | Val Loss: 0.07888 | Train Acc: 100.000| Val Acc: 100.000\n",
      "Epoch 172: | Train Loss: 0.23434 | Val Loss: 0.12303 | Train Acc: 100.000| Val Acc: 100.000\n",
      "Epoch 173: | Train Loss: 0.16505 | Val Loss: 0.09417 | Train Acc: 100.000| Val Acc: 100.000\n",
      "Epoch 174: | Train Loss: 0.17592 | Val Loss: 0.12978 | Train Acc: 100.000| Val Acc: 100.000\n",
      "Epoch 175: | Train Loss: 0.15642 | Val Loss: 0.12770 | Train Acc: 100.000| Val Acc: 100.000\n",
      "Epoch 176: | Train Loss: 0.17609 | Val Loss: 0.16136 | Train Acc: 100.000| Val Acc: 100.000\n",
      "Epoch 177: | Train Loss: 0.22027 | Val Loss: 0.22697 | Train Acc: 100.000| Val Acc: 100.000\n",
      "Epoch 178: | Train Loss: 0.22181 | Val Loss: 0.47012 | Train Acc: 100.000| Val Acc: 100.000\n",
      "Epoch 179: | Train Loss: 0.17847 | Val Loss: 0.18189 | Train Acc: 100.000| Val Acc: 100.000\n",
      "Epoch 180: | Train Loss: 0.16210 | Val Loss: 0.15180 | Train Acc: 100.000| Val Acc: 100.000\n",
      "Epoch 181: | Train Loss: 0.18590 | Val Loss: 0.16238 | Train Acc: 100.000| Val Acc: 100.000\n",
      "Epoch 182: | Train Loss: 0.18703 | Val Loss: 0.45529 | Train Acc: 100.000| Val Acc: 100.000\n",
      "Epoch 183: | Train Loss: 0.20354 | Val Loss: 0.31226 | Train Acc: 100.000| Val Acc: 100.000\n",
      "Epoch 184: | Train Loss: 0.18496 | Val Loss: 0.15394 | Train Acc: 100.000| Val Acc: 100.000\n",
      "Epoch 185: | Train Loss: 0.19796 | Val Loss: 0.10165 | Train Acc: 100.000| Val Acc: 100.000\n",
      "Epoch 186: | Train Loss: 0.19726 | Val Loss: 0.35356 | Train Acc: 100.000| Val Acc: 100.000\n",
      "Epoch 187: | Train Loss: 0.22788 | Val Loss: 0.22407 | Train Acc: 100.000| Val Acc: 100.000\n",
      "Epoch 188: | Train Loss: 0.16950 | Val Loss: 0.16413 | Train Acc: 100.000| Val Acc: 100.000\n",
      "Epoch 189: | Train Loss: 0.17754 | Val Loss: 0.19833 | Train Acc: 100.000| Val Acc: 100.000\n",
      "Epoch 190: | Train Loss: 0.21923 | Val Loss: 0.27819 | Train Acc: 100.000| Val Acc: 100.000\n",
      "Epoch 191: | Train Loss: 0.18861 | Val Loss: 0.47932 | Train Acc: 100.000| Val Acc: 100.000\n",
      "Epoch 192: | Train Loss: 0.18860 | Val Loss: 0.11003 | Train Acc: 100.000| Val Acc: 100.000\n",
      "Epoch 193: | Train Loss: 0.17485 | Val Loss: 0.21813 | Train Acc: 100.000| Val Acc: 100.000\n",
      "Epoch 194: | Train Loss: 0.13656 | Val Loss: 0.19005 | Train Acc: 100.000| Val Acc: 100.000\n",
      "Epoch 195: | Train Loss: 0.18006 | Val Loss: 0.25657 | Train Acc: 100.000| Val Acc: 100.000\n",
      "Epoch 196: | Train Loss: 0.17672 | Val Loss: 0.09365 | Train Acc: 100.000| Val Acc: 100.000\n",
      "Epoch 197: | Train Loss: 0.17487 | Val Loss: 0.29513 | Train Acc: 100.000| Val Acc: 100.000\n",
      "Epoch 198: | Train Loss: 0.14708 | Val Loss: 0.13451 | Train Acc: 100.000| Val Acc: 100.000\n",
      "Epoch 199: | Train Loss: 0.16380 | Val Loss: 0.34383 | Train Acc: 100.000| Val Acc: 100.000\n",
      "Epoch 200: | Train Loss: 0.15751 | Val Loss: 0.21946 | Train Acc: 100.000| Val Acc: 100.000\n",
      "Epoch 201: | Train Loss: 0.18445 | Val Loss: 0.21899 | Train Acc: 100.000| Val Acc: 100.000\n",
      "Epoch 202: | Train Loss: 0.13938 | Val Loss: 0.11066 | Train Acc: 100.000| Val Acc: 100.000\n",
      "Epoch 203: | Train Loss: 0.14704 | Val Loss: 0.09217 | Train Acc: 100.000| Val Acc: 100.000\n",
      "Epoch 204: | Train Loss: 0.16397 | Val Loss: 0.13281 | Train Acc: 100.000| Val Acc: 100.000\n",
      "Epoch 205: | Train Loss: 0.18856 | Val Loss: 0.25164 | Train Acc: 100.000| Val Acc: 100.000\n",
      "Epoch 206: | Train Loss: 0.19483 | Val Loss: 0.17789 | Train Acc: 100.000| Val Acc: 100.000\n",
      "Epoch 207: | Train Loss: 0.17775 | Val Loss: 0.05219 | Train Acc: 100.000| Val Acc: 100.000\n",
      "Epoch 208: | Train Loss: 0.18628 | Val Loss: 0.18600 | Train Acc: 100.000| Val Acc: 100.000\n",
      "Epoch 209: | Train Loss: 0.16496 | Val Loss: 0.09007 | Train Acc: 100.000| Val Acc: 100.000\n",
      "Epoch 210: | Train Loss: 0.14094 | Val Loss: 0.17703 | Train Acc: 100.000| Val Acc: 100.000\n",
      "Epoch 211: | Train Loss: 0.24004 | Val Loss: 0.16566 | Train Acc: 100.000| Val Acc: 100.000\n",
      "Epoch 212: | Train Loss: 0.18659 | Val Loss: 0.20616 | Train Acc: 100.000| Val Acc: 100.000\n",
      "Epoch 213: | Train Loss: 0.15790 | Val Loss: 0.15108 | Train Acc: 100.000| Val Acc: 100.000\n",
      "Epoch 214: | Train Loss: 0.15556 | Val Loss: 0.16983 | Train Acc: 100.000| Val Acc: 100.000\n",
      "Epoch 215: | Train Loss: 0.19285 | Val Loss: 0.13509 | Train Acc: 100.000| Val Acc: 100.000\n",
      "Epoch 216: | Train Loss: 0.16276 | Val Loss: 0.26241 | Train Acc: 100.000| Val Acc: 100.000\n",
      "Epoch 217: | Train Loss: 0.14201 | Val Loss: 0.12796 | Train Acc: 100.000| Val Acc: 100.000\n",
      "Epoch 218: | Train Loss: 0.15669 | Val Loss: 0.19312 | Train Acc: 100.000| Val Acc: 100.000\n",
      "Epoch 219: | Train Loss: 0.17588 | Val Loss: 0.13257 | Train Acc: 100.000| Val Acc: 100.000\n",
      "Epoch 220: | Train Loss: 0.12815 | Val Loss: 0.24314 | Train Acc: 100.000| Val Acc: 100.000\n",
      "Epoch 221: | Train Loss: 0.14503 | Val Loss: 0.13518 | Train Acc: 100.000| Val Acc: 100.000\n",
      "Epoch 222: | Train Loss: 0.18989 | Val Loss: 0.11543 | Train Acc: 100.000| Val Acc: 100.000\n",
      "Epoch 223: | Train Loss: 0.17091 | Val Loss: 0.29874 | Train Acc: 100.000| Val Acc: 100.000\n",
      "Epoch 224: | Train Loss: 0.17224 | Val Loss: 0.21594 | Train Acc: 100.000| Val Acc: 100.000\n",
      "Epoch 225: | Train Loss: 0.20704 | Val Loss: 0.28729 | Train Acc: 100.000| Val Acc: 100.000\n",
      "Epoch 226: | Train Loss: 0.17945 | Val Loss: 0.16496 | Train Acc: 100.000| Val Acc: 100.000\n",
      "Epoch 227: | Train Loss: 0.13705 | Val Loss: 0.11869 | Train Acc: 100.000| Val Acc: 100.000\n",
      "Epoch 228: | Train Loss: 0.14234 | Val Loss: 0.15101 | Train Acc: 100.000| Val Acc: 100.000\n",
      "Epoch 229: | Train Loss: 0.18633 | Val Loss: 0.17856 | Train Acc: 100.000| Val Acc: 100.000\n",
      "Epoch 230: | Train Loss: 0.20044 | Val Loss: 0.23616 | Train Acc: 100.000| Val Acc: 100.000\n",
      "Epoch 231: | Train Loss: 0.19101 | Val Loss: 0.19515 | Train Acc: 100.000| Val Acc: 100.000\n",
      "Epoch 232: | Train Loss: 0.17987 | Val Loss: 0.10194 | Train Acc: 100.000| Val Acc: 100.000\n",
      "Epoch 233: | Train Loss: 0.17159 | Val Loss: 0.17278 | Train Acc: 100.000| Val Acc: 100.000\n",
      "Epoch 234: | Train Loss: 0.19490 | Val Loss: 0.12925 | Train Acc: 100.000| Val Acc: 100.000\n",
      "Epoch 235: | Train Loss: 0.14308 | Val Loss: 0.14776 | Train Acc: 100.000| Val Acc: 100.000\n",
      "Epoch 236: | Train Loss: 0.18915 | Val Loss: 0.08663 | Train Acc: 100.000| Val Acc: 100.000\n",
      "Epoch 237: | Train Loss: 0.15892 | Val Loss: 0.14910 | Train Acc: 100.000| Val Acc: 100.000\n",
      "Epoch 238: | Train Loss: 0.11678 | Val Loss: 0.18749 | Train Acc: 100.000| Val Acc: 100.000\n",
      "Epoch 239: | Train Loss: 0.14047 | Val Loss: 0.13107 | Train Acc: 100.000| Val Acc: 100.000\n",
      "Epoch 240: | Train Loss: 0.13128 | Val Loss: 0.09613 | Train Acc: 100.000| Val Acc: 100.000\n",
      "Epoch 241: | Train Loss: 0.19149 | Val Loss: 0.10824 | Train Acc: 100.000| Val Acc: 100.000\n",
      "Epoch 242: | Train Loss: 0.17055 | Val Loss: 0.24740 | Train Acc: 100.000| Val Acc: 100.000\n",
      "Epoch 243: | Train Loss: 0.14693 | Val Loss: 0.09225 | Train Acc: 100.000| Val Acc: 100.000\n",
      "Epoch 244: | Train Loss: 0.17114 | Val Loss: 0.14037 | Train Acc: 100.000| Val Acc: 100.000\n",
      "Epoch 245: | Train Loss: 0.20993 | Val Loss: 0.32728 | Train Acc: 100.000| Val Acc: 100.000\n",
      "Epoch 246: | Train Loss: 0.16095 | Val Loss: 0.35649 | Train Acc: 100.000| Val Acc: 100.000\n",
      "Epoch 247: | Train Loss: 0.17718 | Val Loss: 0.08863 | Train Acc: 100.000| Val Acc: 100.000\n",
      "Epoch 248: | Train Loss: 0.14606 | Val Loss: 0.15771 | Train Acc: 100.000| Val Acc: 100.000\n",
      "Epoch 249: | Train Loss: 0.13655 | Val Loss: 0.18604 | Train Acc: 100.000| Val Acc: 100.000\n",
      "Epoch 250: | Train Loss: 0.13324 | Val Loss: 0.10210 | Train Acc: 100.000| Val Acc: 100.000\n",
      "Epoch 251: | Train Loss: 0.14451 | Val Loss: 0.17000 | Train Acc: 100.000| Val Acc: 100.000\n",
      "Epoch 252: | Train Loss: 0.20933 | Val Loss: 0.19598 | Train Acc: 100.000| Val Acc: 100.000\n",
      "Epoch 253: | Train Loss: 0.18699 | Val Loss: 0.20001 | Train Acc: 100.000| Val Acc: 100.000\n",
      "Epoch 254: | Train Loss: 0.20083 | Val Loss: 0.17662 | Train Acc: 100.000| Val Acc: 100.000\n",
      "Epoch 255: | Train Loss: 0.21424 | Val Loss: 0.25252 | Train Acc: 100.000| Val Acc: 100.000\n",
      "Epoch 256: | Train Loss: 0.23060 | Val Loss: 0.17629 | Train Acc: 100.000| Val Acc: 100.000\n",
      "Epoch 257: | Train Loss: 0.21629 | Val Loss: 0.20847 | Train Acc: 100.000| Val Acc: 100.000\n",
      "Epoch 258: | Train Loss: 0.17661 | Val Loss: 0.16940 | Train Acc: 100.000| Val Acc: 100.000\n",
      "Epoch 259: | Train Loss: 0.19138 | Val Loss: 0.34930 | Train Acc: 100.000| Val Acc: 100.000\n",
      "Epoch 260: | Train Loss: 0.11984 | Val Loss: 0.04640 | Train Acc: 100.000| Val Acc: 100.000\n",
      "Epoch 261: | Train Loss: 0.14861 | Val Loss: 0.11873 | Train Acc: 100.000| Val Acc: 100.000\n",
      "Epoch 262: | Train Loss: 0.16607 | Val Loss: 0.14951 | Train Acc: 100.000| Val Acc: 100.000\n",
      "Epoch 263: | Train Loss: 0.14407 | Val Loss: 0.16874 | Train Acc: 100.000| Val Acc: 100.000\n",
      "Epoch 264: | Train Loss: 0.14409 | Val Loss: 0.19224 | Train Acc: 100.000| Val Acc: 100.000\n",
      "Epoch 265: | Train Loss: 0.13936 | Val Loss: 0.30778 | Train Acc: 100.000| Val Acc: 100.000\n",
      "Epoch 266: | Train Loss: 0.13299 | Val Loss: 0.19708 | Train Acc: 100.000| Val Acc: 100.000\n",
      "Epoch 267: | Train Loss: 0.13634 | Val Loss: 0.12480 | Train Acc: 100.000| Val Acc: 100.000\n",
      "Epoch 268: | Train Loss: 0.14378 | Val Loss: 0.15740 | Train Acc: 100.000| Val Acc: 100.000\n",
      "Epoch 269: | Train Loss: 0.16402 | Val Loss: 0.17048 | Train Acc: 100.000| Val Acc: 100.000\n",
      "Epoch 270: | Train Loss: 0.14503 | Val Loss: 0.09679 | Train Acc: 100.000| Val Acc: 100.000\n",
      "Epoch 271: | Train Loss: 0.15121 | Val Loss: 0.08487 | Train Acc: 100.000| Val Acc: 100.000\n",
      "Epoch 272: | Train Loss: 0.16939 | Val Loss: 0.11916 | Train Acc: 100.000| Val Acc: 100.000\n",
      "Epoch 273: | Train Loss: 0.20552 | Val Loss: 0.55628 | Train Acc: 100.000| Val Acc: 100.000\n",
      "Epoch 274: | Train Loss: 0.14834 | Val Loss: 0.07998 | Train Acc: 100.000| Val Acc: 100.000\n",
      "Epoch 275: | Train Loss: 0.16104 | Val Loss: 0.04089 | Train Acc: 100.000| Val Acc: 100.000\n",
      "Epoch 276: | Train Loss: 0.15795 | Val Loss: 0.06483 | Train Acc: 100.000| Val Acc: 100.000\n",
      "Epoch 277: | Train Loss: 0.19294 | Val Loss: 0.31629 | Train Acc: 100.000| Val Acc: 100.000\n",
      "Epoch 278: | Train Loss: 0.18432 | Val Loss: 0.19486 | Train Acc: 100.000| Val Acc: 100.000\n",
      "Epoch 279: | Train Loss: 0.16291 | Val Loss: 0.13516 | Train Acc: 100.000| Val Acc: 100.000\n",
      "Epoch 280: | Train Loss: 0.21100 | Val Loss: 0.14440 | Train Acc: 100.000| Val Acc: 100.000\n",
      "Epoch 281: | Train Loss: 0.24131 | Val Loss: 0.17477 | Train Acc: 100.000| Val Acc: 100.000\n",
      "Epoch 282: | Train Loss: 0.20938 | Val Loss: 0.44364 | Train Acc: 100.000| Val Acc: 100.000\n",
      "Epoch 283: | Train Loss: 0.22438 | Val Loss: 0.07262 | Train Acc: 100.000| Val Acc: 100.000\n",
      "Epoch 284: | Train Loss: 0.18607 | Val Loss: 0.20867 | Train Acc: 100.000| Val Acc: 100.000\n",
      "Epoch 285: | Train Loss: 0.21831 | Val Loss: 0.13057 | Train Acc: 100.000| Val Acc: 100.000\n",
      "Epoch 286: | Train Loss: 0.21958 | Val Loss: 0.17348 | Train Acc: 100.000| Val Acc: 100.000\n",
      "Epoch 287: | Train Loss: 0.18649 | Val Loss: 0.03968 | Train Acc: 100.000| Val Acc: 100.000\n",
      "Epoch 288: | Train Loss: 0.17746 | Val Loss: 0.09300 | Train Acc: 100.000| Val Acc: 100.000\n",
      "Epoch 289: | Train Loss: 0.16545 | Val Loss: 0.17401 | Train Acc: 100.000| Val Acc: 100.000\n",
      "Epoch 290: | Train Loss: 0.12739 | Val Loss: 0.16250 | Train Acc: 100.000| Val Acc: 100.000\n",
      "Epoch 291: | Train Loss: 0.16080 | Val Loss: 0.11155 | Train Acc: 100.000| Val Acc: 100.000\n",
      "Epoch 292: | Train Loss: 0.16891 | Val Loss: 0.09096 | Train Acc: 100.000| Val Acc: 100.000\n",
      "Epoch 293: | Train Loss: 0.15609 | Val Loss: 0.19251 | Train Acc: 100.000| Val Acc: 100.000\n",
      "Epoch 294: | Train Loss: 0.13769 | Val Loss: 0.17939 | Train Acc: 100.000| Val Acc: 100.000\n",
      "Epoch 295: | Train Loss: 0.16985 | Val Loss: 0.13686 | Train Acc: 100.000| Val Acc: 100.000\n",
      "Epoch 296: | Train Loss: 0.17501 | Val Loss: 0.21783 | Train Acc: 100.000| Val Acc: 100.000\n",
      "Epoch 297: | Train Loss: 0.14124 | Val Loss: 0.15963 | Train Acc: 100.000| Val Acc: 100.000\n",
      "Epoch 298: | Train Loss: 0.12013 | Val Loss: 0.04740 | Train Acc: 100.000| Val Acc: 100.000\n",
      "Epoch 299: | Train Loss: 0.15762 | Val Loss: 0.09663 | Train Acc: 100.000| Val Acc: 100.000\n",
      "Epoch 300: | Train Loss: 0.13394 | Val Loss: 0.09024 | Train Acc: 100.000| Val Acc: 100.000\n",
      "Epoch 301: | Train Loss: 0.17318 | Val Loss: 0.23052 | Train Acc: 100.000| Val Acc: 100.000\n",
      "Epoch 302: | Train Loss: 0.15092 | Val Loss: 0.11515 | Train Acc: 100.000| Val Acc: 100.000\n",
      "Epoch 303: | Train Loss: 0.11050 | Val Loss: 0.19722 | Train Acc: 100.000| Val Acc: 100.000\n",
      "Epoch 304: | Train Loss: 0.15253 | Val Loss: 0.10067 | Train Acc: 100.000| Val Acc: 100.000\n",
      "Epoch 305: | Train Loss: 0.11278 | Val Loss: 0.11223 | Train Acc: 100.000| Val Acc: 100.000\n",
      "Epoch 306: | Train Loss: 0.12230 | Val Loss: 0.07666 | Train Acc: 100.000| Val Acc: 100.000\n",
      "Epoch 307: | Train Loss: 0.13286 | Val Loss: 0.10024 | Train Acc: 100.000| Val Acc: 100.000\n",
      "Epoch 308: | Train Loss: 0.15621 | Val Loss: 0.18554 | Train Acc: 100.000| Val Acc: 100.000\n",
      "Epoch 309: | Train Loss: 0.15914 | Val Loss: 0.04424 | Train Acc: 100.000| Val Acc: 100.000\n",
      "Epoch 310: | Train Loss: 0.17265 | Val Loss: 0.11566 | Train Acc: 100.000| Val Acc: 100.000\n",
      "Epoch 311: | Train Loss: 0.14205 | Val Loss: 0.15325 | Train Acc: 100.000| Val Acc: 100.000\n",
      "Epoch 312: | Train Loss: 0.15981 | Val Loss: 0.20588 | Train Acc: 100.000| Val Acc: 100.000\n",
      "Epoch 313: | Train Loss: 0.15148 | Val Loss: 0.08557 | Train Acc: 100.000| Val Acc: 100.000\n",
      "Epoch 314: | Train Loss: 0.12840 | Val Loss: 0.08734 | Train Acc: 100.000| Val Acc: 100.000\n",
      "Epoch 315: | Train Loss: 0.15287 | Val Loss: 0.28690 | Train Acc: 100.000| Val Acc: 100.000\n",
      "Epoch 316: | Train Loss: 0.16090 | Val Loss: 0.12403 | Train Acc: 100.000| Val Acc: 100.000\n",
      "Epoch 317: | Train Loss: 0.12366 | Val Loss: 0.07359 | Train Acc: 100.000| Val Acc: 100.000\n",
      "Epoch 318: | Train Loss: 0.14460 | Val Loss: 0.08884 | Train Acc: 100.000| Val Acc: 100.000\n",
      "Epoch 319: | Train Loss: 0.13512 | Val Loss: 0.04439 | Train Acc: 100.000| Val Acc: 100.000\n",
      "Epoch 320: | Train Loss: 0.12901 | Val Loss: 0.09890 | Train Acc: 100.000| Val Acc: 100.000\n",
      "Epoch 321: | Train Loss: 0.16537 | Val Loss: 0.10045 | Train Acc: 100.000| Val Acc: 100.000\n",
      "Epoch 322: | Train Loss: 0.12291 | Val Loss: 0.13511 | Train Acc: 100.000| Val Acc: 100.000\n",
      "Epoch 323: | Train Loss: 0.10419 | Val Loss: 0.08896 | Train Acc: 100.000| Val Acc: 100.000\n",
      "Epoch 324: | Train Loss: 0.14184 | Val Loss: 0.25800 | Train Acc: 100.000| Val Acc: 100.000\n",
      "Epoch 325: | Train Loss: 0.13666 | Val Loss: 0.07406 | Train Acc: 100.000| Val Acc: 100.000\n",
      "Epoch 326: | Train Loss: 0.12548 | Val Loss: 0.04767 | Train Acc: 100.000| Val Acc: 100.000\n",
      "Epoch 327: | Train Loss: 0.15416 | Val Loss: 0.05232 | Train Acc: 100.000| Val Acc: 100.000\n",
      "Epoch 328: | Train Loss: 0.09718 | Val Loss: 0.06263 | Train Acc: 100.000| Val Acc: 100.000\n",
      "Epoch 329: | Train Loss: 0.13058 | Val Loss: 0.08872 | Train Acc: 100.000| Val Acc: 100.000\n",
      "Epoch 330: | Train Loss: 0.13611 | Val Loss: 0.09314 | Train Acc: 100.000| Val Acc: 100.000\n",
      "Epoch 331: | Train Loss: 0.11559 | Val Loss: 0.10303 | Train Acc: 100.000| Val Acc: 100.000\n",
      "Epoch 332: | Train Loss: 0.11109 | Val Loss: 0.13035 | Train Acc: 100.000| Val Acc: 100.000\n",
      "Epoch 333: | Train Loss: 0.14907 | Val Loss: 0.11536 | Train Acc: 100.000| Val Acc: 100.000\n",
      "Epoch 334: | Train Loss: 0.13346 | Val Loss: 0.08282 | Train Acc: 100.000| Val Acc: 100.000\n",
      "Epoch 335: | Train Loss: 0.11956 | Val Loss: 0.13892 | Train Acc: 100.000| Val Acc: 100.000\n",
      "Epoch 336: | Train Loss: 0.09129 | Val Loss: 0.13861 | Train Acc: 100.000| Val Acc: 100.000\n",
      "Epoch 337: | Train Loss: 0.12392 | Val Loss: 0.18245 | Train Acc: 100.000| Val Acc: 100.000\n",
      "Epoch 338: | Train Loss: 0.14466 | Val Loss: 0.07650 | Train Acc: 100.000| Val Acc: 100.000\n",
      "Epoch 339: | Train Loss: 0.09208 | Val Loss: 0.06677 | Train Acc: 100.000| Val Acc: 100.000\n",
      "Epoch 340: | Train Loss: 0.12188 | Val Loss: 0.11127 | Train Acc: 100.000| Val Acc: 100.000\n",
      "Epoch 341: | Train Loss: 0.12243 | Val Loss: 0.09314 | Train Acc: 100.000| Val Acc: 100.000\n",
      "Epoch 342: | Train Loss: 0.10409 | Val Loss: 0.08526 | Train Acc: 100.000| Val Acc: 100.000\n",
      "Epoch 343: | Train Loss: 0.11484 | Val Loss: 0.14858 | Train Acc: 100.000| Val Acc: 100.000\n",
      "Epoch 344: | Train Loss: 0.13334 | Val Loss: 0.24444 | Train Acc: 100.000| Val Acc: 100.000\n",
      "Epoch 345: | Train Loss: 0.11013 | Val Loss: 0.06610 | Train Acc: 100.000| Val Acc: 100.000\n",
      "Epoch 346: | Train Loss: 0.12209 | Val Loss: 0.07864 | Train Acc: 100.000| Val Acc: 100.000\n",
      "Epoch 347: | Train Loss: 0.11673 | Val Loss: 0.15914 | Train Acc: 100.000| Val Acc: 100.000\n",
      "Epoch 348: | Train Loss: 0.08901 | Val Loss: 0.04720 | Train Acc: 100.000| Val Acc: 100.000\n",
      "Epoch 349: | Train Loss: 0.13933 | Val Loss: 0.05691 | Train Acc: 100.000| Val Acc: 100.000\n",
      "Epoch 350: | Train Loss: 0.09989 | Val Loss: 0.07287 | Train Acc: 100.000| Val Acc: 100.000\n",
      "Epoch 351: | Train Loss: 0.09842 | Val Loss: 0.06903 | Train Acc: 100.000| Val Acc: 100.000\n",
      "Epoch 352: | Train Loss: 0.16353 | Val Loss: 0.12689 | Train Acc: 100.000| Val Acc: 100.000\n",
      "Epoch 353: | Train Loss: 0.15450 | Val Loss: 0.12653 | Train Acc: 100.000| Val Acc: 100.000\n",
      "Epoch 354: | Train Loss: 0.12640 | Val Loss: 0.08893 | Train Acc: 100.000| Val Acc: 100.000\n",
      "Epoch 355: | Train Loss: 0.16252 | Val Loss: 0.06407 | Train Acc: 100.000| Val Acc: 100.000\n",
      "Epoch 356: | Train Loss: 0.11599 | Val Loss: 0.05633 | Train Acc: 100.000| Val Acc: 100.000\n",
      "Epoch 357: | Train Loss: 0.15376 | Val Loss: 0.06475 | Train Acc: 100.000| Val Acc: 100.000\n",
      "Epoch 358: | Train Loss: 0.13820 | Val Loss: 0.50739 | Train Acc: 100.000| Val Acc: 100.000\n",
      "Epoch 359: | Train Loss: 0.13773 | Val Loss: 0.13693 | Train Acc: 100.000| Val Acc: 100.000\n",
      "Epoch 360: | Train Loss: 0.12890 | Val Loss: 0.16579 | Train Acc: 100.000| Val Acc: 100.000\n",
      "Epoch 361: | Train Loss: 0.21149 | Val Loss: 0.12097 | Train Acc: 100.000| Val Acc: 100.000\n",
      "Epoch 362: | Train Loss: 0.15928 | Val Loss: 0.17811 | Train Acc: 100.000| Val Acc: 100.000\n",
      "Epoch 363: | Train Loss: 0.14547 | Val Loss: 0.15937 | Train Acc: 100.000| Val Acc: 100.000\n",
      "Epoch 364: | Train Loss: 0.14204 | Val Loss: 0.05376 | Train Acc: 100.000| Val Acc: 100.000\n",
      "Epoch 365: | Train Loss: 0.13451 | Val Loss: 0.06651 | Train Acc: 100.000| Val Acc: 100.000\n",
      "Epoch 366: | Train Loss: 0.10017 | Val Loss: 0.06148 | Train Acc: 100.000| Val Acc: 100.000\n",
      "Epoch 367: | Train Loss: 0.12256 | Val Loss: 0.17756 | Train Acc: 100.000| Val Acc: 100.000\n",
      "Epoch 368: | Train Loss: 0.12024 | Val Loss: 0.07625 | Train Acc: 100.000| Val Acc: 100.000\n",
      "Epoch 369: | Train Loss: 0.12488 | Val Loss: 0.09116 | Train Acc: 100.000| Val Acc: 100.000\n",
      "Epoch 370: | Train Loss: 0.13450 | Val Loss: 0.16078 | Train Acc: 100.000| Val Acc: 100.000\n",
      "Epoch 371: | Train Loss: 0.09857 | Val Loss: 0.15259 | Train Acc: 100.000| Val Acc: 100.000\n",
      "Epoch 372: | Train Loss: 0.11851 | Val Loss: 0.20651 | Train Acc: 100.000| Val Acc: 100.000\n",
      "Epoch 373: | Train Loss: 0.13821 | Val Loss: 0.33447 | Train Acc: 100.000| Val Acc: 100.000\n",
      "Epoch 374: | Train Loss: 0.10425 | Val Loss: 0.22027 | Train Acc: 100.000| Val Acc: 100.000\n",
      "Epoch 375: | Train Loss: 0.08821 | Val Loss: 0.16986 | Train Acc: 100.000| Val Acc: 100.000\n",
      "Epoch 376: | Train Loss: 0.09371 | Val Loss: 0.07631 | Train Acc: 100.000| Val Acc: 100.000\n",
      "Epoch 377: | Train Loss: 0.12274 | Val Loss: 0.06107 | Train Acc: 100.000| Val Acc: 100.000\n",
      "Epoch 378: | Train Loss: 0.14129 | Val Loss: 0.14057 | Train Acc: 100.000| Val Acc: 100.000\n",
      "Epoch 379: | Train Loss: 0.10752 | Val Loss: 0.12335 | Train Acc: 100.000| Val Acc: 100.000\n",
      "Epoch 380: | Train Loss: 0.12020 | Val Loss: 0.07592 | Train Acc: 100.000| Val Acc: 100.000\n",
      "Epoch 381: | Train Loss: 0.09444 | Val Loss: 0.04400 | Train Acc: 100.000| Val Acc: 100.000\n",
      "Epoch 382: | Train Loss: 0.15866 | Val Loss: 0.05707 | Train Acc: 100.000| Val Acc: 100.000\n",
      "Epoch 383: | Train Loss: 0.12742 | Val Loss: 0.09241 | Train Acc: 100.000| Val Acc: 100.000\n",
      "Epoch 384: | Train Loss: 0.14068 | Val Loss: 0.13176 | Train Acc: 100.000| Val Acc: 100.000\n",
      "Epoch 385: | Train Loss: 0.12939 | Val Loss: 0.13098 | Train Acc: 100.000| Val Acc: 100.000\n",
      "Epoch 386: | Train Loss: 0.12295 | Val Loss: 0.12695 | Train Acc: 100.000| Val Acc: 100.000\n",
      "Epoch 387: | Train Loss: 0.12006 | Val Loss: 0.17985 | Train Acc: 100.000| Val Acc: 100.000\n",
      "Epoch 388: | Train Loss: 0.14896 | Val Loss: 0.14810 | Train Acc: 100.000| Val Acc: 100.000\n",
      "Epoch 389: | Train Loss: 0.14056 | Val Loss: 0.07784 | Train Acc: 100.000| Val Acc: 100.000\n",
      "Epoch 390: | Train Loss: 0.12684 | Val Loss: 0.09092 | Train Acc: 100.000| Val Acc: 100.000\n",
      "Epoch 391: | Train Loss: 0.14839 | Val Loss: 0.10218 | Train Acc: 100.000| Val Acc: 100.000\n",
      "Epoch 392: | Train Loss: 0.10622 | Val Loss: 0.10839 | Train Acc: 100.000| Val Acc: 100.000\n",
      "Epoch 393: | Train Loss: 0.13268 | Val Loss: 0.13339 | Train Acc: 100.000| Val Acc: 100.000\n",
      "Epoch 394: | Train Loss: 0.14805 | Val Loss: 0.11412 | Train Acc: 100.000| Val Acc: 100.000\n",
      "Epoch 395: | Train Loss: 0.15125 | Val Loss: 0.05061 | Train Acc: 100.000| Val Acc: 100.000\n",
      "Epoch 396: | Train Loss: 0.11835 | Val Loss: 0.18244 | Train Acc: 100.000| Val Acc: 100.000\n",
      "Epoch 397: | Train Loss: 0.14877 | Val Loss: 0.09951 | Train Acc: 100.000| Val Acc: 100.000\n",
      "Epoch 398: | Train Loss: 0.12036 | Val Loss: 0.11920 | Train Acc: 100.000| Val Acc: 100.000\n",
      "Epoch 399: | Train Loss: 0.11390 | Val Loss: 0.10750 | Train Acc: 100.000| Val Acc: 100.000\n",
      "Epoch 400: | Train Loss: 0.11665 | Val Loss: 0.07421 | Train Acc: 100.000| Val Acc: 100.000\n",
      "\n"
     ]
    }
   ],
   "source": [
    "print(\"Begin training.\")\n",
    "\n",
    "for e in tqdm(range(1, EPOCHS+1)):\n",
    "    \n",
    "    # TRAINING\n",
    "    train_epoch_loss = 0\n",
    "    train_epoch_acc = 0\n",
    "\n",
    "    model.train()\n",
    "    for X_train_batch, y_train_batch in train_loader:\n",
    "        X_train_batch, y_train_batch = X_train_batch.to(device), y_train_batch.to(device)\n",
    "        optimizer.zero_grad()\n",
    "        \n",
    "        y_train_pred = model(X_train_batch)\n",
    "        \n",
    "        train_loss = criterion(y_train_pred, y_train_batch)\n",
    "        train_acc = multi_acc(y_train_pred, y_train_batch)\n",
    "        \n",
    "        train_loss.backward()\n",
    "        optimizer.step()\n",
    "        \n",
    "        train_epoch_loss += train_loss.item()\n",
    "        train_epoch_acc += train_acc.item()\n",
    "        \n",
    "        \n",
    "    # VALIDATION    \n",
    "    with torch.no_grad():\n",
    "        \n",
    "        val_epoch_loss = 0\n",
    "        val_epoch_acc = 0\n",
    "        \n",
    "        model.eval()\n",
    "        for X_val_batch, y_val_batch in val_loader:\n",
    "            X_val_batch, y_val_batch = X_val_batch.to(device), y_val_batch.to(device)\n",
    "            \n",
    "            y_val_pred = model(X_val_batch)\n",
    "                        \n",
    "            val_loss = criterion(y_val_pred, y_val_batch)\n",
    "            val_acc = multi_acc(y_val_pred, y_val_batch)\n",
    "            \n",
    "            val_epoch_loss += train_loss.item()\n",
    "            val_epoch_acc += train_acc.item()\n",
    "\n",
    "    \n",
    "        \n",
    "    loss_stats['train'].append(train_epoch_loss/len(train_loader))\n",
    "    loss_stats['val'].append(val_epoch_loss/len(val_loader))\n",
    "    accuracy_stats['train'].append(train_epoch_acc/len(train_loader))\n",
    "    accuracy_stats['val'].append(val_epoch_acc/len(val_loader))\n",
    "                              \n",
    "    \n",
    "    print(f'Epoch {e+0:03}: | Train Loss: {train_epoch_loss/len(train_loader):.5f} | Val Loss: {val_epoch_loss/len(val_loader):.5f} | Train Acc: {train_epoch_acc/len(train_loader):.3f}| Val Acc: {val_epoch_acc/len(val_loader):.3f}')"
   ]
  },
  {
   "cell_type": "markdown",
   "metadata": {},
   "source": [
    "### Visualize Loss and Accuracy"
   ]
  },
  {
   "cell_type": "markdown",
   "metadata": {},
   "source": [
    "To plot the loss and accuracy line plots, we again create a dataframe from the accuracy_stats and loss_stats dictionaries."
   ]
  },
  {
   "cell_type": "code",
   "execution_count": 30,
   "metadata": {},
   "outputs": [
    {
     "data": {
      "text/plain": [
       "Text(0.5, 1.0, 'Train-Val Loss/Epoch')"
      ]
     },
     "execution_count": 30,
     "metadata": {},
     "output_type": "execute_result"
    },
    {
     "data": {
      "image/png": "[encoded data removed]",
      "text/plain": [
       "<Figure size 2160x720 with 2 Axes>"
      ]
     },
     "metadata": {},
     "output_type": "display_data"
    }
   ],
   "source": [
    "train_val_acc_df = pd.DataFrame.from_dict(accuracy_stats).reset_index().melt(id_vars=['index']).rename(columns={\"index\":\"epochs\"})\n",
    "train_val_loss_df = pd.DataFrame.from_dict(loss_stats).reset_index().melt(id_vars=['index']).rename(columns={\"index\":\"epochs\"})\n",
    "\n",
    "fig, axes = plt.subplots(nrows=1, ncols=2, figsize=(30,10))\n",
    "sns.lineplot(data=train_val_acc_df, x = \"epochs\", y=\"value\", hue=\"variable\",  ax=axes[0]).set_title('Train-Val Accuracy/Epoch')\n",
    "sns.lineplot(data=train_val_loss_df, x = \"epochs\", y=\"value\", hue=\"variable\", ax=axes[1]).set_title('Train-Val Loss/Epoch')"
   ]
  },
  {
   "cell_type": "markdown",
   "metadata": {},
   "source": [
    "## Test"
   ]
  },
  {
   "cell_type": "markdown",
   "metadata": {},
   "source": [
    "After training is done, we need to test how our model fared. Note that we've used model.eval() before we run our testing code.   \n",
    "To tell PyTorch that we do not want to perform back-propagation during inference, we use torch.no_grad() , just like we did it for the validation loop above.\n",
    "\n",
    "* We start by defining a list that will hold our predictions. Then we loop through our batches using the test_loader. For each batch -\n",
    "* We move our input mini-batch to GPU.\n",
    "* We make the predictions using our trained model.\n",
    "* Apply log_softmax activation to the predictions and pick the index of highest probability.\n",
    "* Move the batch to the GPU from the CPU.\n",
    "* Convert the tensor to a numpy object and append it to our list.\n",
    "* Flatten out the list so that we can use it as an input to confusion_matrix and classification_report ."
   ]
  },
  {
   "cell_type": "code",
   "execution_count": 32,
   "metadata": {},
   "outputs": [],
   "source": [
    "y_pred_list = []\n",
    "\n",
    "with torch.no_grad():\n",
    "    model.eval()\n",
    "    for X_batch, _ in test_loader:\n",
    "        X_batch = X_batch.to(device)\n",
    "        y_test_pred = model(X_batch)\n",
    "        y_pred_softmax = torch.log_softmax(y_test_pred, dim = 1)\n",
    "        _, y_pred_tags = torch.max(y_pred_softmax, dim = 1)\n",
    "        y_pred_list.append(y_pred_tags.cpu().numpy())"
   ]
  },
  {
   "cell_type": "code",
   "execution_count": 33,
   "metadata": {},
   "outputs": [],
   "source": [
    "y_pred_list = [a.squeeze().tolist() for a in y_pred_list]"
   ]
  },
  {
   "cell_type": "markdown",
   "metadata": {},
   "source": [
    "### Confusion Matrix"
   ]
  },
  {
   "cell_type": "markdown",
   "metadata": {},
   "source": [
    "We create a dataframe from the confusion matrix and plot it as a heatmap using the seaborn library."
   ]
  },
  {
   "cell_type": "code",
   "execution_count": 34,
   "metadata": {},
   "outputs": [
    {
     "data": {
      "text/plain": [
       "<matplotlib.axes._subplots.AxesSubplot at 0x7efe48969860>"
      ]
     },
     "execution_count": 34,
     "metadata": {},
     "output_type": "execute_result"
    },
    {
     "data": {
      "image/png": "[encoded data removed]",
      "text/plain": [
       "<Figure size 432x288 with 2 Axes>"
      ]
     },
     "metadata": {},
     "output_type": "display_data"
    }
   ],
   "source": [
    "confusion_matrix_df = pd.DataFrame(confusion_matrix(y_test, y_pred_list)).rename(columns=idx2class, index=idx2class)\n",
    "sns.heatmap(confusion_matrix_df, annot=True)"
   ]
  },
  {
   "cell_type": "markdown",
   "metadata": {},
   "source": [
    "### Classification Report"
   ]
  },
  {
   "cell_type": "markdown",
   "metadata": {},
   "source": [
    "Finally, we print out the classification report which contains the precision, recall, and the F1 score."
   ]
  },
  {
   "cell_type": "code",
   "execution_count": 35,
   "metadata": {},
   "outputs": [
    {
     "name": "stdout",
     "output_type": "stream",
     "text": [
      "              precision    recall  f1-score   support\n",
      "\n",
      "           0       0.00      0.00      0.00         2\n",
      "           1       0.13      0.18      0.15        11\n",
      "           2       0.74      0.66      0.70       136\n",
      "           3       0.64      0.68      0.66       128\n",
      "           4       0.56      0.60      0.58        40\n",
      "           5       0.00      0.00      0.00         3\n",
      "\n",
      "    accuracy                           0.63       320\n",
      "   macro avg       0.35      0.35      0.35       320\n",
      "weighted avg       0.65      0.63      0.64       320\n",
      "\n"
     ]
    }
   ],
   "source": [
    "print(classification_report(y_test, y_pred_list))"
   ]
  }
 ],
 "metadata": {
  "kernelspec": {
   "display_name": "Python 3",
   "language": "python",
   "name": "python3"
  },
  "language_info": {
   "codemirror_mode": {
    "name": "ipython",
    "version": 3
   },
   "file_extension": ".py",
   "mimetype": "text/x-python",
   "name": "python",
   "nbconvert_exporter": "python",
   "pygments_lexer": "ipython3",
   "version": "3.6.10"
  }
 },
 "nbformat": 4,
 "nbformat_minor": 4
}
