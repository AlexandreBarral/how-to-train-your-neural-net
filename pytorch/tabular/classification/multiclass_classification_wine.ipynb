{
 "cells": [
  {
   "cell_type": "markdown",
   "metadata": {},
   "source": [
    "# Tabular - Mutliclass Classification using DNNs\n",
    "By [Akshaj Verma](https://akshajverma.com/)\n",
    "\n",
    "This notebook takes you through the implementation of multiclass classification using feedforward networks on the [wine dataset](https://www.kaggle.com/uciml/red-wine-quality-cortez-et-al-2009) using PyTorch."
   ]
  },
  {
   "cell_type": "code",
   "execution_count": 1,
   "metadata": {},
   "outputs": [],
   "source": [
    "import numpy as np\n",
    "import pandas as pd\n",
    "import seaborn as sns\n",
    "from tqdm.notebook import tqdm\n",
    "import matplotlib.pyplot as plt\n",
    "\n",
    "import torch\n",
    "import torch.nn as nn\n",
    "import torch.optim as optim\n",
    "from torch.utils.data import Dataset, DataLoader, WeightedRandomSampler\n",
    "\n",
    "from sklearn.preprocessing import MinMaxScaler    \n",
    "from sklearn.model_selection import train_test_split\n",
    "from sklearn.metrics import confusion_matrix, classification_report"
   ]
  },
  {
   "cell_type": "code",
   "execution_count": 2,
   "metadata": {},
   "outputs": [],
   "source": [
    "torch.manual_seed(69)\n",
    "np.random.seed(21)"
   ]
  },
  {
   "cell_type": "code",
   "execution_count": 3,
   "metadata": {},
   "outputs": [
    {
     "name": "stdout",
     "output_type": "stream",
     "text": [
      "We're using cuda? True\n"
     ]
    }
   ],
   "source": [
    "%matplotlib inline\n",
    "sns.set_style('darkgrid')\n",
    "\n",
    "print(\"We're using cuda?\", torch.cuda.is_available())"
   ]
  },
  {
   "cell_type": "code",
   "execution_count": 4,
   "metadata": {},
   "outputs": [],
   "source": [
    "df = pd.read_csv(\"../../../data/tabular/classification/winequality-red.csv\")"
   ]
  },
  {
   "cell_type": "markdown",
   "metadata": {},
   "source": [
    "## Pre-processing"
   ]
  },
  {
   "cell_type": "code",
   "execution_count": 5,
   "metadata": {},
   "outputs": [
    {
     "data": {
      "text/html": [
       "<div>\n",
       "<style scoped>\n",
       "    .dataframe tbody tr th:only-of-type {\n",
       "        vertical-align: middle;\n",
       "    }\n",
       "\n",
       "    .dataframe tbody tr th {\n",
       "        vertical-align: top;\n",
       "    }\n",
       "\n",
       "    .dataframe thead th {\n",
       "        text-align: right;\n",
       "    }\n",
       "</style>\n",
       "<table border=\"1\" class=\"dataframe\">\n",
       "  <thead>\n",
       "    <tr style=\"text-align: right;\">\n",
       "      <th></th>\n",
       "      <th>fixed acidity</th>\n",
       "      <th>volatile acidity</th>\n",
       "      <th>citric acid</th>\n",
       "      <th>residual sugar</th>\n",
       "      <th>chlorides</th>\n",
       "      <th>free sulfur dioxide</th>\n",
       "      <th>total sulfur dioxide</th>\n",
       "      <th>density</th>\n",
       "      <th>pH</th>\n",
       "      <th>sulphates</th>\n",
       "      <th>alcohol</th>\n",
       "      <th>quality</th>\n",
       "    </tr>\n",
       "  </thead>\n",
       "  <tbody>\n",
       "    <tr>\n",
       "      <th>0</th>\n",
       "      <td>7.4</td>\n",
       "      <td>0.70</td>\n",
       "      <td>0.00</td>\n",
       "      <td>1.9</td>\n",
       "      <td>0.076</td>\n",
       "      <td>11.0</td>\n",
       "      <td>34.0</td>\n",
       "      <td>0.9978</td>\n",
       "      <td>3.51</td>\n",
       "      <td>0.56</td>\n",
       "      <td>9.4</td>\n",
       "      <td>5</td>\n",
       "    </tr>\n",
       "    <tr>\n",
       "      <th>1</th>\n",
       "      <td>7.8</td>\n",
       "      <td>0.88</td>\n",
       "      <td>0.00</td>\n",
       "      <td>2.6</td>\n",
       "      <td>0.098</td>\n",
       "      <td>25.0</td>\n",
       "      <td>67.0</td>\n",
       "      <td>0.9968</td>\n",
       "      <td>3.20</td>\n",
       "      <td>0.68</td>\n",
       "      <td>9.8</td>\n",
       "      <td>5</td>\n",
       "    </tr>\n",
       "    <tr>\n",
       "      <th>2</th>\n",
       "      <td>7.8</td>\n",
       "      <td>0.76</td>\n",
       "      <td>0.04</td>\n",
       "      <td>2.3</td>\n",
       "      <td>0.092</td>\n",
       "      <td>15.0</td>\n",
       "      <td>54.0</td>\n",
       "      <td>0.9970</td>\n",
       "      <td>3.26</td>\n",
       "      <td>0.65</td>\n",
       "      <td>9.8</td>\n",
       "      <td>5</td>\n",
       "    </tr>\n",
       "    <tr>\n",
       "      <th>3</th>\n",
       "      <td>11.2</td>\n",
       "      <td>0.28</td>\n",
       "      <td>0.56</td>\n",
       "      <td>1.9</td>\n",
       "      <td>0.075</td>\n",
       "      <td>17.0</td>\n",
       "      <td>60.0</td>\n",
       "      <td>0.9980</td>\n",
       "      <td>3.16</td>\n",
       "      <td>0.58</td>\n",
       "      <td>9.8</td>\n",
       "      <td>6</td>\n",
       "    </tr>\n",
       "    <tr>\n",
       "      <th>4</th>\n",
       "      <td>7.4</td>\n",
       "      <td>0.70</td>\n",
       "      <td>0.00</td>\n",
       "      <td>1.9</td>\n",
       "      <td>0.076</td>\n",
       "      <td>11.0</td>\n",
       "      <td>34.0</td>\n",
       "      <td>0.9978</td>\n",
       "      <td>3.51</td>\n",
       "      <td>0.56</td>\n",
       "      <td>9.4</td>\n",
       "      <td>5</td>\n",
       "    </tr>\n",
       "  </tbody>\n",
       "</table>\n",
       "</div>"
      ],
      "text/plain": [
       "   fixed acidity  volatile acidity  citric acid  residual sugar  chlorides  \\\n",
       "0            7.4              0.70         0.00             1.9      0.076   \n",
       "1            7.8              0.88         0.00             2.6      0.098   \n",
       "2            7.8              0.76         0.04             2.3      0.092   \n",
       "3           11.2              0.28         0.56             1.9      0.075   \n",
       "4            7.4              0.70         0.00             1.9      0.076   \n",
       "\n",
       "   free sulfur dioxide  total sulfur dioxide  density    pH  sulphates  \\\n",
       "0                 11.0                  34.0   0.9978  3.51       0.56   \n",
       "1                 25.0                  67.0   0.9968  3.20       0.68   \n",
       "2                 15.0                  54.0   0.9970  3.26       0.65   \n",
       "3                 17.0                  60.0   0.9980  3.16       0.58   \n",
       "4                 11.0                  34.0   0.9978  3.51       0.56   \n",
       "\n",
       "   alcohol  quality  \n",
       "0      9.4        5  \n",
       "1      9.8        5  \n",
       "2      9.8        5  \n",
       "3      9.8        6  \n",
       "4      9.4        5  "
      ]
     },
     "execution_count": 5,
     "metadata": {},
     "output_type": "execute_result"
    }
   ],
   "source": [
    "df.head()"
   ]
  },
  {
   "cell_type": "code",
   "execution_count": 6,
   "metadata": {},
   "outputs": [
    {
     "name": "stdout",
     "output_type": "stream",
     "text": [
      "Number of rows: 1599\n"
     ]
    }
   ],
   "source": [
    "print(\"Number of rows:\", len(df))"
   ]
  },
  {
   "cell_type": "code",
   "execution_count": 7,
   "metadata": {},
   "outputs": [
    {
     "data": {
      "text/html": [
       "<div>\n",
       "<style scoped>\n",
       "    .dataframe tbody tr th:only-of-type {\n",
       "        vertical-align: middle;\n",
       "    }\n",
       "\n",
       "    .dataframe tbody tr th {\n",
       "        vertical-align: top;\n",
       "    }\n",
       "\n",
       "    .dataframe thead th {\n",
       "        text-align: right;\n",
       "    }\n",
       "</style>\n",
       "<table border=\"1\" class=\"dataframe\">\n",
       "  <thead>\n",
       "    <tr style=\"text-align: right;\">\n",
       "      <th></th>\n",
       "      <th>fixed acidity</th>\n",
       "      <th>volatile acidity</th>\n",
       "      <th>citric acid</th>\n",
       "      <th>residual sugar</th>\n",
       "      <th>chlorides</th>\n",
       "      <th>free sulfur dioxide</th>\n",
       "      <th>total sulfur dioxide</th>\n",
       "      <th>density</th>\n",
       "      <th>pH</th>\n",
       "      <th>sulphates</th>\n",
       "      <th>alcohol</th>\n",
       "      <th>quality</th>\n",
       "    </tr>\n",
       "  </thead>\n",
       "  <tbody>\n",
       "    <tr>\n",
       "      <th>count</th>\n",
       "      <td>1599.000000</td>\n",
       "      <td>1599.000000</td>\n",
       "      <td>1599.000000</td>\n",
       "      <td>1599.000000</td>\n",
       "      <td>1599.000000</td>\n",
       "      <td>1599.000000</td>\n",
       "      <td>1599.000000</td>\n",
       "      <td>1599.000000</td>\n",
       "      <td>1599.000000</td>\n",
       "      <td>1599.000000</td>\n",
       "      <td>1599.000000</td>\n",
       "      <td>1599.000000</td>\n",
       "    </tr>\n",
       "    <tr>\n",
       "      <th>mean</th>\n",
       "      <td>8.319637</td>\n",
       "      <td>0.527821</td>\n",
       "      <td>0.270976</td>\n",
       "      <td>2.538806</td>\n",
       "      <td>0.087467</td>\n",
       "      <td>15.874922</td>\n",
       "      <td>46.467792</td>\n",
       "      <td>0.996747</td>\n",
       "      <td>3.311113</td>\n",
       "      <td>0.658149</td>\n",
       "      <td>10.422983</td>\n",
       "      <td>5.636023</td>\n",
       "    </tr>\n",
       "    <tr>\n",
       "      <th>std</th>\n",
       "      <td>1.741096</td>\n",
       "      <td>0.179060</td>\n",
       "      <td>0.194801</td>\n",
       "      <td>1.409928</td>\n",
       "      <td>0.047065</td>\n",
       "      <td>10.460157</td>\n",
       "      <td>32.895324</td>\n",
       "      <td>0.001887</td>\n",
       "      <td>0.154386</td>\n",
       "      <td>0.169507</td>\n",
       "      <td>1.065668</td>\n",
       "      <td>0.807569</td>\n",
       "    </tr>\n",
       "    <tr>\n",
       "      <th>min</th>\n",
       "      <td>4.600000</td>\n",
       "      <td>0.120000</td>\n",
       "      <td>0.000000</td>\n",
       "      <td>0.900000</td>\n",
       "      <td>0.012000</td>\n",
       "      <td>1.000000</td>\n",
       "      <td>6.000000</td>\n",
       "      <td>0.990070</td>\n",
       "      <td>2.740000</td>\n",
       "      <td>0.330000</td>\n",
       "      <td>8.400000</td>\n",
       "      <td>3.000000</td>\n",
       "    </tr>\n",
       "    <tr>\n",
       "      <th>25%</th>\n",
       "      <td>7.100000</td>\n",
       "      <td>0.390000</td>\n",
       "      <td>0.090000</td>\n",
       "      <td>1.900000</td>\n",
       "      <td>0.070000</td>\n",
       "      <td>7.000000</td>\n",
       "      <td>22.000000</td>\n",
       "      <td>0.995600</td>\n",
       "      <td>3.210000</td>\n",
       "      <td>0.550000</td>\n",
       "      <td>9.500000</td>\n",
       "      <td>5.000000</td>\n",
       "    </tr>\n",
       "    <tr>\n",
       "      <th>50%</th>\n",
       "      <td>7.900000</td>\n",
       "      <td>0.520000</td>\n",
       "      <td>0.260000</td>\n",
       "      <td>2.200000</td>\n",
       "      <td>0.079000</td>\n",
       "      <td>14.000000</td>\n",
       "      <td>38.000000</td>\n",
       "      <td>0.996750</td>\n",
       "      <td>3.310000</td>\n",
       "      <td>0.620000</td>\n",
       "      <td>10.200000</td>\n",
       "      <td>6.000000</td>\n",
       "    </tr>\n",
       "    <tr>\n",
       "      <th>75%</th>\n",
       "      <td>9.200000</td>\n",
       "      <td>0.640000</td>\n",
       "      <td>0.420000</td>\n",
       "      <td>2.600000</td>\n",
       "      <td>0.090000</td>\n",
       "      <td>21.000000</td>\n",
       "      <td>62.000000</td>\n",
       "      <td>0.997835</td>\n",
       "      <td>3.400000</td>\n",
       "      <td>0.730000</td>\n",
       "      <td>11.100000</td>\n",
       "      <td>6.000000</td>\n",
       "    </tr>\n",
       "    <tr>\n",
       "      <th>max</th>\n",
       "      <td>15.900000</td>\n",
       "      <td>1.580000</td>\n",
       "      <td>1.000000</td>\n",
       "      <td>15.500000</td>\n",
       "      <td>0.611000</td>\n",
       "      <td>72.000000</td>\n",
       "      <td>289.000000</td>\n",
       "      <td>1.003690</td>\n",
       "      <td>4.010000</td>\n",
       "      <td>2.000000</td>\n",
       "      <td>14.900000</td>\n",
       "      <td>8.000000</td>\n",
       "    </tr>\n",
       "  </tbody>\n",
       "</table>\n",
       "</div>"
      ],
      "text/plain": [
       "       fixed acidity  volatile acidity  citric acid  residual sugar  \\\n",
       "count    1599.000000       1599.000000  1599.000000     1599.000000   \n",
       "mean        8.319637          0.527821     0.270976        2.538806   \n",
       "std         1.741096          0.179060     0.194801        1.409928   \n",
       "min         4.600000          0.120000     0.000000        0.900000   \n",
       "25%         7.100000          0.390000     0.090000        1.900000   \n",
       "50%         7.900000          0.520000     0.260000        2.200000   \n",
       "75%         9.200000          0.640000     0.420000        2.600000   \n",
       "max        15.900000          1.580000     1.000000       15.500000   \n",
       "\n",
       "         chlorides  free sulfur dioxide  total sulfur dioxide      density  \\\n",
       "count  1599.000000          1599.000000           1599.000000  1599.000000   \n",
       "mean      0.087467            15.874922             46.467792     0.996747   \n",
       "std       0.047065            10.460157             32.895324     0.001887   \n",
       "min       0.012000             1.000000              6.000000     0.990070   \n",
       "25%       0.070000             7.000000             22.000000     0.995600   \n",
       "50%       0.079000            14.000000             38.000000     0.996750   \n",
       "75%       0.090000            21.000000             62.000000     0.997835   \n",
       "max       0.611000            72.000000            289.000000     1.003690   \n",
       "\n",
       "                pH    sulphates      alcohol      quality  \n",
       "count  1599.000000  1599.000000  1599.000000  1599.000000  \n",
       "mean      3.311113     0.658149    10.422983     5.636023  \n",
       "std       0.154386     0.169507     1.065668     0.807569  \n",
       "min       2.740000     0.330000     8.400000     3.000000  \n",
       "25%       3.210000     0.550000     9.500000     5.000000  \n",
       "50%       3.310000     0.620000    10.200000     6.000000  \n",
       "75%       3.400000     0.730000    11.100000     6.000000  \n",
       "max       4.010000     2.000000    14.900000     8.000000  "
      ]
     },
     "execution_count": 7,
     "metadata": {},
     "output_type": "execute_result"
    }
   ],
   "source": [
    "df.describe()"
   ]
  },
  {
   "cell_type": "markdown",
   "metadata": {},
   "source": [
    "We observe that there's a class imbalance here. So, we need to perform stratified splitting here. "
   ]
  },
  {
   "cell_type": "code",
   "execution_count": 8,
   "metadata": {},
   "outputs": [
    {
     "data": {
      "text/plain": [
       "<matplotlib.axes._subplots.AxesSubplot at 0x7f14c0624978>"
      ]
     },
     "execution_count": 8,
     "metadata": {},
     "output_type": "execute_result"
    },
    {
     "data": {
      "image/png": "[encoded data removed]",
      "text/plain": [
       "<Figure size 432x288 with 1 Axes>"
      ]
     },
     "metadata": {},
     "output_type": "display_data"
    }
   ],
   "source": [
    "sns.countplot(x = 'quality', data=df)"
   ]
  },
  {
   "cell_type": "code",
   "execution_count": 9,
   "metadata": {},
   "outputs": [],
   "source": [
    "# PyTorch supports labels starting from 0. That is [0, n]. We need to remap our labels to start from 0.\n",
    "\n",
    "class2idx = {\n",
    "    3:0,\n",
    "    4:1,\n",
    "    5:2,\n",
    "    6:3,\n",
    "    7:4,\n",
    "    8:5\n",
    "}\n",
    "\n",
    "idx2class = {v: k for k, v in class2idx.items()}\n",
    "\n",
    "df['quality'].replace(class2idx, inplace=True)"
   ]
  },
  {
   "cell_type": "code",
   "execution_count": 10,
   "metadata": {},
   "outputs": [],
   "source": [
    "X = df.iloc[:, 0:-1]\n",
    "y = df.iloc[:, -1]"
   ]
  },
  {
   "cell_type": "markdown",
   "metadata": {},
   "source": [
    "## Train - Validation - Test"
   ]
  },
  {
   "cell_type": "code",
   "execution_count": 11,
   "metadata": {},
   "outputs": [],
   "source": [
    "# Train - Test\n",
    "X_trainval, X_test, y_trainval, y_test = train_test_split(X, y, test_size=0.2, stratify=y, random_state=69)\n",
    "\n",
    "# Split train into train-val\n",
    "X_train, X_val, y_train, y_val = train_test_split(X_trainval, y_trainval, test_size=0.1, stratify=y_trainval, random_state=21)"
   ]
  },
  {
   "cell_type": "code",
   "execution_count": 12,
   "metadata": {},
   "outputs": [],
   "source": [
    "scaler = MinMaxScaler()\n",
    "X_train = scaler.fit_transform(X_train)\n",
    "X_val = scaler.fit_transform(X_val)\n",
    "X_test = scaler.fit_transform(X_test)"
   ]
  },
  {
   "cell_type": "code",
   "execution_count": 13,
   "metadata": {},
   "outputs": [],
   "source": [
    "X_train, y_train = np.array(X_train), np.array(y_train)\n",
    "X_val, y_val = np.array(X_val), np.array(y_val)\n",
    "X_test, y_test = np.array(X_test), np.array(y_test)"
   ]
  },
  {
   "cell_type": "code",
   "execution_count": 14,
   "metadata": {},
   "outputs": [],
   "source": [
    "def get_class_distribution(obj):\n",
    "    count_dict = {\n",
    "        \"rating_3\": 0,\n",
    "        \"rating_4\": 0,\n",
    "        \"rating_5\": 0,\n",
    "        \"rating_6\": 0,\n",
    "        \"rating_7\": 0,\n",
    "        \"rating_8\": 0,\n",
    "    }\n",
    "    \n",
    "    for i in obj:\n",
    "        if i == 0: \n",
    "            count_dict['rating_3'] += 1\n",
    "        elif i == 1: \n",
    "            count_dict['rating_4'] += 1\n",
    "        elif i == 2: \n",
    "            count_dict['rating_5'] += 1\n",
    "        elif i == 3: \n",
    "            count_dict['rating_6'] += 1\n",
    "        elif i == 4: \n",
    "            count_dict['rating_7'] += 1  \n",
    "        elif i == 5: \n",
    "            count_dict['rating_8'] += 1              \n",
    "        else:\n",
    "            print(\"Check classes.\")\n",
    "            \n",
    "    return count_dict "
   ]
  },
  {
   "cell_type": "code",
   "execution_count": 15,
   "metadata": {},
   "outputs": [
    {
     "name": "stdout",
     "output_type": "stream",
     "text": [
      "Train: {'rating_3': 7, 'rating_4': 38, 'rating_5': 490, 'rating_6': 459, 'rating_7': 143, 'rating_8': 14}\n",
      "Test : {'rating_3': 2, 'rating_4': 11, 'rating_5': 136, 'rating_6': 128, 'rating_7': 40, 'rating_8': 3}\n",
      "Val  : {'rating_3': 1, 'rating_4': 4, 'rating_5': 55, 'rating_6': 51, 'rating_7': 16, 'rating_8': 1}\n"
     ]
    }
   ],
   "source": [
    "print(\"Train:\", get_class_distribution(y_train))\n",
    "print(\"Test :\", get_class_distribution(y_test))\n",
    "print(\"Val  :\", get_class_distribution(y_val))"
   ]
  },
  {
   "cell_type": "code",
   "execution_count": 16,
   "metadata": {},
   "outputs": [
    {
     "data": {
      "text/plain": [
       "Text(0.5, 1.0, 'Class Distribution in Test Set')"
      ]
     },
     "execution_count": 16,
     "metadata": {},
     "output_type": "execute_result"
    },
    {
     "data": {
      "image/png": "[encoded data removed]",
      "text/plain": [
       "<Figure size 1800x504 with 3 Axes>"
      ]
     },
     "metadata": {},
     "output_type": "display_data"
    }
   ],
   "source": [
    "fig, axes = plt.subplots(nrows=1, ncols=3, figsize=(25,7))\n",
    "sns.barplot(data = pd.DataFrame.from_dict([get_class_distribution(y_train)]).melt(), x = \"variable\", y=\"value\", hue=\"variable\",  ax=axes[0]).set_title('Class Distribution in Train Set')\n",
    "sns.barplot(data = pd.DataFrame.from_dict([get_class_distribution(y_val)]).melt(), x = \"variable\", y=\"value\", hue=\"variable\",  ax=axes[1]).set_title('Class Distribution in Val Set')\n",
    "sns.barplot(data = pd.DataFrame.from_dict([get_class_distribution(y_test)]).melt(), x = \"variable\", y=\"value\", hue=\"variable\",  ax=axes[2]).set_title('Class Distribution in Test Set')"
   ]
  },
  {
   "cell_type": "markdown",
   "metadata": {},
   "source": [
    "## Neural Net"
   ]
  },
  {
   "cell_type": "markdown",
   "metadata": {},
   "source": [
    "### Define Custom Dataset"
   ]
  },
  {
   "cell_type": "code",
   "execution_count": 17,
   "metadata": {},
   "outputs": [],
   "source": [
    "class ClassifierDataset(Dataset):\n",
    "    \n",
    "    def __init__(self, X_data, y_data):\n",
    "        self.X_data = X_data\n",
    "        self.y_data = y_data\n",
    "        \n",
    "    def __getitem__(self, index):\n",
    "        return self.X_data[index], self.y_data[index]\n",
    "        \n",
    "    def __len__ (self):\n",
    "        return len(self.X_data)\n",
    "\n",
    "\n",
    "train_dataset = ClassifierDataset(torch.from_numpy(X_train).float(), torch.from_numpy(y_train).long())\n",
    "val_dataset = ClassifierDataset(torch.from_numpy(X_val).float(), torch.from_numpy(y_val).long())\n",
    "test_dataset = ClassifierDataset(torch.from_numpy(X_test).float(), torch.from_numpy(y_test).long())"
   ]
  },
  {
   "cell_type": "markdown",
   "metadata": {},
   "source": [
    "### Weighted Sampling"
   ]
  },
  {
   "cell_type": "code",
   "execution_count": 18,
   "metadata": {},
   "outputs": [],
   "source": [
    "target_list = []\n",
    "\n",
    "for _, t in train_dataset:\n",
    "    target_list.append(t)\n",
    "    \n",
    "target_list = torch.tensor(target_list)\n",
    "target_list = target_list[torch.randperm(len(target_list))]"
   ]
  },
  {
   "cell_type": "code",
   "execution_count": 19,
   "metadata": {},
   "outputs": [
    {
     "data": {
      "text/plain": [
       "tensor([0.1429, 0.0263, 0.0020, 0.0022, 0.0070, 0.0714])"
      ]
     },
     "execution_count": 19,
     "metadata": {},
     "output_type": "execute_result"
    }
   ],
   "source": [
    "class_count = [i for i in get_class_distribution(y_train).values()]\n",
    "class_weights = 1./torch.tensor(class_count, dtype=torch.float) \n",
    "class_weights"
   ]
  },
  {
   "cell_type": "code",
   "execution_count": 20,
   "metadata": {},
   "outputs": [],
   "source": [
    "class_weights_all = class_weights[target_list]"
   ]
  },
  {
   "cell_type": "code",
   "execution_count": 21,
   "metadata": {},
   "outputs": [],
   "source": [
    "weighted_sampler = WeightedRandomSampler(\n",
    "    weights=class_weights_all,\n",
    "    num_samples=len(class_weights_all),\n",
    "    replacement=True\n",
    ")"
   ]
  },
  {
   "cell_type": "markdown",
   "metadata": {},
   "source": [
    "### Model Params"
   ]
  },
  {
   "cell_type": "code",
   "execution_count": 22,
   "metadata": {},
   "outputs": [],
   "source": [
    "EPOCHS = 350\n",
    "BATCH_SIZE = 64\n",
    "LEARNING_RATE = 0.001\n",
    "\n",
    "NUM_FEATURES = len(X.columns)\n",
    "NUM_CLASSES = 6"
   ]
  },
  {
   "cell_type": "markdown",
   "metadata": {},
   "source": [
    "### Define Dataloader"
   ]
  },
  {
   "cell_type": "code",
   "execution_count": 23,
   "metadata": {},
   "outputs": [],
   "source": [
    "train_loader = DataLoader(dataset=train_dataset, batch_size=BATCH_SIZE, sampler=weighted_sampler)\n",
    "val_loader = DataLoader(dataset=val_dataset, batch_size=1)\n",
    "test_loader = DataLoader(dataset=test_dataset, batch_size=1)"
   ]
  },
  {
   "cell_type": "markdown",
   "metadata": {},
   "source": [
    "## Define Neural Net Architecture"
   ]
  },
  {
   "cell_type": "code",
   "execution_count": 24,
   "metadata": {},
   "outputs": [],
   "source": [
    "class MulticlassClassification(nn.Module):\n",
    "    def __init__(self, num_feature, num_class):\n",
    "        super(MulticlassClassification, self).__init__()\n",
    "        \n",
    "        self.layer_1 = nn.Linear(num_feature, 512)\n",
    "        self.layer_2 = nn.Linear(512, 128)\n",
    "        self.layer_3 = nn.Linear(128, 64)\n",
    "        self.layer_out = nn.Linear(64, num_class) \n",
    "        \n",
    "        self.relu = nn.ReLU()\n",
    "        self.dropout = nn.Dropout(p=0.2)\n",
    "        self.batchnorm1 = nn.BatchNorm1d(512)\n",
    "        self.batchnorm2 = nn.BatchNorm1d(128)\n",
    "        self.batchnorm3 = nn.BatchNorm1d(64)\n",
    "        \n",
    "    def forward(self, x):\n",
    "        x = self.layer_1(x)\n",
    "        x = self.batchnorm1(x)\n",
    "        x = self.relu(x)\n",
    "        \n",
    "        x = self.layer_2(x)\n",
    "        x = self.batchnorm2(x)\n",
    "        x = self.relu(x)\n",
    "        x = self.dropout(x)\n",
    "        \n",
    "        x = self.layer_3(x)\n",
    "        x = self.batchnorm3(x)\n",
    "        x = self.relu(x)\n",
    "        x = self.dropout(x)\n",
    "        \n",
    "        x = self.layer_out(x)\n",
    "        \n",
    "        return x"
   ]
  },
  {
   "cell_type": "code",
   "execution_count": 25,
   "metadata": {},
   "outputs": [
    {
     "name": "stdout",
     "output_type": "stream",
     "text": [
      "cuda:0\n"
     ]
    }
   ],
   "source": [
    "device = torch.device(\"cuda:0\" if torch.cuda.is_available() else \"cpu\")\n",
    "print(device)"
   ]
  },
  {
   "cell_type": "code",
   "execution_count": 26,
   "metadata": {},
   "outputs": [
    {
     "name": "stdout",
     "output_type": "stream",
     "text": [
      "MulticlassClassification(\n",
      "  (layer_1): Linear(in_features=11, out_features=512, bias=True)\n",
      "  (layer_2): Linear(in_features=512, out_features=128, bias=True)\n",
      "  (layer_3): Linear(in_features=128, out_features=64, bias=True)\n",
      "  (layer_out): Linear(in_features=64, out_features=6, bias=True)\n",
      "  (relu): ReLU()\n",
      "  (dropout): Dropout(p=0.2, inplace=False)\n",
      "  (batchnorm1): BatchNorm1d(512, eps=1e-05, momentum=0.1, affine=True, track_running_stats=True)\n",
      "  (batchnorm2): BatchNorm1d(128, eps=1e-05, momentum=0.1, affine=True, track_running_stats=True)\n",
      "  (batchnorm3): BatchNorm1d(64, eps=1e-05, momentum=0.1, affine=True, track_running_stats=True)\n",
      ")\n"
     ]
    }
   ],
   "source": [
    "model = MulticlassClassification(num_feature = NUM_FEATURES, num_class=NUM_CLASSES)\n",
    "model.to(device)\n",
    "\n",
    "print(model)\n",
    "\n",
    "criterion = nn.CrossEntropyLoss(weight=class_weights.to(device))\n",
    "optimizer = optim.Adam(model.parameters(), lr=LEARNING_RATE)"
   ]
  },
  {
   "cell_type": "markdown",
   "metadata": {},
   "source": [
    "## Train "
   ]
  },
  {
   "cell_type": "code",
   "execution_count": 27,
   "metadata": {},
   "outputs": [],
   "source": [
    "def multi_acc(y_pred, y_test):\n",
    "    y_pred_softmax = torch.log_softmax(y_pred, dim = 1)\n",
    "    _, y_pred_tags = torch.max(y_pred_softmax, dim = 1)    \n",
    "    \n",
    "    correct_pred = (y_pred_tags == y_test).float()\n",
    "    acc = correct_pred.sum() / len(correct_pred)\n",
    "    \n",
    "    acc = torch.round(acc) * 100\n",
    "    \n",
    "    return acc"
   ]
  },
  {
   "cell_type": "code",
   "execution_count": 28,
   "metadata": {},
   "outputs": [],
   "source": [
    "accuracy_stats = {\n",
    "    'train': [],\n",
    "    \"val\": []\n",
    "}\n",
    "\n",
    "loss_stats = {\n",
    "    'train': [],\n",
    "    \"val\": []\n",
    "}"
   ]
  },
  {
   "cell_type": "code",
   "execution_count": 29,
   "metadata": {},
   "outputs": [
    {
     "name": "stdout",
     "output_type": "stream",
     "text": [
      "Begin training.\n"
     ]
    },
    {
     "data": {
      "application/vnd.jupyter.widget-view+json": {
       "model_id": "65345ec4de3b4c598c52a14d77385e4e",
       "version_major": 2,
       "version_minor": 0
      },
      "text/plain": [
       "HBox(children=(FloatProgress(value=0.0, max=350.0), HTML(value='')))"
      ]
     },
     "metadata": {},
     "output_type": "display_data"
    },
    {
     "name": "stdout",
     "output_type": "stream",
     "text": [
      "Epoch 001: | Train Loss: 1.55731 | Val Loss: 1.48898 | Train Acc: 5.556| Val Acc: 0.000\n",
      "Epoch 002: | Train Loss: 1.55930 | Val Loss: 1.27569 | Train Acc: 50.000| Val Acc: 100.000\n",
      "Epoch 003: | Train Loss: 1.27780 | Val Loss: 1.11089 | Train Acc: 61.111| Val Acc: 100.000\n",
      "Epoch 004: | Train Loss: 1.01724 | Val Loss: 0.94262 | Train Acc: 50.000| Val Acc: 100.000\n",
      "Epoch 005: | Train Loss: 1.01397 | Val Loss: 1.74287 | Train Acc: 44.444| Val Acc: 100.000\n",
      "Epoch 006: | Train Loss: 0.95331 | Val Loss: 0.74745 | Train Acc: 83.333| Val Acc: 100.000\n",
      "Epoch 007: | Train Loss: 1.05918 | Val Loss: 1.24103 | Train Acc: 66.667| Val Acc: 100.000\n",
      "Epoch 008: | Train Loss: 0.99531 | Val Loss: 0.94752 | Train Acc: 83.333| Val Acc: 100.000\n",
      "Epoch 009: | Train Loss: 0.92657 | Val Loss: 0.88624 | Train Acc: 77.778| Val Acc: 100.000\n",
      "Epoch 010: | Train Loss: 0.77746 | Val Loss: 0.44255 | Train Acc: 100.000| Val Acc: 100.000\n",
      "Epoch 011: | Train Loss: 0.85298 | Val Loss: 0.57309 | Train Acc: 83.333| Val Acc: 100.000\n",
      "Epoch 012: | Train Loss: 0.79782 | Val Loss: 0.56014 | Train Acc: 88.889| Val Acc: 100.000\n",
      "Epoch 013: | Train Loss: 0.79115 | Val Loss: 0.97511 | Train Acc: 88.889| Val Acc: 100.000\n",
      "Epoch 014: | Train Loss: 0.79471 | Val Loss: 0.71961 | Train Acc: 94.444| Val Acc: 100.000\n",
      "Epoch 015: | Train Loss: 0.70772 | Val Loss: 0.80267 | Train Acc: 100.000| Val Acc: 100.000\n",
      "Epoch 016: | Train Loss: 0.64883 | Val Loss: 0.48058 | Train Acc: 100.000| Val Acc: 100.000\n",
      "Epoch 017: | Train Loss: 0.75477 | Val Loss: 0.75644 | Train Acc: 100.000| Val Acc: 100.000\n",
      "Epoch 018: | Train Loss: 0.71697 | Val Loss: 0.48908 | Train Acc: 100.000| Val Acc: 100.000\n",
      "Epoch 019: | Train Loss: 0.75984 | Val Loss: 0.49301 | Train Acc: 94.444| Val Acc: 100.000\n",
      "Epoch 020: | Train Loss: 0.67708 | Val Loss: 0.55798 | Train Acc: 100.000| Val Acc: 100.000\n",
      "Epoch 021: | Train Loss: 0.65619 | Val Loss: 0.70759 | Train Acc: 100.000| Val Acc: 100.000\n",
      "Epoch 022: | Train Loss: 0.60789 | Val Loss: 0.34544 | Train Acc: 100.000| Val Acc: 100.000\n",
      "Epoch 023: | Train Loss: 0.65185 | Val Loss: 0.77232 | Train Acc: 100.000| Val Acc: 100.000\n",
      "Epoch 024: | Train Loss: 0.72001 | Val Loss: 0.70176 | Train Acc: 100.000| Val Acc: 100.000\n",
      "Epoch 025: | Train Loss: 0.68104 | Val Loss: 0.97481 | Train Acc: 94.444| Val Acc: 100.000\n",
      "Epoch 026: | Train Loss: 0.60546 | Val Loss: 0.57823 | Train Acc: 100.000| Val Acc: 100.000\n",
      "Epoch 027: | Train Loss: 0.56775 | Val Loss: 0.24045 | Train Acc: 100.000| Val Acc: 100.000\n",
      "Epoch 028: | Train Loss: 0.64519 | Val Loss: 0.62576 | Train Acc: 100.000| Val Acc: 100.000\n",
      "Epoch 029: | Train Loss: 0.60869 | Val Loss: 0.47476 | Train Acc: 100.000| Val Acc: 100.000\n",
      "Epoch 030: | Train Loss: 0.61612 | Val Loss: 0.75831 | Train Acc: 100.000| Val Acc: 100.000\n",
      "Epoch 031: | Train Loss: 0.76449 | Val Loss: 0.65789 | Train Acc: 100.000| Val Acc: 100.000\n",
      "Epoch 032: | Train Loss: 0.56129 | Val Loss: 0.43125 | Train Acc: 100.000| Val Acc: 100.000\n",
      "Epoch 033: | Train Loss: 0.49701 | Val Loss: 0.44846 | Train Acc: 100.000| Val Acc: 100.000\n",
      "Epoch 034: | Train Loss: 0.47585 | Val Loss: 1.08790 | Train Acc: 100.000| Val Acc: 100.000\n",
      "Epoch 035: | Train Loss: 0.49143 | Val Loss: 0.37258 | Train Acc: 100.000| Val Acc: 100.000\n",
      "Epoch 036: | Train Loss: 0.49543 | Val Loss: 0.40639 | Train Acc: 100.000| Val Acc: 100.000\n",
      "Epoch 037: | Train Loss: 0.50319 | Val Loss: 0.38863 | Train Acc: 100.000| Val Acc: 100.000\n",
      "Epoch 038: | Train Loss: 0.47063 | Val Loss: 0.42415 | Train Acc: 100.000| Val Acc: 100.000\n",
      "Epoch 039: | Train Loss: 0.43598 | Val Loss: 0.50746 | Train Acc: 100.000| Val Acc: 100.000\n",
      "Epoch 040: | Train Loss: 0.43830 | Val Loss: 0.42344 | Train Acc: 100.000| Val Acc: 100.000\n",
      "Epoch 041: | Train Loss: 0.46992 | Val Loss: 0.47041 | Train Acc: 100.000| Val Acc: 100.000\n",
      "Epoch 042: | Train Loss: 0.52608 | Val Loss: 0.54829 | Train Acc: 100.000| Val Acc: 100.000\n",
      "Epoch 043: | Train Loss: 0.49547 | Val Loss: 0.50424 | Train Acc: 100.000| Val Acc: 100.000\n",
      "Epoch 044: | Train Loss: 0.46978 | Val Loss: 0.42330 | Train Acc: 100.000| Val Acc: 100.000\n",
      "Epoch 045: | Train Loss: 0.43058 | Val Loss: 0.23250 | Train Acc: 100.000| Val Acc: 100.000\n",
      "Epoch 046: | Train Loss: 0.39980 | Val Loss: 0.43992 | Train Acc: 100.000| Val Acc: 100.000\n",
      "Epoch 047: | Train Loss: 0.39352 | Val Loss: 0.38722 | Train Acc: 100.000| Val Acc: 100.000\n",
      "Epoch 048: | Train Loss: 0.44938 | Val Loss: 0.36757 | Train Acc: 100.000| Val Acc: 100.000\n",
      "Epoch 049: | Train Loss: 0.46484 | Val Loss: 0.41175 | Train Acc: 100.000| Val Acc: 100.000\n",
      "Epoch 050: | Train Loss: 0.37576 | Val Loss: 0.51105 | Train Acc: 100.000| Val Acc: 100.000\n",
      "Epoch 051: | Train Loss: 0.38423 | Val Loss: 0.37019 | Train Acc: 100.000| Val Acc: 100.000\n",
      "Epoch 052: | Train Loss: 0.45092 | Val Loss: 0.58760 | Train Acc: 100.000| Val Acc: 100.000\n",
      "Epoch 053: | Train Loss: 0.44017 | Val Loss: 0.19810 | Train Acc: 100.000| Val Acc: 100.000\n",
      "Epoch 054: | Train Loss: 0.38379 | Val Loss: 0.34091 | Train Acc: 100.000| Val Acc: 100.000\n",
      "Epoch 055: | Train Loss: 0.43136 | Val Loss: 0.50836 | Train Acc: 100.000| Val Acc: 100.000\n",
      "Epoch 056: | Train Loss: 0.36784 | Val Loss: 0.28628 | Train Acc: 100.000| Val Acc: 100.000\n",
      "Epoch 057: | Train Loss: 0.35223 | Val Loss: 0.31932 | Train Acc: 100.000| Val Acc: 100.000\n",
      "Epoch 058: | Train Loss: 0.31206 | Val Loss: 0.23570 | Train Acc: 100.000| Val Acc: 100.000\n",
      "Epoch 059: | Train Loss: 0.32623 | Val Loss: 0.43048 | Train Acc: 100.000| Val Acc: 100.000\n",
      "Epoch 060: | Train Loss: 0.33953 | Val Loss: 0.27464 | Train Acc: 100.000| Val Acc: 100.000\n",
      "Epoch 061: | Train Loss: 0.34360 | Val Loss: 0.18748 | Train Acc: 100.000| Val Acc: 100.000\n",
      "Epoch 062: | Train Loss: 0.32517 | Val Loss: 0.22300 | Train Acc: 100.000| Val Acc: 100.000\n",
      "Epoch 063: | Train Loss: 0.29427 | Val Loss: 0.22246 | Train Acc: 100.000| Val Acc: 100.000\n",
      "Epoch 064: | Train Loss: 0.26580 | Val Loss: 0.21514 | Train Acc: 100.000| Val Acc: 100.000\n",
      "Epoch 065: | Train Loss: 0.30819 | Val Loss: 0.23393 | Train Acc: 100.000| Val Acc: 100.000\n",
      "Epoch 066: | Train Loss: 0.32035 | Val Loss: 0.38533 | Train Acc: 100.000| Val Acc: 100.000\n",
      "Epoch 067: | Train Loss: 0.35227 | Val Loss: 0.37082 | Train Acc: 100.000| Val Acc: 100.000\n",
      "Epoch 068: | Train Loss: 0.30891 | Val Loss: 0.45977 | Train Acc: 100.000| Val Acc: 100.000\n",
      "Epoch 069: | Train Loss: 0.31032 | Val Loss: 0.21236 | Train Acc: 100.000| Val Acc: 100.000\n",
      "Epoch 070: | Train Loss: 0.30007 | Val Loss: 0.35356 | Train Acc: 100.000| Val Acc: 100.000\n",
      "Epoch 071: | Train Loss: 0.26003 | Val Loss: 0.18336 | Train Acc: 100.000| Val Acc: 100.000\n",
      "Epoch 072: | Train Loss: 0.26317 | Val Loss: 0.16537 | Train Acc: 100.000| Val Acc: 100.000\n",
      "Epoch 073: | Train Loss: 0.24929 | Val Loss: 0.14675 | Train Acc: 100.000| Val Acc: 100.000\n",
      "Epoch 074: | Train Loss: 0.39544 | Val Loss: 0.47328 | Train Acc: 100.000| Val Acc: 100.000\n",
      "Epoch 075: | Train Loss: 0.27820 | Val Loss: 0.17805 | Train Acc: 100.000| Val Acc: 100.000\n",
      "Epoch 076: | Train Loss: 0.28802 | Val Loss: 0.25375 | Train Acc: 100.000| Val Acc: 100.000\n",
      "Epoch 077: | Train Loss: 0.26623 | Val Loss: 0.32178 | Train Acc: 100.000| Val Acc: 100.000\n",
      "Epoch 078: | Train Loss: 0.28478 | Val Loss: 0.29982 | Train Acc: 100.000| Val Acc: 100.000\n",
      "Epoch 079: | Train Loss: 0.23353 | Val Loss: 0.29525 | Train Acc: 100.000| Val Acc: 100.000\n",
      "Epoch 080: | Train Loss: 0.22225 | Val Loss: 0.11556 | Train Acc: 100.000| Val Acc: 100.000\n",
      "Epoch 081: | Train Loss: 0.23259 | Val Loss: 0.24897 | Train Acc: 100.000| Val Acc: 100.000\n",
      "Epoch 082: | Train Loss: 0.22169 | Val Loss: 0.16403 | Train Acc: 100.000| Val Acc: 100.000\n",
      "Epoch 083: | Train Loss: 0.20901 | Val Loss: 0.31733 | Train Acc: 100.000| Val Acc: 100.000\n",
      "Epoch 084: | Train Loss: 0.25807 | Val Loss: 0.21631 | Train Acc: 100.000| Val Acc: 100.000\n",
      "Epoch 085: | Train Loss: 0.28011 | Val Loss: 0.31031 | Train Acc: 100.000| Val Acc: 100.000\n",
      "Epoch 086: | Train Loss: 0.33735 | Val Loss: 0.37957 | Train Acc: 100.000| Val Acc: 100.000\n",
      "Epoch 087: | Train Loss: 0.27819 | Val Loss: 0.19668 | Train Acc: 100.000| Val Acc: 100.000\n",
      "Epoch 088: | Train Loss: 0.25452 | Val Loss: 0.31630 | Train Acc: 100.000| Val Acc: 100.000\n",
      "Epoch 089: | Train Loss: 0.22678 | Val Loss: 0.16439 | Train Acc: 100.000| Val Acc: 100.000\n",
      "Epoch 090: | Train Loss: 0.27792 | Val Loss: 0.27934 | Train Acc: 100.000| Val Acc: 100.000\n",
      "Epoch 091: | Train Loss: 0.22731 | Val Loss: 0.20551 | Train Acc: 100.000| Val Acc: 100.000\n",
      "Epoch 092: | Train Loss: 0.23652 | Val Loss: 0.19709 | Train Acc: 100.000| Val Acc: 100.000\n",
      "Epoch 093: | Train Loss: 0.27092 | Val Loss: 0.14849 | Train Acc: 100.000| Val Acc: 100.000\n",
      "Epoch 094: | Train Loss: 0.26089 | Val Loss: 0.29919 | Train Acc: 100.000| Val Acc: 100.000\n",
      "Epoch 095: | Train Loss: 0.24283 | Val Loss: 0.13850 | Train Acc: 100.000| Val Acc: 100.000\n",
      "Epoch 096: | Train Loss: 0.23828 | Val Loss: 0.14254 | Train Acc: 100.000| Val Acc: 100.000\n",
      "Epoch 097: | Train Loss: 0.25885 | Val Loss: 0.19210 | Train Acc: 100.000| Val Acc: 100.000\n",
      "Epoch 098: | Train Loss: 0.22417 | Val Loss: 0.15068 | Train Acc: 100.000| Val Acc: 100.000\n",
      "Epoch 099: | Train Loss: 0.27911 | Val Loss: 0.16828 | Train Acc: 100.000| Val Acc: 100.000\n",
      "Epoch 100: | Train Loss: 0.18468 | Val Loss: 0.19870 | Train Acc: 100.000| Val Acc: 100.000\n",
      "Epoch 101: | Train Loss: 0.19992 | Val Loss: 0.13211 | Train Acc: 100.000| Val Acc: 100.000\n",
      "Epoch 102: | Train Loss: 0.18250 | Val Loss: 0.16911 | Train Acc: 100.000| Val Acc: 100.000\n",
      "Epoch 103: | Train Loss: 0.20306 | Val Loss: 0.19495 | Train Acc: 100.000| Val Acc: 100.000\n",
      "Epoch 104: | Train Loss: 0.19722 | Val Loss: 0.09032 | Train Acc: 100.000| Val Acc: 100.000\n",
      "Epoch 105: | Train Loss: 0.17101 | Val Loss: 0.14245 | Train Acc: 100.000| Val Acc: 100.000\n",
      "Epoch 106: | Train Loss: 0.20905 | Val Loss: 0.39852 | Train Acc: 100.000| Val Acc: 100.000\n",
      "Epoch 107: | Train Loss: 0.16850 | Val Loss: 0.12732 | Train Acc: 100.000| Val Acc: 100.000\n",
      "Epoch 108: | Train Loss: 0.16244 | Val Loss: 0.14157 | Train Acc: 100.000| Val Acc: 100.000\n",
      "Epoch 109: | Train Loss: 0.19921 | Val Loss: 0.24028 | Train Acc: 100.000| Val Acc: 100.000\n",
      "Epoch 110: | Train Loss: 0.19140 | Val Loss: 0.08149 | Train Acc: 100.000| Val Acc: 100.000\n",
      "Epoch 111: | Train Loss: 0.22263 | Val Loss: 0.19958 | Train Acc: 100.000| Val Acc: 100.000\n",
      "Epoch 112: | Train Loss: 0.22478 | Val Loss: 0.21930 | Train Acc: 100.000| Val Acc: 100.000\n",
      "Epoch 113: | Train Loss: 0.20089 | Val Loss: 0.28749 | Train Acc: 100.000| Val Acc: 100.000\n",
      "Epoch 114: | Train Loss: 0.22160 | Val Loss: 0.20869 | Train Acc: 100.000| Val Acc: 100.000\n",
      "Epoch 115: | Train Loss: 0.15764 | Val Loss: 0.12830 | Train Acc: 100.000| Val Acc: 100.000\n",
      "Epoch 116: | Train Loss: 0.16272 | Val Loss: 0.06762 | Train Acc: 100.000| Val Acc: 100.000\n",
      "Epoch 117: | Train Loss: 0.16749 | Val Loss: 0.13196 | Train Acc: 100.000| Val Acc: 100.000\n",
      "Epoch 118: | Train Loss: 0.16491 | Val Loss: 0.18274 | Train Acc: 100.000| Val Acc: 100.000\n",
      "Epoch 119: | Train Loss: 0.19720 | Val Loss: 0.10499 | Train Acc: 100.000| Val Acc: 100.000\n",
      "Epoch 120: | Train Loss: 0.15281 | Val Loss: 0.23384 | Train Acc: 100.000| Val Acc: 100.000\n",
      "Epoch 121: | Train Loss: 0.13435 | Val Loss: 0.12681 | Train Acc: 100.000| Val Acc: 100.000\n",
      "Epoch 122: | Train Loss: 0.13691 | Val Loss: 0.12405 | Train Acc: 100.000| Val Acc: 100.000\n",
      "Epoch 123: | Train Loss: 0.11997 | Val Loss: 0.09624 | Train Acc: 100.000| Val Acc: 100.000\n",
      "Epoch 124: | Train Loss: 0.12405 | Val Loss: 0.08035 | Train Acc: 100.000| Val Acc: 100.000\n",
      "Epoch 125: | Train Loss: 0.12696 | Val Loss: 0.46585 | Train Acc: 100.000| Val Acc: 100.000\n",
      "Epoch 126: | Train Loss: 0.14253 | Val Loss: 0.14427 | Train Acc: 100.000| Val Acc: 100.000\n",
      "Epoch 127: | Train Loss: 0.18509 | Val Loss: 0.23170 | Train Acc: 100.000| Val Acc: 100.000\n",
      "Epoch 128: | Train Loss: 0.14983 | Val Loss: 0.08473 | Train Acc: 100.000| Val Acc: 100.000\n",
      "Epoch 129: | Train Loss: 0.14125 | Val Loss: 0.16720 | Train Acc: 100.000| Val Acc: 100.000\n",
      "Epoch 130: | Train Loss: 0.12291 | Val Loss: 0.08432 | Train Acc: 100.000| Val Acc: 100.000\n",
      "Epoch 131: | Train Loss: 0.16403 | Val Loss: 0.43104 | Train Acc: 100.000| Val Acc: 100.000\n",
      "Epoch 132: | Train Loss: 0.18852 | Val Loss: 0.15103 | Train Acc: 100.000| Val Acc: 100.000\n",
      "Epoch 133: | Train Loss: 0.38571 | Val Loss: 0.19838 | Train Acc: 100.000| Val Acc: 100.000\n",
      "Epoch 134: | Train Loss: 0.31707 | Val Loss: 0.27913 | Train Acc: 100.000| Val Acc: 100.000\n",
      "Epoch 135: | Train Loss: 0.17814 | Val Loss: 0.09336 | Train Acc: 100.000| Val Acc: 100.000\n",
      "Epoch 136: | Train Loss: 0.26123 | Val Loss: 0.32010 | Train Acc: 100.000| Val Acc: 100.000\n",
      "Epoch 137: | Train Loss: 0.17679 | Val Loss: 0.13073 | Train Acc: 100.000| Val Acc: 100.000\n",
      "Epoch 138: | Train Loss: 0.17074 | Val Loss: 0.07827 | Train Acc: 100.000| Val Acc: 100.000\n",
      "Epoch 139: | Train Loss: 0.15646 | Val Loss: 0.13314 | Train Acc: 100.000| Val Acc: 100.000\n",
      "Epoch 140: | Train Loss: 0.15906 | Val Loss: 0.10940 | Train Acc: 100.000| Val Acc: 100.000\n",
      "Epoch 141: | Train Loss: 0.13597 | Val Loss: 0.17891 | Train Acc: 100.000| Val Acc: 100.000\n",
      "Epoch 142: | Train Loss: 0.12016 | Val Loss: 0.07574 | Train Acc: 100.000| Val Acc: 100.000\n",
      "Epoch 143: | Train Loss: 0.11826 | Val Loss: 0.05711 | Train Acc: 100.000| Val Acc: 100.000\n",
      "Epoch 144: | Train Loss: 0.14599 | Val Loss: 0.09010 | Train Acc: 100.000| Val Acc: 100.000\n",
      "Epoch 145: | Train Loss: 0.12393 | Val Loss: 0.10563 | Train Acc: 100.000| Val Acc: 100.000\n",
      "Epoch 146: | Train Loss: 0.12014 | Val Loss: 0.20596 | Train Acc: 100.000| Val Acc: 100.000\n",
      "Epoch 147: | Train Loss: 0.11088 | Val Loss: 0.15406 | Train Acc: 100.000| Val Acc: 100.000\n",
      "Epoch 148: | Train Loss: 0.11054 | Val Loss: 0.06388 | Train Acc: 100.000| Val Acc: 100.000\n",
      "Epoch 149: | Train Loss: 0.12371 | Val Loss: 0.41530 | Train Acc: 100.000| Val Acc: 100.000\n",
      "Epoch 150: | Train Loss: 0.11130 | Val Loss: 0.05629 | Train Acc: 100.000| Val Acc: 100.000\n",
      "Epoch 151: | Train Loss: 0.10028 | Val Loss: 0.14862 | Train Acc: 100.000| Val Acc: 100.000\n",
      "Epoch 152: | Train Loss: 0.09982 | Val Loss: 0.04867 | Train Acc: 100.000| Val Acc: 100.000\n",
      "Epoch 153: | Train Loss: 0.09172 | Val Loss: 0.09041 | Train Acc: 100.000| Val Acc: 100.000\n",
      "Epoch 154: | Train Loss: 0.09990 | Val Loss: 0.09050 | Train Acc: 100.000| Val Acc: 100.000\n",
      "Epoch 155: | Train Loss: 0.09142 | Val Loss: 0.13025 | Train Acc: 100.000| Val Acc: 100.000\n",
      "Epoch 156: | Train Loss: 0.09424 | Val Loss: 0.06411 | Train Acc: 100.000| Val Acc: 100.000\n",
      "Epoch 157: | Train Loss: 0.08887 | Val Loss: 0.04243 | Train Acc: 100.000| Val Acc: 100.000\n",
      "Epoch 158: | Train Loss: 0.09889 | Val Loss: 0.20497 | Train Acc: 100.000| Val Acc: 100.000\n",
      "Epoch 159: | Train Loss: 0.14830 | Val Loss: 0.06036 | Train Acc: 100.000| Val Acc: 100.000\n",
      "Epoch 160: | Train Loss: 0.12781 | Val Loss: 0.11415 | Train Acc: 100.000| Val Acc: 100.000\n",
      "Epoch 161: | Train Loss: 0.07664 | Val Loss: 0.04402 | Train Acc: 100.000| Val Acc: 100.000\n",
      "Epoch 162: | Train Loss: 0.13946 | Val Loss: 0.09795 | Train Acc: 100.000| Val Acc: 100.000\n",
      "Epoch 163: | Train Loss: 0.19959 | Val Loss: 0.15813 | Train Acc: 100.000| Val Acc: 100.000\n",
      "Epoch 164: | Train Loss: 0.12358 | Val Loss: 0.10928 | Train Acc: 100.000| Val Acc: 100.000\n",
      "Epoch 165: | Train Loss: 0.09223 | Val Loss: 0.09487 | Train Acc: 100.000| Val Acc: 100.000\n",
      "Epoch 166: | Train Loss: 0.08492 | Val Loss: 0.09673 | Train Acc: 100.000| Val Acc: 100.000\n",
      "Epoch 167: | Train Loss: 0.08444 | Val Loss: 0.07912 | Train Acc: 100.000| Val Acc: 100.000\n",
      "Epoch 168: | Train Loss: 0.10214 | Val Loss: 0.09275 | Train Acc: 100.000| Val Acc: 100.000\n",
      "Epoch 169: | Train Loss: 0.10054 | Val Loss: 0.05446 | Train Acc: 100.000| Val Acc: 100.000\n",
      "Epoch 170: | Train Loss: 0.08776 | Val Loss: 0.03070 | Train Acc: 100.000| Val Acc: 100.000\n",
      "Epoch 171: | Train Loss: 0.08710 | Val Loss: 0.03925 | Train Acc: 100.000| Val Acc: 100.000\n",
      "Epoch 172: | Train Loss: 0.08507 | Val Loss: 0.04570 | Train Acc: 100.000| Val Acc: 100.000\n",
      "Epoch 173: | Train Loss: 0.06436 | Val Loss: 0.01818 | Train Acc: 100.000| Val Acc: 100.000\n",
      "Epoch 174: | Train Loss: 0.07420 | Val Loss: 0.03289 | Train Acc: 100.000| Val Acc: 100.000\n",
      "Epoch 175: | Train Loss: 0.06862 | Val Loss: 0.03691 | Train Acc: 100.000| Val Acc: 100.000\n",
      "Epoch 176: | Train Loss: 0.07152 | Val Loss: 0.04406 | Train Acc: 100.000| Val Acc: 100.000\n",
      "Epoch 177: | Train Loss: 0.07797 | Val Loss: 0.05445 | Train Acc: 100.000| Val Acc: 100.000\n",
      "Epoch 178: | Train Loss: 0.09449 | Val Loss: 0.24167 | Train Acc: 100.000| Val Acc: 100.000\n",
      "Epoch 179: | Train Loss: 0.07957 | Val Loss: 0.05832 | Train Acc: 100.000| Val Acc: 100.000\n",
      "Epoch 180: | Train Loss: 0.08782 | Val Loss: 0.05119 | Train Acc: 100.000| Val Acc: 100.000\n",
      "Epoch 181: | Train Loss: 0.08289 | Val Loss: 0.08877 | Train Acc: 100.000| Val Acc: 100.000\n",
      "Epoch 182: | Train Loss: 0.05711 | Val Loss: 0.09620 | Train Acc: 100.000| Val Acc: 100.000\n",
      "Epoch 183: | Train Loss: 0.07681 | Val Loss: 0.06578 | Train Acc: 100.000| Val Acc: 100.000\n",
      "Epoch 184: | Train Loss: 0.07232 | Val Loss: 0.08339 | Train Acc: 100.000| Val Acc: 100.000\n",
      "Epoch 185: | Train Loss: 0.06008 | Val Loss: 0.01543 | Train Acc: 100.000| Val Acc: 100.000\n",
      "Epoch 186: | Train Loss: 0.07405 | Val Loss: 0.02813 | Train Acc: 100.000| Val Acc: 100.000\n",
      "Epoch 187: | Train Loss: 0.06595 | Val Loss: 0.03827 | Train Acc: 100.000| Val Acc: 100.000\n",
      "Epoch 188: | Train Loss: 0.05300 | Val Loss: 0.05208 | Train Acc: 100.000| Val Acc: 100.000\n",
      "Epoch 189: | Train Loss: 0.06381 | Val Loss: 0.07144 | Train Acc: 100.000| Val Acc: 100.000\n",
      "Epoch 190: | Train Loss: 0.07765 | Val Loss: 0.05356 | Train Acc: 100.000| Val Acc: 100.000\n",
      "Epoch 191: | Train Loss: 0.06886 | Val Loss: 0.06117 | Train Acc: 100.000| Val Acc: 100.000\n",
      "Epoch 192: | Train Loss: 0.06640 | Val Loss: 0.02595 | Train Acc: 100.000| Val Acc: 100.000\n",
      "Epoch 193: | Train Loss: 0.05503 | Val Loss: 0.07345 | Train Acc: 100.000| Val Acc: 100.000\n",
      "Epoch 194: | Train Loss: 0.05270 | Val Loss: 0.03652 | Train Acc: 100.000| Val Acc: 100.000\n",
      "Epoch 195: | Train Loss: 0.07450 | Val Loss: 0.07297 | Train Acc: 100.000| Val Acc: 100.000\n",
      "Epoch 196: | Train Loss: 0.06598 | Val Loss: 0.03322 | Train Acc: 100.000| Val Acc: 100.000\n",
      "Epoch 197: | Train Loss: 0.08196 | Val Loss: 0.36486 | Train Acc: 100.000| Val Acc: 100.000\n",
      "Epoch 198: | Train Loss: 0.05509 | Val Loss: 0.04456 | Train Acc: 100.000| Val Acc: 100.000\n",
      "Epoch 199: | Train Loss: 0.08028 | Val Loss: 0.07213 | Train Acc: 100.000| Val Acc: 100.000\n",
      "Epoch 200: | Train Loss: 0.06940 | Val Loss: 0.25307 | Train Acc: 100.000| Val Acc: 100.000\n",
      "Epoch 201: | Train Loss: 0.07684 | Val Loss: 0.11751 | Train Acc: 100.000| Val Acc: 100.000\n",
      "Epoch 202: | Train Loss: 0.06993 | Val Loss: 0.06276 | Train Acc: 100.000| Val Acc: 100.000\n",
      "Epoch 203: | Train Loss: 0.05432 | Val Loss: 0.03195 | Train Acc: 100.000| Val Acc: 100.000\n",
      "Epoch 204: | Train Loss: 0.05766 | Val Loss: 0.15358 | Train Acc: 100.000| Val Acc: 100.000\n",
      "Epoch 205: | Train Loss: 0.08444 | Val Loss: 0.10911 | Train Acc: 100.000| Val Acc: 100.000\n",
      "Epoch 206: | Train Loss: 0.08010 | Val Loss: 0.07739 | Train Acc: 100.000| Val Acc: 100.000\n",
      "Epoch 207: | Train Loss: 0.08501 | Val Loss: 0.02601 | Train Acc: 100.000| Val Acc: 100.000\n",
      "Epoch 208: | Train Loss: 0.09206 | Val Loss: 0.10175 | Train Acc: 100.000| Val Acc: 100.000\n",
      "Epoch 209: | Train Loss: 0.11253 | Val Loss: 0.10090 | Train Acc: 100.000| Val Acc: 100.000\n",
      "Epoch 210: | Train Loss: 0.11087 | Val Loss: 0.22584 | Train Acc: 100.000| Val Acc: 100.000\n",
      "Epoch 211: | Train Loss: 0.18462 | Val Loss: 0.05621 | Train Acc: 100.000| Val Acc: 100.000\n",
      "Epoch 212: | Train Loss: 0.12446 | Val Loss: 0.15829 | Train Acc: 100.000| Val Acc: 100.000\n",
      "Epoch 213: | Train Loss: 0.09342 | Val Loss: 0.09092 | Train Acc: 100.000| Val Acc: 100.000\n",
      "Epoch 214: | Train Loss: 0.08324 | Val Loss: 0.03516 | Train Acc: 100.000| Val Acc: 100.000\n",
      "Epoch 215: | Train Loss: 0.07359 | Val Loss: 0.03210 | Train Acc: 100.000| Val Acc: 100.000\n",
      "Epoch 216: | Train Loss: 0.06487 | Val Loss: 0.05712 | Train Acc: 100.000| Val Acc: 100.000\n",
      "Epoch 217: | Train Loss: 0.06072 | Val Loss: 0.03645 | Train Acc: 100.000| Val Acc: 100.000\n",
      "Epoch 218: | Train Loss: 0.14261 | Val Loss: 0.45837 | Train Acc: 100.000| Val Acc: 100.000\n",
      "Epoch 219: | Train Loss: 0.13118 | Val Loss: 0.06141 | Train Acc: 100.000| Val Acc: 100.000\n",
      "Epoch 220: | Train Loss: 0.08732 | Val Loss: 0.16664 | Train Acc: 100.000| Val Acc: 100.000\n",
      "Epoch 221: | Train Loss: 0.08749 | Val Loss: 0.07528 | Train Acc: 100.000| Val Acc: 100.000\n",
      "Epoch 222: | Train Loss: 0.09856 | Val Loss: 0.02866 | Train Acc: 100.000| Val Acc: 100.000\n",
      "Epoch 223: | Train Loss: 0.08241 | Val Loss: 0.21980 | Train Acc: 100.000| Val Acc: 100.000\n",
      "Epoch 224: | Train Loss: 0.07680 | Val Loss: 0.07991 | Train Acc: 100.000| Val Acc: 100.000\n",
      "Epoch 225: | Train Loss: 0.14197 | Val Loss: 0.17525 | Train Acc: 100.000| Val Acc: 100.000\n",
      "Epoch 226: | Train Loss: 0.12155 | Val Loss: 0.09024 | Train Acc: 100.000| Val Acc: 100.000\n",
      "Epoch 227: | Train Loss: 0.06818 | Val Loss: 0.03114 | Train Acc: 100.000| Val Acc: 100.000\n",
      "Epoch 228: | Train Loss: 0.04658 | Val Loss: 0.05710 | Train Acc: 100.000| Val Acc: 100.000\n",
      "Epoch 229: | Train Loss: 0.06472 | Val Loss: 0.02992 | Train Acc: 100.000| Val Acc: 100.000\n",
      "Epoch 230: | Train Loss: 0.04077 | Val Loss: 0.03671 | Train Acc: 100.000| Val Acc: 100.000\n",
      "Epoch 231: | Train Loss: 0.03795 | Val Loss: 0.03249 | Train Acc: 100.000| Val Acc: 100.000\n",
      "Epoch 232: | Train Loss: 0.04606 | Val Loss: 0.01196 | Train Acc: 100.000| Val Acc: 100.000\n",
      "Epoch 233: | Train Loss: 0.04754 | Val Loss: 0.05529 | Train Acc: 100.000| Val Acc: 100.000\n",
      "Epoch 234: | Train Loss: 0.03496 | Val Loss: 0.02733 | Train Acc: 100.000| Val Acc: 100.000\n",
      "Epoch 235: | Train Loss: 0.02868 | Val Loss: 0.00739 | Train Acc: 100.000| Val Acc: 100.000\n",
      "Epoch 236: | Train Loss: 0.04219 | Val Loss: 0.00645 | Train Acc: 100.000| Val Acc: 100.000\n",
      "Epoch 237: | Train Loss: 0.03952 | Val Loss: 0.00755 | Train Acc: 100.000| Val Acc: 100.000\n",
      "Epoch 238: | Train Loss: 0.08132 | Val Loss: 0.12343 | Train Acc: 100.000| Val Acc: 100.000\n",
      "Epoch 239: | Train Loss: 0.10498 | Val Loss: 0.14024 | Train Acc: 100.000| Val Acc: 100.000\n",
      "Epoch 240: | Train Loss: 0.08513 | Val Loss: 0.01610 | Train Acc: 100.000| Val Acc: 100.000\n",
      "Epoch 241: | Train Loss: 0.07707 | Val Loss: 0.06127 | Train Acc: 100.000| Val Acc: 100.000\n",
      "Epoch 242: | Train Loss: 0.06196 | Val Loss: 0.03568 | Train Acc: 100.000| Val Acc: 100.000\n",
      "Epoch 243: | Train Loss: 0.05898 | Val Loss: 0.03079 | Train Acc: 100.000| Val Acc: 100.000\n",
      "Epoch 244: | Train Loss: 0.07407 | Val Loss: 0.04130 | Train Acc: 100.000| Val Acc: 100.000\n",
      "Epoch 245: | Train Loss: 0.04586 | Val Loss: 0.04289 | Train Acc: 100.000| Val Acc: 100.000\n",
      "Epoch 246: | Train Loss: 0.04126 | Val Loss: 0.06752 | Train Acc: 100.000| Val Acc: 100.000\n",
      "Epoch 247: | Train Loss: 0.04515 | Val Loss: 0.05291 | Train Acc: 100.000| Val Acc: 100.000\n",
      "Epoch 248: | Train Loss: 0.03348 | Val Loss: 0.08692 | Train Acc: 100.000| Val Acc: 100.000\n",
      "Epoch 249: | Train Loss: 0.03658 | Val Loss: 0.04052 | Train Acc: 100.000| Val Acc: 100.000\n",
      "Epoch 250: | Train Loss: 0.03806 | Val Loss: 0.01413 | Train Acc: 100.000| Val Acc: 100.000\n",
      "Epoch 251: | Train Loss: 0.02728 | Val Loss: 0.02463 | Train Acc: 100.000| Val Acc: 100.000\n",
      "Epoch 252: | Train Loss: 0.04774 | Val Loss: 0.02028 | Train Acc: 100.000| Val Acc: 100.000\n",
      "Epoch 253: | Train Loss: 0.02400 | Val Loss: 0.01490 | Train Acc: 100.000| Val Acc: 100.000\n",
      "Epoch 254: | Train Loss: 0.07025 | Val Loss: 0.12613 | Train Acc: 100.000| Val Acc: 100.000\n",
      "Epoch 255: | Train Loss: 0.11678 | Val Loss: 0.28465 | Train Acc: 100.000| Val Acc: 100.000\n",
      "Epoch 256: | Train Loss: 0.18773 | Val Loss: 0.11116 | Train Acc: 100.000| Val Acc: 100.000\n",
      "Epoch 257: | Train Loss: 0.14824 | Val Loss: 0.16991 | Train Acc: 100.000| Val Acc: 100.000\n",
      "Epoch 258: | Train Loss: 0.07780 | Val Loss: 0.07060 | Train Acc: 100.000| Val Acc: 100.000\n",
      "Epoch 259: | Train Loss: 0.16864 | Val Loss: 0.10756 | Train Acc: 100.000| Val Acc: 100.000\n",
      "Epoch 260: | Train Loss: 0.18132 | Val Loss: 0.06447 | Train Acc: 100.000| Val Acc: 100.000\n",
      "Epoch 261: | Train Loss: 0.15220 | Val Loss: 0.06221 | Train Acc: 100.000| Val Acc: 100.000\n",
      "Epoch 262: | Train Loss: 0.07750 | Val Loss: 0.07474 | Train Acc: 100.000| Val Acc: 100.000\n",
      "Epoch 263: | Train Loss: 0.05647 | Val Loss: 0.05000 | Train Acc: 100.000| Val Acc: 100.000\n",
      "Epoch 264: | Train Loss: 0.05165 | Val Loss: 0.05729 | Train Acc: 100.000| Val Acc: 100.000\n",
      "Epoch 265: | Train Loss: 0.04697 | Val Loss: 0.18022 | Train Acc: 100.000| Val Acc: 100.000\n",
      "Epoch 266: | Train Loss: 0.05029 | Val Loss: 0.04907 | Train Acc: 100.000| Val Acc: 100.000\n",
      "Epoch 267: | Train Loss: 0.03757 | Val Loss: 0.01347 | Train Acc: 100.000| Val Acc: 100.000\n",
      "Epoch 268: | Train Loss: 0.03147 | Val Loss: 0.01619 | Train Acc: 100.000| Val Acc: 100.000\n",
      "Epoch 269: | Train Loss: 0.03134 | Val Loss: 0.03473 | Train Acc: 100.000| Val Acc: 100.000\n",
      "Epoch 270: | Train Loss: 0.03739 | Val Loss: 0.04328 | Train Acc: 100.000| Val Acc: 100.000\n",
      "Epoch 271: | Train Loss: 0.03537 | Val Loss: 0.00601 | Train Acc: 100.000| Val Acc: 100.000\n",
      "Epoch 272: | Train Loss: 0.04627 | Val Loss: 0.01377 | Train Acc: 100.000| Val Acc: 100.000\n",
      "Epoch 273: | Train Loss: 0.03581 | Val Loss: 0.09934 | Train Acc: 100.000| Val Acc: 100.000\n",
      "Epoch 274: | Train Loss: 0.02642 | Val Loss: 0.02120 | Train Acc: 100.000| Val Acc: 100.000\n",
      "Epoch 275: | Train Loss: 0.02831 | Val Loss: 0.01108 | Train Acc: 100.000| Val Acc: 100.000\n",
      "Epoch 276: | Train Loss: 0.03842 | Val Loss: 0.00845 | Train Acc: 100.000| Val Acc: 100.000\n",
      "Epoch 277: | Train Loss: 0.04429 | Val Loss: 0.05759 | Train Acc: 100.000| Val Acc: 100.000\n",
      "Epoch 278: | Train Loss: 0.03755 | Val Loss: 0.02768 | Train Acc: 100.000| Val Acc: 100.000\n",
      "Epoch 279: | Train Loss: 0.02916 | Val Loss: 0.02184 | Train Acc: 100.000| Val Acc: 100.000\n",
      "Epoch 280: | Train Loss: 0.02860 | Val Loss: 0.05723 | Train Acc: 100.000| Val Acc: 100.000\n",
      "Epoch 281: | Train Loss: 0.02451 | Val Loss: 0.03489 | Train Acc: 100.000| Val Acc: 100.000\n",
      "Epoch 282: | Train Loss: 0.02615 | Val Loss: 0.05517 | Train Acc: 100.000| Val Acc: 100.000\n",
      "Epoch 283: | Train Loss: 0.01956 | Val Loss: 0.00848 | Train Acc: 100.000| Val Acc: 100.000\n",
      "Epoch 284: | Train Loss: 0.01903 | Val Loss: 0.01289 | Train Acc: 100.000| Val Acc: 100.000\n",
      "Epoch 285: | Train Loss: 0.01674 | Val Loss: 0.00883 | Train Acc: 100.000| Val Acc: 100.000\n",
      "Epoch 286: | Train Loss: 0.01462 | Val Loss: 0.01065 | Train Acc: 100.000| Val Acc: 100.000\n",
      "Epoch 287: | Train Loss: 0.01912 | Val Loss: 0.00901 | Train Acc: 100.000| Val Acc: 100.000\n",
      "Epoch 288: | Train Loss: 0.02109 | Val Loss: 0.01303 | Train Acc: 100.000| Val Acc: 100.000\n",
      "Epoch 289: | Train Loss: 0.02052 | Val Loss: 0.03723 | Train Acc: 100.000| Val Acc: 100.000\n",
      "Epoch 290: | Train Loss: 0.01750 | Val Loss: 0.02924 | Train Acc: 100.000| Val Acc: 100.000\n",
      "Epoch 291: | Train Loss: 0.01605 | Val Loss: 0.04574 | Train Acc: 100.000| Val Acc: 100.000\n",
      "Epoch 292: | Train Loss: 0.01727 | Val Loss: 0.01153 | Train Acc: 100.000| Val Acc: 100.000\n",
      "Epoch 293: | Train Loss: 0.01917 | Val Loss: 0.01785 | Train Acc: 100.000| Val Acc: 100.000\n",
      "Epoch 294: | Train Loss: 0.01946 | Val Loss: 0.05688 | Train Acc: 100.000| Val Acc: 100.000\n",
      "Epoch 295: | Train Loss: 0.03180 | Val Loss: 0.00842 | Train Acc: 100.000| Val Acc: 100.000\n",
      "Epoch 296: | Train Loss: 0.03423 | Val Loss: 0.02233 | Train Acc: 100.000| Val Acc: 100.000\n",
      "Epoch 297: | Train Loss: 0.04697 | Val Loss: 0.12441 | Train Acc: 100.000| Val Acc: 100.000\n",
      "Epoch 298: | Train Loss: 0.02597 | Val Loss: 0.00631 | Train Acc: 100.000| Val Acc: 100.000\n",
      "Epoch 299: | Train Loss: 0.04677 | Val Loss: 0.01555 | Train Acc: 100.000| Val Acc: 100.000\n",
      "Epoch 300: | Train Loss: 0.01995 | Val Loss: 0.00880 | Train Acc: 100.000| Val Acc: 100.000\n",
      "Epoch 301: | Train Loss: 0.04612 | Val Loss: 0.02689 | Train Acc: 100.000| Val Acc: 100.000\n",
      "Epoch 302: | Train Loss: 0.03606 | Val Loss: 0.12304 | Train Acc: 100.000| Val Acc: 100.000\n",
      "Epoch 303: | Train Loss: 0.01377 | Val Loss: 0.00940 | Train Acc: 100.000| Val Acc: 100.000\n",
      "Epoch 304: | Train Loss: 0.02632 | Val Loss: 0.02473 | Train Acc: 100.000| Val Acc: 100.000\n",
      "Epoch 305: | Train Loss: 0.02785 | Val Loss: 0.01696 | Train Acc: 100.000| Val Acc: 100.000\n",
      "Epoch 306: | Train Loss: 0.02185 | Val Loss: 0.00810 | Train Acc: 100.000| Val Acc: 100.000\n",
      "Epoch 307: | Train Loss: 0.04848 | Val Loss: 0.01664 | Train Acc: 100.000| Val Acc: 100.000\n",
      "Epoch 308: | Train Loss: 0.04751 | Val Loss: 0.05921 | Train Acc: 100.000| Val Acc: 100.000\n",
      "Epoch 309: | Train Loss: 0.03880 | Val Loss: 0.00746 | Train Acc: 100.000| Val Acc: 100.000\n",
      "Epoch 310: | Train Loss: 0.03444 | Val Loss: 0.01246 | Train Acc: 100.000| Val Acc: 100.000\n",
      "Epoch 311: | Train Loss: 0.02583 | Val Loss: 0.01309 | Train Acc: 100.000| Val Acc: 100.000\n",
      "Epoch 312: | Train Loss: 0.03889 | Val Loss: 0.06578 | Train Acc: 100.000| Val Acc: 100.000\n",
      "Epoch 313: | Train Loss: 0.29074 | Val Loss: 0.30523 | Train Acc: 100.000| Val Acc: 100.000\n",
      "Epoch 314: | Train Loss: 0.41797 | Val Loss: 0.36026 | Train Acc: 100.000| Val Acc: 100.000\n",
      "Epoch 315: | Train Loss: 0.40945 | Val Loss: 0.61111 | Train Acc: 100.000| Val Acc: 100.000\n",
      "Epoch 316: | Train Loss: 0.30132 | Val Loss: 0.19124 | Train Acc: 100.000| Val Acc: 100.000\n",
      "Epoch 317: | Train Loss: 0.25700 | Val Loss: 0.10471 | Train Acc: 100.000| Val Acc: 100.000\n",
      "Epoch 318: | Train Loss: 0.14791 | Val Loss: 0.05340 | Train Acc: 100.000| Val Acc: 100.000\n",
      "Epoch 319: | Train Loss: 0.10158 | Val Loss: 0.06060 | Train Acc: 100.000| Val Acc: 100.000\n",
      "Epoch 320: | Train Loss: 0.07105 | Val Loss: 0.04386 | Train Acc: 100.000| Val Acc: 100.000\n",
      "Epoch 321: | Train Loss: 0.08640 | Val Loss: 0.07133 | Train Acc: 100.000| Val Acc: 100.000\n",
      "Epoch 322: | Train Loss: 0.05616 | Val Loss: 0.04833 | Train Acc: 100.000| Val Acc: 100.000\n",
      "Epoch 323: | Train Loss: 0.04026 | Val Loss: 0.03065 | Train Acc: 100.000| Val Acc: 100.000\n",
      "Epoch 324: | Train Loss: 0.04095 | Val Loss: 0.04052 | Train Acc: 100.000| Val Acc: 100.000\n",
      "Epoch 325: | Train Loss: 0.03908 | Val Loss: 0.01434 | Train Acc: 100.000| Val Acc: 100.000\n",
      "Epoch 326: | Train Loss: 0.03188 | Val Loss: 0.00693 | Train Acc: 100.000| Val Acc: 100.000\n",
      "Epoch 327: | Train Loss: 0.03783 | Val Loss: 0.00753 | Train Acc: 100.000| Val Acc: 100.000\n",
      "Epoch 328: | Train Loss: 0.02719 | Val Loss: 0.01429 | Train Acc: 100.000| Val Acc: 100.000\n",
      "Epoch 329: | Train Loss: 0.03067 | Val Loss: 0.04881 | Train Acc: 100.000| Val Acc: 100.000\n",
      "Epoch 330: | Train Loss: 0.04094 | Val Loss: 0.00787 | Train Acc: 100.000| Val Acc: 100.000\n",
      "Epoch 331: | Train Loss: 0.02970 | Val Loss: 0.02876 | Train Acc: 100.000| Val Acc: 100.000\n",
      "Epoch 332: | Train Loss: 0.01934 | Val Loss: 0.01160 | Train Acc: 100.000| Val Acc: 100.000\n",
      "Epoch 333: | Train Loss: 0.03361 | Val Loss: 0.04100 | Train Acc: 100.000| Val Acc: 100.000\n",
      "Epoch 334: | Train Loss: 0.03445 | Val Loss: 0.01619 | Train Acc: 100.000| Val Acc: 100.000\n",
      "Epoch 335: | Train Loss: 0.02856 | Val Loss: 0.01437 | Train Acc: 100.000| Val Acc: 100.000\n",
      "Epoch 336: | Train Loss: 0.02288 | Val Loss: 0.00974 | Train Acc: 100.000| Val Acc: 100.000\n",
      "Epoch 337: | Train Loss: 0.02891 | Val Loss: 0.01859 | Train Acc: 100.000| Val Acc: 100.000\n",
      "Epoch 338: | Train Loss: 0.02647 | Val Loss: 0.00628 | Train Acc: 100.000| Val Acc: 100.000\n",
      "Epoch 339: | Train Loss: 0.01490 | Val Loss: 0.01825 | Train Acc: 100.000| Val Acc: 100.000\n",
      "Epoch 340: | Train Loss: 0.02068 | Val Loss: 0.01792 | Train Acc: 100.000| Val Acc: 100.000\n",
      "Epoch 341: | Train Loss: 0.01631 | Val Loss: 0.01333 | Train Acc: 100.000| Val Acc: 100.000\n",
      "Epoch 342: | Train Loss: 0.02003 | Val Loss: 0.02188 | Train Acc: 100.000| Val Acc: 100.000\n",
      "Epoch 343: | Train Loss: 0.02817 | Val Loss: 0.01889 | Train Acc: 100.000| Val Acc: 100.000\n",
      "Epoch 344: | Train Loss: 0.02626 | Val Loss: 0.07909 | Train Acc: 100.000| Val Acc: 100.000\n",
      "Epoch 345: | Train Loss: 0.02621 | Val Loss: 0.00504 | Train Acc: 100.000| Val Acc: 100.000\n",
      "Epoch 346: | Train Loss: 0.02814 | Val Loss: 0.01354 | Train Acc: 100.000| Val Acc: 100.000\n",
      "Epoch 347: | Train Loss: 0.02256 | Val Loss: 0.01623 | Train Acc: 100.000| Val Acc: 100.000\n",
      "Epoch 348: | Train Loss: 0.02388 | Val Loss: 0.00873 | Train Acc: 100.000| Val Acc: 100.000\n",
      "Epoch 349: | Train Loss: 0.01858 | Val Loss: 0.00477 | Train Acc: 100.000| Val Acc: 100.000\n",
      "Epoch 350: | Train Loss: 0.01785 | Val Loss: 0.00324 | Train Acc: 100.000| Val Acc: 100.000\n",
      "\n"
     ]
    }
   ],
   "source": [
    "print(\"Begin training.\")\n",
    "\n",
    "model.train()\n",
    "for e in tqdm(range(1, EPOCHS+1)):\n",
    "    train_epoch_loss = 0\n",
    "    train_epoch_acc = 0\n",
    "    for X_train_batch, y_train_batch in train_loader:\n",
    "        X_train_batch, y_train_batch = X_train_batch.to(device), y_train_batch.to(device)\n",
    "        optimizer.zero_grad()\n",
    "        \n",
    "        y_train_pred = model(X_train_batch)\n",
    "        \n",
    "        train_loss = criterion(y_train_pred, y_train_batch)\n",
    "        train_acc = multi_acc(y_train_pred, y_train_batch)\n",
    "        \n",
    "        train_loss.backward()\n",
    "        optimizer.step()\n",
    "        \n",
    "        train_epoch_loss += train_loss.item()\n",
    "        train_epoch_acc += train_acc.item()\n",
    "        \n",
    "        \n",
    "    with torch.no_grad():\n",
    "        model.eval()\n",
    "        val_epoch_loss = 0\n",
    "        val_epoch_acc = 0\n",
    "        for X_val_batch, y_val_batch in val_loader:\n",
    "            X_val_batch, y_val_batch = X_val_batch.to(device), y_val_batch.to(device)\n",
    "            \n",
    "            y_val_pred = model(X_val_batch)\n",
    "                        \n",
    "            val_loss = criterion(y_val_pred, y_val_batch)\n",
    "            val_acc = multi_acc(y_val_pred, y_val_batch)\n",
    "            \n",
    "            val_epoch_loss += train_loss.item()\n",
    "            val_epoch_acc += train_acc.item()\n",
    "\n",
    "    \n",
    "        \n",
    "    loss_stats['train'].append(train_epoch_loss/len(train_loader))\n",
    "    loss_stats['val'].append(val_epoch_loss/len(val_loader))\n",
    "    accuracy_stats['train'].append(train_epoch_acc/len(train_loader))\n",
    "    accuracy_stats['val'].append(val_epoch_acc/len(val_loader))\n",
    "                              \n",
    "    \n",
    "    print(f'Epoch {e+0:03}: | Train Loss: {train_epoch_loss/len(train_loader):.5f} | Val Loss: {val_epoch_loss/len(val_loader):.5f} | Train Acc: {train_epoch_acc/len(train_loader):.3f}| Val Acc: {val_epoch_acc/len(val_loader):.3f}')"
   ]
  },
  {
   "cell_type": "markdown",
   "metadata": {},
   "source": [
    "### Visualize Loss and Accuracy"
   ]
  },
  {
   "cell_type": "code",
   "execution_count": 30,
   "metadata": {},
   "outputs": [
    {
     "data": {
      "text/plain": [
       "Text(0.5, 1.0, 'Train-Val Loss/Epoch')"
      ]
     },
     "execution_count": 30,
     "metadata": {},
     "output_type": "execute_result"
    },
    {
     "data": {
      "image/png": "[encoded data removed]",
      "text/plain": [
       "<Figure size 1440x504 with 2 Axes>"
      ]
     },
     "metadata": {},
     "output_type": "display_data"
    }
   ],
   "source": [
    "train_val_acc_df = pd.DataFrame.from_dict(accuracy_stats).reset_index().melt(id_vars=['index']).rename(columns={\"index\":\"epochs\"})\n",
    "train_val_loss_df = pd.DataFrame.from_dict(loss_stats).reset_index().melt(id_vars=['index']).rename(columns={\"index\":\"epochs\"})\n",
    "\n",
    "fig, axes = plt.subplots(nrows=1, ncols=2, figsize=(20,7))\n",
    "sns.lineplot(data=train_val_acc_df, x = \"epochs\", y=\"value\", hue=\"variable\",  ax=axes[0]).set_title('Train-Val Accuracy/Epoch')\n",
    "sns.lineplot(data=train_val_loss_df, x = \"epochs\", y=\"value\", hue=\"variable\", ax=axes[1]).set_title('Train-Val Loss/Epoch')"
   ]
  },
  {
   "cell_type": "markdown",
   "metadata": {},
   "source": [
    "## Test"
   ]
  },
  {
   "cell_type": "code",
   "execution_count": 31,
   "metadata": {},
   "outputs": [],
   "source": [
    "y_pred_list = []\n",
    "\n",
    "with torch.no_grad():\n",
    "    model.eval()\n",
    "    for X_batch, _ in test_loader:\n",
    "        X_batch = X_batch.to(device)\n",
    "        y_test_pred = model(X_batch)\n",
    "        _, y_pred_tag = torch.max(y_test_pred, dim = 1)\n",
    "        y_pred_list.append(y_pred_tag.cpu().numpy())"
   ]
  },
  {
   "cell_type": "code",
   "execution_count": 32,
   "metadata": {},
   "outputs": [],
   "source": [
    "y_pred_list = [a.squeeze().tolist() for a in y_pred_list]"
   ]
  },
  {
   "cell_type": "markdown",
   "metadata": {},
   "source": [
    "### Confusion Matrix"
   ]
  },
  {
   "cell_type": "code",
   "execution_count": 33,
   "metadata": {},
   "outputs": [
    {
     "data": {
      "text/plain": [
       "<matplotlib.axes._subplots.AxesSubplot at 0x7f14c0184780>"
      ]
     },
     "execution_count": 33,
     "metadata": {},
     "output_type": "execute_result"
    },
    {
     "data": {
      "image/png": "[encoded data removed]",
      "text/plain": [
       "<Figure size 432x288 with 2 Axes>"
      ]
     },
     "metadata": {},
     "output_type": "display_data"
    }
   ],
   "source": [
    "confusion_matrix_df = pd.DataFrame(confusion_matrix(y_test, y_pred_list)).rename(columns=idx2class, index=idx2class)\n",
    "sns.heatmap(confusion_matrix_df, annot=True)"
   ]
  },
  {
   "cell_type": "markdown",
   "metadata": {},
   "source": [
    "### Classification Report"
   ]
  },
  {
   "cell_type": "code",
   "execution_count": 34,
   "metadata": {},
   "outputs": [
    {
     "name": "stdout",
     "output_type": "stream",
     "text": [
      "              precision    recall  f1-score   support\n",
      "\n",
      "           0       0.00      0.00      0.00         2\n",
      "           1       0.17      0.27      0.21        11\n",
      "           2       0.60      0.68      0.64       136\n",
      "           3       0.53      0.39      0.45       128\n",
      "           4       0.54      0.47      0.51        40\n",
      "           5       0.00      0.00      0.00         3\n",
      "\n",
      "    accuracy                           0.52       320\n",
      "   macro avg       0.31      0.30      0.30       320\n",
      "weighted avg       0.54      0.52      0.52       320\n",
      "\n"
     ]
    }
   ],
   "source": [
    "print(classification_report(y_test, y_pred_list))"
   ]
  }
 ],
 "metadata": {
  "kernelspec": {
   "display_name": "Python 3",
   "language": "python",
   "name": "python3"
  },
  "language_info": {
   "codemirror_mode": {
    "name": "ipython",
    "version": 3
   },
   "file_extension": ".py",
   "mimetype": "text/x-python",
   "name": "python",
   "nbconvert_exporter": "python",
   "pygments_lexer": "ipython3",
   "version": "3.6.10"
  }
 },
 "nbformat": 4,
 "nbformat_minor": 4
}
