{
 "cells": [
  {
   "cell_type": "markdown",
   "metadata": {},
   "source": [
    "# Tabular - Binary Classification using DNNs\n",
    "\n",
    "By [Akshaj Verma](https://akshajverma.com/)\n",
    "\n",
    "This notebook takes you through the implementation of binary classification using feedforward networks on the [lower back pain symptoms dataset](https://www.kaggle.com/sammy123/lower-back-pain-symptoms-dataset) using PyTorch."
   ]
  },
  {
   "cell_type": "code",
   "execution_count": 1,
   "metadata": {},
   "outputs": [],
   "source": [
    "import numpy as np\n",
    "import pandas as pd\n",
    "import seaborn as sns\n",
    "from tqdm.notebook import tqdm\n",
    "import matplotlib.pyplot as plt\n",
    "\n",
    "import torch\n",
    "import torch.nn as nn\n",
    "import torch.optim as optim\n",
    "from torch.utils.data import Dataset, DataLoader, WeightedRandomSampler\n",
    "\n",
    "from sklearn.preprocessing import MinMaxScaler    \n",
    "from sklearn.model_selection import train_test_split\n",
    "from sklearn.metrics import confusion_matrix, classification_report "
   ]
  },
  {
   "cell_type": "code",
   "execution_count": 2,
   "metadata": {},
   "outputs": [],
   "source": [
    "%matplotlib inline\n",
    "sns.set_style('darkgrid')"
   ]
  },
  {
   "cell_type": "code",
   "execution_count": 3,
   "metadata": {},
   "outputs": [],
   "source": [
    "df = pd.read_csv(\"../../../data/tabular/classification/spine_dataset.csv\")"
   ]
  },
  {
   "cell_type": "markdown",
   "metadata": {},
   "source": [
    "## Pre-processing"
   ]
  },
  {
   "cell_type": "code",
   "execution_count": 4,
   "metadata": {},
   "outputs": [],
   "source": [
    "df = df.iloc[:, 0:-1]"
   ]
  },
  {
   "cell_type": "code",
   "execution_count": 5,
   "metadata": {},
   "outputs": [
    {
     "data": {
      "text/html": [
       "<div>\n",
       "<style scoped>\n",
       "    .dataframe tbody tr th:only-of-type {\n",
       "        vertical-align: middle;\n",
       "    }\n",
       "\n",
       "    .dataframe tbody tr th {\n",
       "        vertical-align: top;\n",
       "    }\n",
       "\n",
       "    .dataframe thead th {\n",
       "        text-align: right;\n",
       "    }\n",
       "</style>\n",
       "<table border=\"1\" class=\"dataframe\">\n",
       "  <thead>\n",
       "    <tr style=\"text-align: right;\">\n",
       "      <th></th>\n",
       "      <th>Col1</th>\n",
       "      <th>Col2</th>\n",
       "      <th>Col3</th>\n",
       "      <th>Col4</th>\n",
       "      <th>Col5</th>\n",
       "      <th>Col6</th>\n",
       "      <th>Col7</th>\n",
       "      <th>Col8</th>\n",
       "      <th>Col9</th>\n",
       "      <th>Col10</th>\n",
       "      <th>Col11</th>\n",
       "      <th>Col12</th>\n",
       "      <th>Class_att</th>\n",
       "    </tr>\n",
       "  </thead>\n",
       "  <tbody>\n",
       "    <tr>\n",
       "      <th>0</th>\n",
       "      <td>63.027818</td>\n",
       "      <td>22.552586</td>\n",
       "      <td>39.609117</td>\n",
       "      <td>40.475232</td>\n",
       "      <td>98.672917</td>\n",
       "      <td>-0.254400</td>\n",
       "      <td>0.744503</td>\n",
       "      <td>12.5661</td>\n",
       "      <td>14.5386</td>\n",
       "      <td>15.30468</td>\n",
       "      <td>-28.658501</td>\n",
       "      <td>43.5123</td>\n",
       "      <td>Abnormal</td>\n",
       "    </tr>\n",
       "    <tr>\n",
       "      <th>1</th>\n",
       "      <td>39.056951</td>\n",
       "      <td>10.060991</td>\n",
       "      <td>25.015378</td>\n",
       "      <td>28.995960</td>\n",
       "      <td>114.405425</td>\n",
       "      <td>4.564259</td>\n",
       "      <td>0.415186</td>\n",
       "      <td>12.8874</td>\n",
       "      <td>17.5323</td>\n",
       "      <td>16.78486</td>\n",
       "      <td>-25.530607</td>\n",
       "      <td>16.1102</td>\n",
       "      <td>Abnormal</td>\n",
       "    </tr>\n",
       "    <tr>\n",
       "      <th>2</th>\n",
       "      <td>68.832021</td>\n",
       "      <td>22.218482</td>\n",
       "      <td>50.092194</td>\n",
       "      <td>46.613539</td>\n",
       "      <td>105.985135</td>\n",
       "      <td>-3.530317</td>\n",
       "      <td>0.474889</td>\n",
       "      <td>26.8343</td>\n",
       "      <td>17.4861</td>\n",
       "      <td>16.65897</td>\n",
       "      <td>-29.031888</td>\n",
       "      <td>19.2221</td>\n",
       "      <td>Abnormal</td>\n",
       "    </tr>\n",
       "    <tr>\n",
       "      <th>3</th>\n",
       "      <td>69.297008</td>\n",
       "      <td>24.652878</td>\n",
       "      <td>44.311238</td>\n",
       "      <td>44.644130</td>\n",
       "      <td>101.868495</td>\n",
       "      <td>11.211523</td>\n",
       "      <td>0.369345</td>\n",
       "      <td>23.5603</td>\n",
       "      <td>12.7074</td>\n",
       "      <td>11.42447</td>\n",
       "      <td>-30.470246</td>\n",
       "      <td>18.8329</td>\n",
       "      <td>Abnormal</td>\n",
       "    </tr>\n",
       "    <tr>\n",
       "      <th>4</th>\n",
       "      <td>49.712859</td>\n",
       "      <td>9.652075</td>\n",
       "      <td>28.317406</td>\n",
       "      <td>40.060784</td>\n",
       "      <td>108.168725</td>\n",
       "      <td>7.918501</td>\n",
       "      <td>0.543360</td>\n",
       "      <td>35.4940</td>\n",
       "      <td>15.9546</td>\n",
       "      <td>8.87237</td>\n",
       "      <td>-16.378376</td>\n",
       "      <td>24.9171</td>\n",
       "      <td>Abnormal</td>\n",
       "    </tr>\n",
       "  </tbody>\n",
       "</table>\n",
       "</div>"
      ],
      "text/plain": [
       "        Col1       Col2       Col3       Col4        Col5       Col6  \\\n",
       "0  63.027818  22.552586  39.609117  40.475232   98.672917  -0.254400   \n",
       "1  39.056951  10.060991  25.015378  28.995960  114.405425   4.564259   \n",
       "2  68.832021  22.218482  50.092194  46.613539  105.985135  -3.530317   \n",
       "3  69.297008  24.652878  44.311238  44.644130  101.868495  11.211523   \n",
       "4  49.712859   9.652075  28.317406  40.060784  108.168725   7.918501   \n",
       "\n",
       "       Col7     Col8     Col9     Col10      Col11    Col12 Class_att  \n",
       "0  0.744503  12.5661  14.5386  15.30468 -28.658501  43.5123  Abnormal  \n",
       "1  0.415186  12.8874  17.5323  16.78486 -25.530607  16.1102  Abnormal  \n",
       "2  0.474889  26.8343  17.4861  16.65897 -29.031888  19.2221  Abnormal  \n",
       "3  0.369345  23.5603  12.7074  11.42447 -30.470246  18.8329  Abnormal  \n",
       "4  0.543360  35.4940  15.9546   8.87237 -16.378376  24.9171  Abnormal  "
      ]
     },
     "execution_count": 5,
     "metadata": {},
     "output_type": "execute_result"
    }
   ],
   "source": [
    "df.head()"
   ]
  },
  {
   "cell_type": "code",
   "execution_count": 6,
   "metadata": {},
   "outputs": [
    {
     "data": {
      "text/plain": [
       "310"
      ]
     },
     "execution_count": 6,
     "metadata": {},
     "output_type": "execute_result"
    }
   ],
   "source": [
    "len(df)"
   ]
  },
  {
   "cell_type": "code",
   "execution_count": 7,
   "metadata": {},
   "outputs": [
    {
     "data": {
      "text/html": [
       "<div>\n",
       "<style scoped>\n",
       "    .dataframe tbody tr th:only-of-type {\n",
       "        vertical-align: middle;\n",
       "    }\n",
       "\n",
       "    .dataframe tbody tr th {\n",
       "        vertical-align: top;\n",
       "    }\n",
       "\n",
       "    .dataframe thead th {\n",
       "        text-align: right;\n",
       "    }\n",
       "</style>\n",
       "<table border=\"1\" class=\"dataframe\">\n",
       "  <thead>\n",
       "    <tr style=\"text-align: right;\">\n",
       "      <th></th>\n",
       "      <th>Col1</th>\n",
       "      <th>Col2</th>\n",
       "      <th>Col3</th>\n",
       "      <th>Col4</th>\n",
       "      <th>Col5</th>\n",
       "      <th>Col6</th>\n",
       "      <th>Col7</th>\n",
       "      <th>Col8</th>\n",
       "      <th>Col9</th>\n",
       "      <th>Col10</th>\n",
       "      <th>Col11</th>\n",
       "      <th>Col12</th>\n",
       "    </tr>\n",
       "  </thead>\n",
       "  <tbody>\n",
       "    <tr>\n",
       "      <th>count</th>\n",
       "      <td>310.000000</td>\n",
       "      <td>310.000000</td>\n",
       "      <td>310.000000</td>\n",
       "      <td>310.000000</td>\n",
       "      <td>310.000000</td>\n",
       "      <td>310.000000</td>\n",
       "      <td>310.000000</td>\n",
       "      <td>310.000000</td>\n",
       "      <td>310.000000</td>\n",
       "      <td>310.000000</td>\n",
       "      <td>310.000000</td>\n",
       "      <td>310.000000</td>\n",
       "    </tr>\n",
       "    <tr>\n",
       "      <th>mean</th>\n",
       "      <td>60.496653</td>\n",
       "      <td>17.542822</td>\n",
       "      <td>51.930930</td>\n",
       "      <td>42.953831</td>\n",
       "      <td>117.920655</td>\n",
       "      <td>26.296694</td>\n",
       "      <td>0.472979</td>\n",
       "      <td>21.321526</td>\n",
       "      <td>13.064511</td>\n",
       "      <td>11.933317</td>\n",
       "      <td>-14.053139</td>\n",
       "      <td>25.645981</td>\n",
       "    </tr>\n",
       "    <tr>\n",
       "      <th>std</th>\n",
       "      <td>17.236520</td>\n",
       "      <td>10.008330</td>\n",
       "      <td>18.554064</td>\n",
       "      <td>13.423102</td>\n",
       "      <td>13.317377</td>\n",
       "      <td>37.559027</td>\n",
       "      <td>0.285787</td>\n",
       "      <td>8.639423</td>\n",
       "      <td>3.399713</td>\n",
       "      <td>2.893265</td>\n",
       "      <td>12.225582</td>\n",
       "      <td>10.450558</td>\n",
       "    </tr>\n",
       "    <tr>\n",
       "      <th>min</th>\n",
       "      <td>26.147921</td>\n",
       "      <td>-6.554948</td>\n",
       "      <td>14.000000</td>\n",
       "      <td>13.366931</td>\n",
       "      <td>70.082575</td>\n",
       "      <td>-11.058179</td>\n",
       "      <td>0.003220</td>\n",
       "      <td>7.027000</td>\n",
       "      <td>7.037800</td>\n",
       "      <td>7.030600</td>\n",
       "      <td>-35.287375</td>\n",
       "      <td>7.007900</td>\n",
       "    </tr>\n",
       "    <tr>\n",
       "      <th>25%</th>\n",
       "      <td>46.430294</td>\n",
       "      <td>10.667069</td>\n",
       "      <td>37.000000</td>\n",
       "      <td>33.347122</td>\n",
       "      <td>110.709196</td>\n",
       "      <td>1.603727</td>\n",
       "      <td>0.224367</td>\n",
       "      <td>13.054400</td>\n",
       "      <td>10.417800</td>\n",
       "      <td>9.541140</td>\n",
       "      <td>-24.289522</td>\n",
       "      <td>17.189075</td>\n",
       "    </tr>\n",
       "    <tr>\n",
       "      <th>50%</th>\n",
       "      <td>58.691038</td>\n",
       "      <td>16.357689</td>\n",
       "      <td>49.562398</td>\n",
       "      <td>42.404912</td>\n",
       "      <td>118.268178</td>\n",
       "      <td>11.767934</td>\n",
       "      <td>0.475989</td>\n",
       "      <td>21.907150</td>\n",
       "      <td>12.938450</td>\n",
       "      <td>11.953835</td>\n",
       "      <td>-14.622856</td>\n",
       "      <td>24.931950</td>\n",
       "    </tr>\n",
       "    <tr>\n",
       "      <th>75%</th>\n",
       "      <td>72.877696</td>\n",
       "      <td>22.120395</td>\n",
       "      <td>63.000000</td>\n",
       "      <td>52.695888</td>\n",
       "      <td>125.467674</td>\n",
       "      <td>41.287352</td>\n",
       "      <td>0.704846</td>\n",
       "      <td>28.954075</td>\n",
       "      <td>15.889525</td>\n",
       "      <td>14.371810</td>\n",
       "      <td>-3.497094</td>\n",
       "      <td>33.979600</td>\n",
       "    </tr>\n",
       "    <tr>\n",
       "      <th>max</th>\n",
       "      <td>129.834041</td>\n",
       "      <td>49.431864</td>\n",
       "      <td>125.742385</td>\n",
       "      <td>121.429566</td>\n",
       "      <td>163.071041</td>\n",
       "      <td>418.543082</td>\n",
       "      <td>0.998827</td>\n",
       "      <td>36.743900</td>\n",
       "      <td>19.324000</td>\n",
       "      <td>16.821080</td>\n",
       "      <td>6.972071</td>\n",
       "      <td>44.341200</td>\n",
       "    </tr>\n",
       "  </tbody>\n",
       "</table>\n",
       "</div>"
      ],
      "text/plain": [
       "             Col1        Col2        Col3        Col4        Col5        Col6  \\\n",
       "count  310.000000  310.000000  310.000000  310.000000  310.000000  310.000000   \n",
       "mean    60.496653   17.542822   51.930930   42.953831  117.920655   26.296694   \n",
       "std     17.236520   10.008330   18.554064   13.423102   13.317377   37.559027   \n",
       "min     26.147921   -6.554948   14.000000   13.366931   70.082575  -11.058179   \n",
       "25%     46.430294   10.667069   37.000000   33.347122  110.709196    1.603727   \n",
       "50%     58.691038   16.357689   49.562398   42.404912  118.268178   11.767934   \n",
       "75%     72.877696   22.120395   63.000000   52.695888  125.467674   41.287352   \n",
       "max    129.834041   49.431864  125.742385  121.429566  163.071041  418.543082   \n",
       "\n",
       "             Col7        Col8        Col9       Col10       Col11       Col12  \n",
       "count  310.000000  310.000000  310.000000  310.000000  310.000000  310.000000  \n",
       "mean     0.472979   21.321526   13.064511   11.933317  -14.053139   25.645981  \n",
       "std      0.285787    8.639423    3.399713    2.893265   12.225582   10.450558  \n",
       "min      0.003220    7.027000    7.037800    7.030600  -35.287375    7.007900  \n",
       "25%      0.224367   13.054400   10.417800    9.541140  -24.289522   17.189075  \n",
       "50%      0.475989   21.907150   12.938450   11.953835  -14.622856   24.931950  \n",
       "75%      0.704846   28.954075   15.889525   14.371810   -3.497094   33.979600  \n",
       "max      0.998827   36.743900   19.324000   16.821080    6.972071   44.341200  "
      ]
     },
     "execution_count": 7,
     "metadata": {},
     "output_type": "execute_result"
    }
   ],
   "source": [
    "df.describe()"
   ]
  },
  {
   "cell_type": "markdown",
   "metadata": {},
   "source": [
    "We observe that there's a class imbalance here. So, we need to perform stratified splitting here. "
   ]
  },
  {
   "cell_type": "code",
   "execution_count": 8,
   "metadata": {},
   "outputs": [
    {
     "data": {
      "text/plain": [
       "<matplotlib.axes._subplots.AxesSubplot at 0x7f28412e9940>"
      ]
     },
     "execution_count": 8,
     "metadata": {},
     "output_type": "execute_result"
    },
    {
     "data": {
      "image/png": "[encoded data removed]",
      "text/plain": [
       "<Figure size 432x288 with 1 Axes>"
      ]
     },
     "metadata": {},
     "output_type": "display_data"
    }
   ],
   "source": [
    "sns.countplot(x = 'Class_att', data=df)"
   ]
  },
  {
   "cell_type": "code",
   "execution_count": 9,
   "metadata": {},
   "outputs": [],
   "source": [
    "df['Class_att'] = df['Class_att'].astype('category')"
   ]
  },
  {
   "cell_type": "code",
   "execution_count": 10,
   "metadata": {},
   "outputs": [],
   "source": [
    "encode_map = {\n",
    "    'Abnormal': 1,\n",
    "    'Normal': 0\n",
    "}\n",
    "\n",
    "df['Class_att'].replace(encode_map, inplace=True)"
   ]
  },
  {
   "cell_type": "code",
   "execution_count": 11,
   "metadata": {},
   "outputs": [],
   "source": [
    "X = df.iloc[:, 0:-1]\n",
    "y = df.iloc[:, -1]"
   ]
  },
  {
   "cell_type": "markdown",
   "metadata": {},
   "source": [
    "## Train - Validation - Test"
   ]
  },
  {
   "cell_type": "code",
   "execution_count": 12,
   "metadata": {},
   "outputs": [],
   "source": [
    "# Train - Test\n",
    "X_trainval, X_test, y_trainval, y_test = train_test_split(X, y, test_size=0.2, stratify=y, random_state=69)\n",
    "\n",
    "# Split train into train-val\n",
    "X_train, X_val, y_train, y_val = train_test_split(X_trainval, y_trainval, test_size=0.1, stratify=y_trainval, random_state=21)"
   ]
  },
  {
   "cell_type": "code",
   "execution_count": 13,
   "metadata": {},
   "outputs": [],
   "source": [
    "scaler = MinMaxScaler()\n",
    "X_train = scaler.fit_transform(X_train)\n",
    "X_val = scaler.fit_transform(X_val)\n",
    "X_test = scaler.fit_transform(X_test)"
   ]
  },
  {
   "cell_type": "code",
   "execution_count": 14,
   "metadata": {},
   "outputs": [],
   "source": [
    "X_train, y_train = np.array(X_train), np.array(y_train)\n",
    "X_val, y_val = np.array(X_val), np.array(y_val)\n",
    "X_test, y_test = np.array(X_test), np.array(y_test)"
   ]
  },
  {
   "cell_type": "code",
   "execution_count": 15,
   "metadata": {},
   "outputs": [],
   "source": [
    "def get_class_distribution(obj):\n",
    "    d = {\n",
    "        \"normal\": 0,\n",
    "        \"abnormal\": 0\n",
    "    }\n",
    "    \n",
    "    for i in obj:\n",
    "        if i == 0: \n",
    "            d['normal'] += 1\n",
    "        elif i == 1: \n",
    "            d['abnormal'] += 1\n",
    "        else:\n",
    "            print(\"Check classes.\")\n",
    "            \n",
    "    return d "
   ]
  },
  {
   "cell_type": "code",
   "execution_count": 16,
   "metadata": {},
   "outputs": [
    {
     "name": "stdout",
     "output_type": "stream",
     "text": [
      "{'normal': 72, 'abnormal': 151}\n",
      "{'normal': 20, 'abnormal': 42}\n",
      "{'normal': 8, 'abnormal': 17}\n"
     ]
    }
   ],
   "source": [
    "print(get_class_distribution(y_train))\n",
    "print(get_class_distribution(y_test))\n",
    "print(get_class_distribution(y_val))"
   ]
  },
  {
   "cell_type": "markdown",
   "metadata": {},
   "source": [
    "## Neural Net"
   ]
  },
  {
   "cell_type": "markdown",
   "metadata": {},
   "source": [
    "### Model Parameters"
   ]
  },
  {
   "cell_type": "code",
   "execution_count": 42,
   "metadata": {},
   "outputs": [],
   "source": [
    "EPOCHS = 200\n",
    "BATCH_SIZE = 64\n",
    "LEARNING_RATE = 0.001\n",
    "DROPOUT = 0.2"
   ]
  },
  {
   "cell_type": "markdown",
   "metadata": {},
   "source": [
    "### Define Custom Dataloader"
   ]
  },
  {
   "cell_type": "code",
   "execution_count": 43,
   "metadata": {},
   "outputs": [],
   "source": [
    "class TrainValData(Dataset):\n",
    "    \n",
    "    def __init__(self, X_data, y_data):\n",
    "        self.X_data = X_data\n",
    "        self.y_data = y_data\n",
    "        \n",
    "    def __getitem__(self, index):\n",
    "        return self.X_data[index], self.y_data[index]\n",
    "        \n",
    "    def __len__ (self):\n",
    "        return len(self.X_data)\n",
    "\n",
    "\n",
    "train_dataset = TrainValData(torch.from_numpy(X_train).float(), torch.from_numpy(y_train).long())\n",
    "val_dataset = TrainValData(torch.from_numpy(X_val).float(), torch.from_numpy(y_val).long())\n",
    "test_dataset = TrainValData(torch.from_numpy(X_test).float(), torch.from_numpy(y_test).long())"
   ]
  },
  {
   "cell_type": "code",
   "execution_count": 44,
   "metadata": {},
   "outputs": [],
   "source": [
    "target_list = []\n",
    "\n",
    "for _, t in train_dataset:\n",
    "    target_list.append(t)\n",
    "    \n",
    "target_list = torch.tensor(target_list)\n",
    "target_list = target_list[torch.randperm(len(target_list))]"
   ]
  },
  {
   "cell_type": "code",
   "execution_count": 45,
   "metadata": {},
   "outputs": [
    {
     "data": {
      "text/plain": [
       "tensor([0.0139, 0.0066])"
      ]
     },
     "execution_count": 45,
     "metadata": {},
     "output_type": "execute_result"
    }
   ],
   "source": [
    "class_count = [i for i in get_class_distribution(y_train).values()]\n",
    "class_weights = 1./torch.tensor(class_count, dtype=torch.float) \n",
    "class_weights"
   ]
  },
  {
   "cell_type": "code",
   "execution_count": 46,
   "metadata": {},
   "outputs": [],
   "source": [
    "class_weights_all = class_weights[target_list]"
   ]
  },
  {
   "cell_type": "code",
   "execution_count": 47,
   "metadata": {},
   "outputs": [],
   "source": [
    "weighted_sampler = WeightedRandomSampler(\n",
    "    weights=class_weights_all,\n",
    "    num_samples=len(class_weights_all),\n",
    "    replacement=True\n",
    ")"
   ]
  },
  {
   "cell_type": "code",
   "execution_count": 48,
   "metadata": {},
   "outputs": [],
   "source": [
    "train_loader = DataLoader(dataset=train_dataset, batch_size=BATCH_SIZE, sampler=weighted_sampler)\n",
    "val_loader = DataLoader(dataset=val_dataset, batch_size=1)\n",
    "test_loader = DataLoader(dataset=test_dataset, batch_size=1)"
   ]
  },
  {
   "cell_type": "markdown",
   "metadata": {},
   "source": [
    "### Define Neural Net Architecture"
   ]
  },
  {
   "cell_type": "code",
   "execution_count": 54,
   "metadata": {},
   "outputs": [],
   "source": [
    "class BinaryClassification(nn.Module):\n",
    "    def __init__(self):\n",
    "        super(BinaryClassification, self).__init__()\n",
    "        \n",
    "        self.layer_1 = nn.Linear(12, 32) # Number of input features is 12.\n",
    "        self.layer_2 = nn.Linear(64, 64)\n",
    "        self.layer_out = nn.Linear(32, 2) \n",
    "        \n",
    "        self.relu = nn.ReLU()\n",
    "        self.dropout = nn.Dropout(p=0.1)\n",
    "        self.batchnorm = nn.BatchNorm1d(32)\n",
    "        \n",
    "    def forward(self, x):\n",
    "        x = self.layer_1(x)\n",
    "        x = self.batchnorm(x)\n",
    "        x = self.relu(x)\n",
    "#         x = self.layer_2(x)\n",
    "#         x = self.batchnorm(x)\n",
    "#         x = self.dropout(x)\n",
    "        x = self.layer_out(x)\n",
    "        \n",
    "        return x"
   ]
  },
  {
   "cell_type": "code",
   "execution_count": 55,
   "metadata": {},
   "outputs": [
    {
     "name": "stdout",
     "output_type": "stream",
     "text": [
      "cuda:0\n"
     ]
    }
   ],
   "source": [
    "device = torch.device(\"cuda:0\" if torch.cuda.is_available() else \"cpu\")\n",
    "print(device)"
   ]
  },
  {
   "cell_type": "code",
   "execution_count": 56,
   "metadata": {},
   "outputs": [
    {
     "name": "stdout",
     "output_type": "stream",
     "text": [
      "BinaryClassification(\n",
      "  (layer_1): Linear(in_features=12, out_features=32, bias=True)\n",
      "  (layer_2): Linear(in_features=64, out_features=64, bias=True)\n",
      "  (layer_out): Linear(in_features=32, out_features=2, bias=True)\n",
      "  (relu): ReLU()\n",
      "  (dropout): Dropout(p=0.1, inplace=False)\n",
      "  (batchnorm): BatchNorm1d(32, eps=1e-05, momentum=0.1, affine=True, track_running_stats=True)\n",
      ")\n"
     ]
    }
   ],
   "source": [
    "model = BinaryClassification()\n",
    "model.to(device)\n",
    "\n",
    "print(model)\n",
    "\n",
    "criterion = nn.CrossEntropyLoss()\n",
    "optimizer = optim.Adam(model.parameters(), lr=LEARNING_RATE)"
   ]
  },
  {
   "cell_type": "markdown",
   "metadata": {},
   "source": [
    "### Train Model"
   ]
  },
  {
   "cell_type": "code",
   "execution_count": 57,
   "metadata": {},
   "outputs": [],
   "source": [
    "def binary_acc(y_pred, y_test):\n",
    "    y_pred_tag = torch.round(torch.softmax(y_pred, dim = 1))\n",
    "\n",
    "    correct_results_sum = (y_pred_tag == y_test).sum().float()\n",
    "    acc = correct_results_sum/y_test.shape[0]\n",
    "    acc = torch.round(acc * 100)\n",
    "    \n",
    "    return acc"
   ]
  },
  {
   "cell_type": "code",
   "execution_count": 58,
   "metadata": {},
   "outputs": [
    {
     "name": "stdout",
     "output_type": "stream",
     "text": [
      "Begin training.\n"
     ]
    },
    {
     "data": {
      "application/vnd.jupyter.widget-view+json": {
       "model_id": "13d83a68666b4716a965d0ed917048da",
       "version_major": 2,
       "version_minor": 0
      },
      "text/plain": [
       "HBox(children=(FloatProgress(value=0.0, max=200.0), HTML(value='')))"
      ]
     },
     "metadata": {},
     "output_type": "display_data"
    },
    {
     "name": "stdout",
     "output_type": "stream",
     "text": [
      "Epoch 001: | Train Loss: 0.73943 | Val Loss: 0.75338 \n",
      "Epoch 002: | Train Loss: 0.68475 | Val Loss: 0.68006 \n",
      "Epoch 003: | Train Loss: 0.67716 | Val Loss: 0.66359 \n",
      "Epoch 004: | Train Loss: 0.67098 | Val Loss: 0.67711 \n",
      "Epoch 005: | Train Loss: 0.66311 | Val Loss: 0.67587 \n",
      "Epoch 006: | Train Loss: 0.64178 | Val Loss: 0.62668 \n",
      "Epoch 007: | Train Loss: 0.63696 | Val Loss: 0.60262 \n",
      "Epoch 008: | Train Loss: 0.62829 | Val Loss: 0.61818 \n",
      "Epoch 009: | Train Loss: 0.62658 | Val Loss: 0.63960 \n",
      "Epoch 010: | Train Loss: 0.61049 | Val Loss: 0.64547 \n",
      "Epoch 011: | Train Loss: 0.57406 | Val Loss: 0.51489 \n",
      "Epoch 012: | Train Loss: 0.60755 | Val Loss: 0.60908 \n",
      "Epoch 013: | Train Loss: 0.53886 | Val Loss: 0.45790 \n",
      "Epoch 014: | Train Loss: 0.60502 | Val Loss: 0.56521 \n",
      "Epoch 015: | Train Loss: 0.61651 | Val Loss: 0.63092 \n",
      "Epoch 016: | Train Loss: 0.59485 | Val Loss: 0.61890 \n",
      "Epoch 017: | Train Loss: 0.59029 | Val Loss: 0.62152 \n",
      "Epoch 018: | Train Loss: 0.57837 | Val Loss: 0.67787 \n",
      "Epoch 019: | Train Loss: 0.55658 | Val Loss: 0.58626 \n",
      "Epoch 020: | Train Loss: 0.59114 | Val Loss: 0.51259 \n",
      "Epoch 021: | Train Loss: 0.60985 | Val Loss: 0.60671 \n",
      "Epoch 022: | Train Loss: 0.62210 | Val Loss: 0.62961 \n",
      "Epoch 023: | Train Loss: 0.56600 | Val Loss: 0.51709 \n",
      "Epoch 024: | Train Loss: 0.53472 | Val Loss: 0.58451 \n",
      "Epoch 025: | Train Loss: 0.57600 | Val Loss: 0.58615 \n",
      "Epoch 026: | Train Loss: 0.56567 | Val Loss: 0.54883 \n",
      "Epoch 027: | Train Loss: 0.55743 | Val Loss: 0.58724 \n",
      "Epoch 028: | Train Loss: 0.57231 | Val Loss: 0.60299 \n",
      "Epoch 029: | Train Loss: 0.52840 | Val Loss: 0.49704 \n",
      "Epoch 030: | Train Loss: 0.55694 | Val Loss: 0.52524 \n",
      "Epoch 031: | Train Loss: 0.54935 | Val Loss: 0.50091 \n",
      "Epoch 032: | Train Loss: 0.53991 | Val Loss: 0.51905 \n",
      "Epoch 033: | Train Loss: 0.54904 | Val Loss: 0.59651 \n",
      "Epoch 034: | Train Loss: 0.50881 | Val Loss: 0.48054 \n",
      "Epoch 035: | Train Loss: 0.56193 | Val Loss: 0.64314 \n",
      "Epoch 036: | Train Loss: 0.49407 | Val Loss: 0.44037 \n",
      "Epoch 037: | Train Loss: 0.51604 | Val Loss: 0.50077 \n",
      "Epoch 038: | Train Loss: 0.54725 | Val Loss: 0.55475 \n",
      "Epoch 039: | Train Loss: 0.53315 | Val Loss: 0.55615 \n",
      "Epoch 040: | Train Loss: 0.54555 | Val Loss: 0.57254 \n",
      "Epoch 041: | Train Loss: 0.47991 | Val Loss: 0.41249 \n",
      "Epoch 042: | Train Loss: 0.49380 | Val Loss: 0.53248 \n",
      "Epoch 043: | Train Loss: 0.52575 | Val Loss: 0.46026 \n",
      "Epoch 044: | Train Loss: 0.48539 | Val Loss: 0.45004 \n",
      "Epoch 045: | Train Loss: 0.51895 | Val Loss: 0.47405 \n",
      "Epoch 046: | Train Loss: 0.46019 | Val Loss: 0.48614 \n",
      "Epoch 047: | Train Loss: 0.51233 | Val Loss: 0.46038 \n",
      "Epoch 048: | Train Loss: 0.55072 | Val Loss: 0.64088 \n",
      "Epoch 049: | Train Loss: 0.43671 | Val Loss: 0.39515 \n",
      "Epoch 050: | Train Loss: 0.43897 | Val Loss: 0.43798 \n",
      "Epoch 051: | Train Loss: 0.47064 | Val Loss: 0.36804 \n",
      "Epoch 052: | Train Loss: 0.48972 | Val Loss: 0.44968 \n",
      "Epoch 053: | Train Loss: 0.51490 | Val Loss: 0.50871 \n",
      "Epoch 054: | Train Loss: 0.45923 | Val Loss: 0.45058 \n",
      "Epoch 055: | Train Loss: 0.47094 | Val Loss: 0.44011 \n",
      "Epoch 056: | Train Loss: 0.49048 | Val Loss: 0.49279 \n",
      "Epoch 057: | Train Loss: 0.46790 | Val Loss: 0.48778 \n",
      "Epoch 058: | Train Loss: 0.46662 | Val Loss: 0.40585 \n",
      "Epoch 059: | Train Loss: 0.46437 | Val Loss: 0.53541 \n",
      "Epoch 060: | Train Loss: 0.46311 | Val Loss: 0.49910 \n",
      "Epoch 061: | Train Loss: 0.41207 | Val Loss: 0.31459 \n",
      "Epoch 062: | Train Loss: 0.49247 | Val Loss: 0.47831 \n",
      "Epoch 063: | Train Loss: 0.46014 | Val Loss: 0.55069 \n",
      "Epoch 064: | Train Loss: 0.42950 | Val Loss: 0.39070 \n",
      "Epoch 065: | Train Loss: 0.51398 | Val Loss: 0.53719 \n",
      "Epoch 066: | Train Loss: 0.50282 | Val Loss: 0.51759 \n",
      "Epoch 067: | Train Loss: 0.41644 | Val Loss: 0.41590 \n",
      "Epoch 068: | Train Loss: 0.43632 | Val Loss: 0.42245 \n",
      "Epoch 069: | Train Loss: 0.45058 | Val Loss: 0.49141 \n",
      "Epoch 070: | Train Loss: 0.38832 | Val Loss: 0.33519 \n",
      "Epoch 071: | Train Loss: 0.48868 | Val Loss: 0.52759 \n",
      "Epoch 072: | Train Loss: 0.44657 | Val Loss: 0.34384 \n",
      "Epoch 073: | Train Loss: 0.43856 | Val Loss: 0.46147 \n",
      "Epoch 074: | Train Loss: 0.39438 | Val Loss: 0.32485 \n",
      "Epoch 075: | Train Loss: 0.38260 | Val Loss: 0.38371 \n",
      "Epoch 076: | Train Loss: 0.41955 | Val Loss: 0.48326 \n",
      "Epoch 077: | Train Loss: 0.39736 | Val Loss: 0.40707 \n",
      "Epoch 078: | Train Loss: 0.43886 | Val Loss: 0.44715 \n",
      "Epoch 079: | Train Loss: 0.44275 | Val Loss: 0.42909 \n",
      "Epoch 080: | Train Loss: 0.43948 | Val Loss: 0.44530 \n",
      "Epoch 081: | Train Loss: 0.47237 | Val Loss: 0.53648 \n",
      "Epoch 082: | Train Loss: 0.44897 | Val Loss: 0.49489 \n",
      "Epoch 083: | Train Loss: 0.42931 | Val Loss: 0.48291 \n",
      "Epoch 084: | Train Loss: 0.43174 | Val Loss: 0.44195 \n",
      "Epoch 085: | Train Loss: 0.43955 | Val Loss: 0.66586 \n",
      "Epoch 086: | Train Loss: 0.40580 | Val Loss: 0.43107 \n",
      "Epoch 087: | Train Loss: 0.38625 | Val Loss: 0.37748 \n",
      "Epoch 088: | Train Loss: 0.42836 | Val Loss: 0.45969 \n",
      "Epoch 089: | Train Loss: 0.38983 | Val Loss: 0.41288 \n",
      "Epoch 090: | Train Loss: 0.34561 | Val Loss: 0.27038 \n",
      "Epoch 091: | Train Loss: 0.38676 | Val Loss: 0.42621 \n",
      "Epoch 092: | Train Loss: 0.37194 | Val Loss: 0.37710 \n",
      "Epoch 093: | Train Loss: 0.39011 | Val Loss: 0.33949 \n",
      "Epoch 094: | Train Loss: 0.40656 | Val Loss: 0.33627 \n",
      "Epoch 095: | Train Loss: 0.39023 | Val Loss: 0.38524 \n",
      "Epoch 096: | Train Loss: 0.38416 | Val Loss: 0.32171 \n",
      "Epoch 097: | Train Loss: 0.38578 | Val Loss: 0.39982 \n",
      "Epoch 098: | Train Loss: 0.40018 | Val Loss: 0.35946 \n",
      "Epoch 099: | Train Loss: 0.40754 | Val Loss: 0.39870 \n",
      "Epoch 100: | Train Loss: 0.36689 | Val Loss: 0.35540 \n",
      "Epoch 101: | Train Loss: 0.40900 | Val Loss: 0.45723 \n",
      "Epoch 102: | Train Loss: 0.40524 | Val Loss: 0.47686 \n",
      "Epoch 103: | Train Loss: 0.40595 | Val Loss: 0.45579 \n",
      "Epoch 104: | Train Loss: 0.36782 | Val Loss: 0.38656 \n",
      "Epoch 105: | Train Loss: 0.34320 | Val Loss: 0.29602 \n",
      "Epoch 106: | Train Loss: 0.38974 | Val Loss: 0.42102 \n",
      "Epoch 107: | Train Loss: 0.36273 | Val Loss: 0.40899 \n",
      "Epoch 108: | Train Loss: 0.43690 | Val Loss: 0.48136 \n",
      "Epoch 109: | Train Loss: 0.33527 | Val Loss: 0.37632 \n",
      "Epoch 110: | Train Loss: 0.35811 | Val Loss: 0.34185 \n",
      "Epoch 111: | Train Loss: 0.36573 | Val Loss: 0.29779 \n",
      "Epoch 112: | Train Loss: 0.37175 | Val Loss: 0.38627 \n",
      "Epoch 113: | Train Loss: 0.34948 | Val Loss: 0.34998 \n",
      "Epoch 114: | Train Loss: 0.35319 | Val Loss: 0.35334 \n",
      "Epoch 115: | Train Loss: 0.31432 | Val Loss: 0.30313 \n",
      "Epoch 116: | Train Loss: 0.36442 | Val Loss: 0.38234 \n",
      "Epoch 117: | Train Loss: 0.40563 | Val Loss: 0.37610 \n",
      "Epoch 118: | Train Loss: 0.36249 | Val Loss: 0.32336 \n",
      "Epoch 119: | Train Loss: 0.36277 | Val Loss: 0.39126 \n",
      "Epoch 120: | Train Loss: 0.36624 | Val Loss: 0.41182 \n",
      "Epoch 121: | Train Loss: 0.39290 | Val Loss: 0.43239 \n",
      "Epoch 122: | Train Loss: 0.36636 | Val Loss: 0.32592 \n",
      "Epoch 123: | Train Loss: 0.32367 | Val Loss: 0.25172 \n",
      "Epoch 124: | Train Loss: 0.29358 | Val Loss: 0.19255 \n",
      "Epoch 125: | Train Loss: 0.37809 | Val Loss: 0.47493 \n",
      "Epoch 126: | Train Loss: 0.36853 | Val Loss: 0.37007 \n",
      "Epoch 127: | Train Loss: 0.31523 | Val Loss: 0.32150 \n",
      "Epoch 128: | Train Loss: 0.33348 | Val Loss: 0.35227 \n",
      "Epoch 129: | Train Loss: 0.35646 | Val Loss: 0.41494 \n",
      "Epoch 130: | Train Loss: 0.34950 | Val Loss: 0.33922 \n",
      "Epoch 131: | Train Loss: 0.32632 | Val Loss: 0.31692 \n",
      "Epoch 132: | Train Loss: 0.36749 | Val Loss: 0.28422 \n",
      "Epoch 133: | Train Loss: 0.30650 | Val Loss: 0.32607 \n",
      "Epoch 134: | Train Loss: 0.29311 | Val Loss: 0.32616 \n",
      "Epoch 135: | Train Loss: 0.31265 | Val Loss: 0.30596 \n",
      "Epoch 136: | Train Loss: 0.38043 | Val Loss: 0.46961 \n",
      "Epoch 137: | Train Loss: 0.36830 | Val Loss: 0.32440 \n",
      "Epoch 138: | Train Loss: 0.29245 | Val Loss: 0.31812 \n",
      "Epoch 139: | Train Loss: 0.36766 | Val Loss: 0.37863 \n",
      "Epoch 140: | Train Loss: 0.30153 | Val Loss: 0.31147 \n",
      "Epoch 141: | Train Loss: 0.37205 | Val Loss: 0.40126 \n",
      "Epoch 142: | Train Loss: 0.34138 | Val Loss: 0.40787 \n",
      "Epoch 143: | Train Loss: 0.32668 | Val Loss: 0.18176 \n",
      "Epoch 144: | Train Loss: 0.36489 | Val Loss: 0.37276 \n",
      "Epoch 145: | Train Loss: 0.30416 | Val Loss: 0.22944 \n",
      "Epoch 146: | Train Loss: 0.36937 | Val Loss: 0.33714 \n",
      "Epoch 147: | Train Loss: 0.32522 | Val Loss: 0.39873 \n",
      "Epoch 148: | Train Loss: 0.35738 | Val Loss: 0.36524 \n",
      "Epoch 149: | Train Loss: 0.31952 | Val Loss: 0.32601 \n",
      "Epoch 150: | Train Loss: 0.31920 | Val Loss: 0.36879 \n",
      "Epoch 151: | Train Loss: 0.36795 | Val Loss: 0.38850 \n",
      "Epoch 152: | Train Loss: 0.32073 | Val Loss: 0.34298 \n",
      "Epoch 153: | Train Loss: 0.27316 | Val Loss: 0.24467 \n",
      "Epoch 154: | Train Loss: 0.29886 | Val Loss: 0.22591 \n",
      "Epoch 155: | Train Loss: 0.30806 | Val Loss: 0.28980 \n",
      "Epoch 156: | Train Loss: 0.29754 | Val Loss: 0.26840 \n",
      "Epoch 157: | Train Loss: 0.32932 | Val Loss: 0.29089 \n",
      "Epoch 158: | Train Loss: 0.31210 | Val Loss: 0.35007 \n",
      "Epoch 159: | Train Loss: 0.37664 | Val Loss: 0.44780 \n",
      "Epoch 160: | Train Loss: 0.31972 | Val Loss: 0.28162 \n",
      "Epoch 161: | Train Loss: 0.31300 | Val Loss: 0.20098 \n",
      "Epoch 162: | Train Loss: 0.29554 | Val Loss: 0.20709 \n",
      "Epoch 163: | Train Loss: 0.30649 | Val Loss: 0.30544 \n",
      "Epoch 164: | Train Loss: 0.31578 | Val Loss: 0.29357 \n",
      "Epoch 165: | Train Loss: 0.36797 | Val Loss: 0.31564 \n",
      "Epoch 166: | Train Loss: 0.37459 | Val Loss: 0.49213 \n",
      "Epoch 167: | Train Loss: 0.27080 | Val Loss: 0.23916 \n",
      "Epoch 168: | Train Loss: 0.33142 | Val Loss: 0.34887 \n",
      "Epoch 169: | Train Loss: 0.37004 | Val Loss: 0.37150 \n",
      "Epoch 170: | Train Loss: 0.30769 | Val Loss: 0.28660 \n",
      "Epoch 171: | Train Loss: 0.30054 | Val Loss: 0.43217 \n",
      "Epoch 172: | Train Loss: 0.32768 | Val Loss: 0.28757 \n",
      "Epoch 173: | Train Loss: 0.28603 | Val Loss: 0.22747 \n",
      "Epoch 174: | Train Loss: 0.30564 | Val Loss: 0.40389 \n",
      "Epoch 175: | Train Loss: 0.28864 | Val Loss: 0.33545 \n",
      "Epoch 176: | Train Loss: 0.28523 | Val Loss: 0.34660 \n",
      "Epoch 177: | Train Loss: 0.28548 | Val Loss: 0.38977 \n",
      "Epoch 178: | Train Loss: 0.29223 | Val Loss: 0.26771 \n",
      "Epoch 179: | Train Loss: 0.36588 | Val Loss: 0.33857 \n",
      "Epoch 180: | Train Loss: 0.33241 | Val Loss: 0.36729 \n",
      "Epoch 181: | Train Loss: 0.30819 | Val Loss: 0.34833 \n",
      "Epoch 182: | Train Loss: 0.29808 | Val Loss: 0.37635 \n",
      "Epoch 183: | Train Loss: 0.29521 | Val Loss: 0.30254 \n",
      "Epoch 184: | Train Loss: 0.28418 | Val Loss: 0.27063 \n",
      "Epoch 185: | Train Loss: 0.26160 | Val Loss: 0.25298 \n",
      "Epoch 186: | Train Loss: 0.23553 | Val Loss: 0.13838 \n",
      "Epoch 187: | Train Loss: 0.30117 | Val Loss: 0.34106 \n",
      "Epoch 188: | Train Loss: 0.35066 | Val Loss: 0.40494 \n",
      "Epoch 189: | Train Loss: 0.31944 | Val Loss: 0.41418 \n",
      "Epoch 190: | Train Loss: 0.31015 | Val Loss: 0.26186 \n",
      "Epoch 191: | Train Loss: 0.30650 | Val Loss: 0.34221 \n",
      "Epoch 192: | Train Loss: 0.35832 | Val Loss: 0.30503 \n",
      "Epoch 193: | Train Loss: 0.26175 | Val Loss: 0.24928 \n",
      "Epoch 194: | Train Loss: 0.34126 | Val Loss: 0.27252 \n",
      "Epoch 195: | Train Loss: 0.30795 | Val Loss: 0.33698 \n",
      "Epoch 196: | Train Loss: 0.30864 | Val Loss: 0.33812 \n",
      "Epoch 197: | Train Loss: 0.31422 | Val Loss: 0.40370 \n",
      "Epoch 198: | Train Loss: 0.33082 | Val Loss: 0.38397 \n",
      "Epoch 199: | Train Loss: 0.32217 | Val Loss: 0.33318 \n",
      "Epoch 200: | Train Loss: 0.32053 | Val Loss: 0.33148 \n",
      "\n"
     ]
    }
   ],
   "source": [
    "print(\"Begin training.\")\n",
    "model.train()\n",
    "for e in tqdm(range(1, EPOCHS+1)):\n",
    "    train_epoch_loss = 0\n",
    "    train_epoch_acc = 0\n",
    "    for X_train_batch, y_train_batch in train_loader:\n",
    "        X_train_batch, y_train_batch = X_train_batch.to(device), y_train_batch.to(device)\n",
    "        optimizer.zero_grad()\n",
    "        \n",
    "        y_train_pred = model(X_train_batch)\n",
    "        \n",
    "        train_loss = criterion(y_train_pred, y_train_batch)\n",
    "#         train_acc = binary_acc(y_train_pred, y_train_batch)\n",
    "        \n",
    "        train_loss.backward()\n",
    "        optimizer.step()\n",
    "        \n",
    "        train_epoch_loss += train_loss.item()\n",
    "#         train_epoch_acc += train_acc.item()\n",
    "        \n",
    "        \n",
    "    with torch.no_grad():\n",
    "        model.eval()\n",
    "        val_epoch_loss = 0\n",
    "        val_epoch_acc = 0\n",
    "        for X_val_batch, y_val_batch in val_loader:\n",
    "            X_val_batch, y_val_batch = X_val_batch.to(device), y_val_batch.to(device)\n",
    "            \n",
    "            y_val_pred = model(X_val_batch)\n",
    "                        \n",
    "            val_loss = criterion(y_val_pred, y_val_batch)\n",
    "#             val_acc = binary_acc(y_val_pred, y_val_batch)\n",
    "            \n",
    "            val_epoch_loss += train_loss.item()\n",
    "#             val_epoch_acc += train_acc.item()\n",
    "\n",
    "    \n",
    "        \n",
    "\n",
    "    print(f'Epoch {e+0:03}: | Train Loss: {train_epoch_loss/len(train_loader):.5f} | Val Loss: {val_epoch_loss/len(val_loader):.5f} ')\n",
    "#     | Train Acc: {train_epoch_acc/len(train_loader):.3f}| Val Acc: {val_epoch_acc/len(val_loader):.3f}"
   ]
  },
  {
   "cell_type": "markdown",
   "metadata": {},
   "source": [
    "### Test Model"
   ]
  },
  {
   "cell_type": "code",
   "execution_count": 59,
   "metadata": {},
   "outputs": [],
   "source": [
    "y_pred_list = []\n",
    "\n",
    "model.eval()\n",
    "with torch.no_grad():\n",
    "    for X_batch, _ in test_loader:\n",
    "        X_batch = X_batch.to(device)\n",
    "        y_test_pred = model(X_batch)\n",
    "        y_test_pred = torch.softmax(y_test_pred, dim=1)\n",
    "        _, y_pred_tag = torch.max(y_test_pred, dim = 1)\n",
    "        y_pred_list.append(y_pred_tag.cpu().numpy())"
   ]
  },
  {
   "cell_type": "code",
   "execution_count": 60,
   "metadata": {},
   "outputs": [],
   "source": [
    "y_pred_list = [a.squeeze().tolist() for a in y_pred_list]"
   ]
  },
  {
   "cell_type": "markdown",
   "metadata": {},
   "source": [
    "### Confusion Matrix"
   ]
  },
  {
   "cell_type": "code",
   "execution_count": 61,
   "metadata": {},
   "outputs": [
    {
     "data": {
      "text/plain": [
       "array([[18,  2],\n",
       "       [18, 24]])"
      ]
     },
     "execution_count": 61,
     "metadata": {},
     "output_type": "execute_result"
    }
   ],
   "source": [
    "confusion_matrix(y_test, y_pred_list)"
   ]
  },
  {
   "cell_type": "markdown",
   "metadata": {},
   "source": [
    "### Classification Report"
   ]
  },
  {
   "cell_type": "code",
   "execution_count": 62,
   "metadata": {},
   "outputs": [
    {
     "name": "stdout",
     "output_type": "stream",
     "text": [
      "              precision    recall  f1-score   support\n",
      "\n",
      "           0       0.50      0.90      0.64        20\n",
      "           1       0.92      0.57      0.71        42\n",
      "\n",
      "    accuracy                           0.68        62\n",
      "   macro avg       0.71      0.74      0.67        62\n",
      "weighted avg       0.79      0.68      0.69        62\n",
      "\n"
     ]
    }
   ],
   "source": [
    "print(classification_report(y_test, y_pred_list))"
   ]
  }
 ],
 "metadata": {
  "kernelspec": {
   "display_name": "Python 3",
   "language": "python",
   "name": "python3"
  },
  "language_info": {
   "codemirror_mode": {
    "name": "ipython",
    "version": 3
   },
   "file_extension": ".py",
   "mimetype": "text/x-python",
   "name": "python",
   "nbconvert_exporter": "python",
   "pygments_lexer": "ipython3",
   "version": "3.6.10"
  }
 },
 "nbformat": 4,
 "nbformat_minor": 4
}
