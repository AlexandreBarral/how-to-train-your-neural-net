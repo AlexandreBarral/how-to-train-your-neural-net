{
 "cells": [
  {
   "cell_type": "markdown",
   "metadata": {},
   "source": [
    "# Tabular - Binary Classification using DNNs\n",
    "\n",
    "By [Akshaj Verma](https://akshajverma.com/)\n",
    "\n",
    "This notebook takes you through the implementation of binary classification using feedforward networks on the [lower back pain symptoms dataset](https://www.kaggle.com/sammy123/lower-back-pain-symptoms-dataset) using PyTorch."
   ]
  },
  {
   "cell_type": "code",
   "execution_count": 1,
   "metadata": {},
   "outputs": [],
   "source": [
    "import numpy as np\n",
    "import pandas as pd\n",
    "import seaborn as sns\n",
    "from tqdm.notebook import tqdm\n",
    "import matplotlib.pyplot as plt\n",
    "\n",
    "import torch\n",
    "import torch.nn as nn\n",
    "import torch.optim as optim\n",
    "from torch.utils.data import Dataset, DataLoader, WeightedRandomSampler\n",
    "\n",
    "from sklearn.preprocessing import MinMaxScaler    \n",
    "from sklearn.model_selection import train_test_split\n",
    "from sklearn.metrics import confusion_matrix, classification_report"
   ]
  },
  {
   "cell_type": "code",
   "execution_count": 2,
   "metadata": {},
   "outputs": [],
   "source": [
    "torch.manual_seed(69)\n",
    "np.random.seed(21)"
   ]
  },
  {
   "cell_type": "code",
   "execution_count": 3,
   "metadata": {},
   "outputs": [
    {
     "name": "stdout",
     "output_type": "stream",
     "text": [
      "We're using cuda? True\n"
     ]
    }
   ],
   "source": [
    "%matplotlib inline\n",
    "sns.set_style('darkgrid')\n",
    "\n",
    "print(\"We're using cuda?\", torch.cuda.is_available())"
   ]
  },
  {
   "cell_type": "code",
   "execution_count": 4,
   "metadata": {},
   "outputs": [],
   "source": [
    "df = pd.read_csv(\"../../../data/tabular/classification/spine_dataset.csv\")"
   ]
  },
  {
   "cell_type": "markdown",
   "metadata": {},
   "source": [
    "## Pre-processing"
   ]
  },
  {
   "cell_type": "code",
   "execution_count": 5,
   "metadata": {},
   "outputs": [],
   "source": [
    "df = df.iloc[:, 0:-1]"
   ]
  },
  {
   "cell_type": "code",
   "execution_count": 6,
   "metadata": {},
   "outputs": [
    {
     "data": {
      "text/html": [
       "<div>\n",
       "<style scoped>\n",
       "    .dataframe tbody tr th:only-of-type {\n",
       "        vertical-align: middle;\n",
       "    }\n",
       "\n",
       "    .dataframe tbody tr th {\n",
       "        vertical-align: top;\n",
       "    }\n",
       "\n",
       "    .dataframe thead th {\n",
       "        text-align: right;\n",
       "    }\n",
       "</style>\n",
       "<table border=\"1\" class=\"dataframe\">\n",
       "  <thead>\n",
       "    <tr style=\"text-align: right;\">\n",
       "      <th></th>\n",
       "      <th>Col1</th>\n",
       "      <th>Col2</th>\n",
       "      <th>Col3</th>\n",
       "      <th>Col4</th>\n",
       "      <th>Col5</th>\n",
       "      <th>Col6</th>\n",
       "      <th>Col7</th>\n",
       "      <th>Col8</th>\n",
       "      <th>Col9</th>\n",
       "      <th>Col10</th>\n",
       "      <th>Col11</th>\n",
       "      <th>Col12</th>\n",
       "      <th>Class_att</th>\n",
       "    </tr>\n",
       "  </thead>\n",
       "  <tbody>\n",
       "    <tr>\n",
       "      <th>0</th>\n",
       "      <td>63.027818</td>\n",
       "      <td>22.552586</td>\n",
       "      <td>39.609117</td>\n",
       "      <td>40.475232</td>\n",
       "      <td>98.672917</td>\n",
       "      <td>-0.254400</td>\n",
       "      <td>0.744503</td>\n",
       "      <td>12.5661</td>\n",
       "      <td>14.5386</td>\n",
       "      <td>15.30468</td>\n",
       "      <td>-28.658501</td>\n",
       "      <td>43.5123</td>\n",
       "      <td>Abnormal</td>\n",
       "    </tr>\n",
       "    <tr>\n",
       "      <th>1</th>\n",
       "      <td>39.056951</td>\n",
       "      <td>10.060991</td>\n",
       "      <td>25.015378</td>\n",
       "      <td>28.995960</td>\n",
       "      <td>114.405425</td>\n",
       "      <td>4.564259</td>\n",
       "      <td>0.415186</td>\n",
       "      <td>12.8874</td>\n",
       "      <td>17.5323</td>\n",
       "      <td>16.78486</td>\n",
       "      <td>-25.530607</td>\n",
       "      <td>16.1102</td>\n",
       "      <td>Abnormal</td>\n",
       "    </tr>\n",
       "    <tr>\n",
       "      <th>2</th>\n",
       "      <td>68.832021</td>\n",
       "      <td>22.218482</td>\n",
       "      <td>50.092194</td>\n",
       "      <td>46.613539</td>\n",
       "      <td>105.985135</td>\n",
       "      <td>-3.530317</td>\n",
       "      <td>0.474889</td>\n",
       "      <td>26.8343</td>\n",
       "      <td>17.4861</td>\n",
       "      <td>16.65897</td>\n",
       "      <td>-29.031888</td>\n",
       "      <td>19.2221</td>\n",
       "      <td>Abnormal</td>\n",
       "    </tr>\n",
       "    <tr>\n",
       "      <th>3</th>\n",
       "      <td>69.297008</td>\n",
       "      <td>24.652878</td>\n",
       "      <td>44.311238</td>\n",
       "      <td>44.644130</td>\n",
       "      <td>101.868495</td>\n",
       "      <td>11.211523</td>\n",
       "      <td>0.369345</td>\n",
       "      <td>23.5603</td>\n",
       "      <td>12.7074</td>\n",
       "      <td>11.42447</td>\n",
       "      <td>-30.470246</td>\n",
       "      <td>18.8329</td>\n",
       "      <td>Abnormal</td>\n",
       "    </tr>\n",
       "    <tr>\n",
       "      <th>4</th>\n",
       "      <td>49.712859</td>\n",
       "      <td>9.652075</td>\n",
       "      <td>28.317406</td>\n",
       "      <td>40.060784</td>\n",
       "      <td>108.168725</td>\n",
       "      <td>7.918501</td>\n",
       "      <td>0.543360</td>\n",
       "      <td>35.4940</td>\n",
       "      <td>15.9546</td>\n",
       "      <td>8.87237</td>\n",
       "      <td>-16.378376</td>\n",
       "      <td>24.9171</td>\n",
       "      <td>Abnormal</td>\n",
       "    </tr>\n",
       "  </tbody>\n",
       "</table>\n",
       "</div>"
      ],
      "text/plain": [
       "        Col1       Col2       Col3       Col4        Col5       Col6  \\\n",
       "0  63.027818  22.552586  39.609117  40.475232   98.672917  -0.254400   \n",
       "1  39.056951  10.060991  25.015378  28.995960  114.405425   4.564259   \n",
       "2  68.832021  22.218482  50.092194  46.613539  105.985135  -3.530317   \n",
       "3  69.297008  24.652878  44.311238  44.644130  101.868495  11.211523   \n",
       "4  49.712859   9.652075  28.317406  40.060784  108.168725   7.918501   \n",
       "\n",
       "       Col7     Col8     Col9     Col10      Col11    Col12 Class_att  \n",
       "0  0.744503  12.5661  14.5386  15.30468 -28.658501  43.5123  Abnormal  \n",
       "1  0.415186  12.8874  17.5323  16.78486 -25.530607  16.1102  Abnormal  \n",
       "2  0.474889  26.8343  17.4861  16.65897 -29.031888  19.2221  Abnormal  \n",
       "3  0.369345  23.5603  12.7074  11.42447 -30.470246  18.8329  Abnormal  \n",
       "4  0.543360  35.4940  15.9546   8.87237 -16.378376  24.9171  Abnormal  "
      ]
     },
     "execution_count": 6,
     "metadata": {},
     "output_type": "execute_result"
    }
   ],
   "source": [
    "df.head()"
   ]
  },
  {
   "cell_type": "code",
   "execution_count": 7,
   "metadata": {},
   "outputs": [
    {
     "name": "stdout",
     "output_type": "stream",
     "text": [
      "Number of rows: 310\n"
     ]
    }
   ],
   "source": [
    "print(\"Number of rows:\", len(df))"
   ]
  },
  {
   "cell_type": "code",
   "execution_count": 8,
   "metadata": {},
   "outputs": [
    {
     "data": {
      "text/html": [
       "<div>\n",
       "<style scoped>\n",
       "    .dataframe tbody tr th:only-of-type {\n",
       "        vertical-align: middle;\n",
       "    }\n",
       "\n",
       "    .dataframe tbody tr th {\n",
       "        vertical-align: top;\n",
       "    }\n",
       "\n",
       "    .dataframe thead th {\n",
       "        text-align: right;\n",
       "    }\n",
       "</style>\n",
       "<table border=\"1\" class=\"dataframe\">\n",
       "  <thead>\n",
       "    <tr style=\"text-align: right;\">\n",
       "      <th></th>\n",
       "      <th>Col1</th>\n",
       "      <th>Col2</th>\n",
       "      <th>Col3</th>\n",
       "      <th>Col4</th>\n",
       "      <th>Col5</th>\n",
       "      <th>Col6</th>\n",
       "      <th>Col7</th>\n",
       "      <th>Col8</th>\n",
       "      <th>Col9</th>\n",
       "      <th>Col10</th>\n",
       "      <th>Col11</th>\n",
       "      <th>Col12</th>\n",
       "    </tr>\n",
       "  </thead>\n",
       "  <tbody>\n",
       "    <tr>\n",
       "      <th>count</th>\n",
       "      <td>310.000000</td>\n",
       "      <td>310.000000</td>\n",
       "      <td>310.000000</td>\n",
       "      <td>310.000000</td>\n",
       "      <td>310.000000</td>\n",
       "      <td>310.000000</td>\n",
       "      <td>310.000000</td>\n",
       "      <td>310.000000</td>\n",
       "      <td>310.000000</td>\n",
       "      <td>310.000000</td>\n",
       "      <td>310.000000</td>\n",
       "      <td>310.000000</td>\n",
       "    </tr>\n",
       "    <tr>\n",
       "      <th>mean</th>\n",
       "      <td>60.496653</td>\n",
       "      <td>17.542822</td>\n",
       "      <td>51.930930</td>\n",
       "      <td>42.953831</td>\n",
       "      <td>117.920655</td>\n",
       "      <td>26.296694</td>\n",
       "      <td>0.472979</td>\n",
       "      <td>21.321526</td>\n",
       "      <td>13.064511</td>\n",
       "      <td>11.933317</td>\n",
       "      <td>-14.053139</td>\n",
       "      <td>25.645981</td>\n",
       "    </tr>\n",
       "    <tr>\n",
       "      <th>std</th>\n",
       "      <td>17.236520</td>\n",
       "      <td>10.008330</td>\n",
       "      <td>18.554064</td>\n",
       "      <td>13.423102</td>\n",
       "      <td>13.317377</td>\n",
       "      <td>37.559027</td>\n",
       "      <td>0.285787</td>\n",
       "      <td>8.639423</td>\n",
       "      <td>3.399713</td>\n",
       "      <td>2.893265</td>\n",
       "      <td>12.225582</td>\n",
       "      <td>10.450558</td>\n",
       "    </tr>\n",
       "    <tr>\n",
       "      <th>min</th>\n",
       "      <td>26.147921</td>\n",
       "      <td>-6.554948</td>\n",
       "      <td>14.000000</td>\n",
       "      <td>13.366931</td>\n",
       "      <td>70.082575</td>\n",
       "      <td>-11.058179</td>\n",
       "      <td>0.003220</td>\n",
       "      <td>7.027000</td>\n",
       "      <td>7.037800</td>\n",
       "      <td>7.030600</td>\n",
       "      <td>-35.287375</td>\n",
       "      <td>7.007900</td>\n",
       "    </tr>\n",
       "    <tr>\n",
       "      <th>25%</th>\n",
       "      <td>46.430294</td>\n",
       "      <td>10.667069</td>\n",
       "      <td>37.000000</td>\n",
       "      <td>33.347122</td>\n",
       "      <td>110.709196</td>\n",
       "      <td>1.603727</td>\n",
       "      <td>0.224367</td>\n",
       "      <td>13.054400</td>\n",
       "      <td>10.417800</td>\n",
       "      <td>9.541140</td>\n",
       "      <td>-24.289522</td>\n",
       "      <td>17.189075</td>\n",
       "    </tr>\n",
       "    <tr>\n",
       "      <th>50%</th>\n",
       "      <td>58.691038</td>\n",
       "      <td>16.357689</td>\n",
       "      <td>49.562398</td>\n",
       "      <td>42.404912</td>\n",
       "      <td>118.268178</td>\n",
       "      <td>11.767934</td>\n",
       "      <td>0.475989</td>\n",
       "      <td>21.907150</td>\n",
       "      <td>12.938450</td>\n",
       "      <td>11.953835</td>\n",
       "      <td>-14.622856</td>\n",
       "      <td>24.931950</td>\n",
       "    </tr>\n",
       "    <tr>\n",
       "      <th>75%</th>\n",
       "      <td>72.877696</td>\n",
       "      <td>22.120395</td>\n",
       "      <td>63.000000</td>\n",
       "      <td>52.695888</td>\n",
       "      <td>125.467674</td>\n",
       "      <td>41.287352</td>\n",
       "      <td>0.704846</td>\n",
       "      <td>28.954075</td>\n",
       "      <td>15.889525</td>\n",
       "      <td>14.371810</td>\n",
       "      <td>-3.497094</td>\n",
       "      <td>33.979600</td>\n",
       "    </tr>\n",
       "    <tr>\n",
       "      <th>max</th>\n",
       "      <td>129.834041</td>\n",
       "      <td>49.431864</td>\n",
       "      <td>125.742385</td>\n",
       "      <td>121.429566</td>\n",
       "      <td>163.071041</td>\n",
       "      <td>418.543082</td>\n",
       "      <td>0.998827</td>\n",
       "      <td>36.743900</td>\n",
       "      <td>19.324000</td>\n",
       "      <td>16.821080</td>\n",
       "      <td>6.972071</td>\n",
       "      <td>44.341200</td>\n",
       "    </tr>\n",
       "  </tbody>\n",
       "</table>\n",
       "</div>"
      ],
      "text/plain": [
       "             Col1        Col2        Col3        Col4        Col5        Col6  \\\n",
       "count  310.000000  310.000000  310.000000  310.000000  310.000000  310.000000   \n",
       "mean    60.496653   17.542822   51.930930   42.953831  117.920655   26.296694   \n",
       "std     17.236520   10.008330   18.554064   13.423102   13.317377   37.559027   \n",
       "min     26.147921   -6.554948   14.000000   13.366931   70.082575  -11.058179   \n",
       "25%     46.430294   10.667069   37.000000   33.347122  110.709196    1.603727   \n",
       "50%     58.691038   16.357689   49.562398   42.404912  118.268178   11.767934   \n",
       "75%     72.877696   22.120395   63.000000   52.695888  125.467674   41.287352   \n",
       "max    129.834041   49.431864  125.742385  121.429566  163.071041  418.543082   \n",
       "\n",
       "             Col7        Col8        Col9       Col10       Col11       Col12  \n",
       "count  310.000000  310.000000  310.000000  310.000000  310.000000  310.000000  \n",
       "mean     0.472979   21.321526   13.064511   11.933317  -14.053139   25.645981  \n",
       "std      0.285787    8.639423    3.399713    2.893265   12.225582   10.450558  \n",
       "min      0.003220    7.027000    7.037800    7.030600  -35.287375    7.007900  \n",
       "25%      0.224367   13.054400   10.417800    9.541140  -24.289522   17.189075  \n",
       "50%      0.475989   21.907150   12.938450   11.953835  -14.622856   24.931950  \n",
       "75%      0.704846   28.954075   15.889525   14.371810   -3.497094   33.979600  \n",
       "max      0.998827   36.743900   19.324000   16.821080    6.972071   44.341200  "
      ]
     },
     "execution_count": 8,
     "metadata": {},
     "output_type": "execute_result"
    }
   ],
   "source": [
    "df.describe()"
   ]
  },
  {
   "cell_type": "markdown",
   "metadata": {},
   "source": [
    "We observe that there's a class imbalance here. So, we need to perform stratified splitting here. "
   ]
  },
  {
   "cell_type": "code",
   "execution_count": 9,
   "metadata": {},
   "outputs": [
    {
     "data": {
      "text/plain": [
       "<matplotlib.axes._subplots.AxesSubplot at 0x7f7eb6621d68>"
      ]
     },
     "execution_count": 9,
     "metadata": {},
     "output_type": "execute_result"
    },
    {
     "data": {
      "image/png": "[encoded data removed]",
      "text/plain": [
       "<Figure size 432x288 with 1 Axes>"
      ]
     },
     "metadata": {},
     "output_type": "display_data"
    }
   ],
   "source": [
    "sns.countplot(x = 'Class_att', data=df)"
   ]
  },
  {
   "cell_type": "code",
   "execution_count": 10,
   "metadata": {},
   "outputs": [],
   "source": [
    "df['Class_att'] = df['Class_att'].astype('category')"
   ]
  },
  {
   "cell_type": "code",
   "execution_count": 11,
   "metadata": {},
   "outputs": [],
   "source": [
    "class2idx = {\n",
    "    'Abnormal': 1,\n",
    "    'Normal': 0\n",
    "}\n",
    "\n",
    "idx2class = {v: k for k, v in class2idx.items()}\n",
    "\n",
    "df['Class_att'].replace(class2idx, inplace=True)"
   ]
  },
  {
   "cell_type": "code",
   "execution_count": 12,
   "metadata": {},
   "outputs": [],
   "source": [
    "X = df.iloc[:, 0:-1]\n",
    "y = df.iloc[:, -1]"
   ]
  },
  {
   "cell_type": "markdown",
   "metadata": {},
   "source": [
    "## Train - Validation - Test"
   ]
  },
  {
   "cell_type": "code",
   "execution_count": 13,
   "metadata": {},
   "outputs": [],
   "source": [
    "# Train - Test\n",
    "X_trainval, X_test, y_trainval, y_test = train_test_split(X, y, test_size=0.2, stratify=y, random_state=69)\n",
    "\n",
    "# Split train into train-val\n",
    "X_train, X_val, y_train, y_val = train_test_split(X_trainval, y_trainval, test_size=0.1, stratify=y_trainval, random_state=21)"
   ]
  },
  {
   "cell_type": "code",
   "execution_count": 14,
   "metadata": {},
   "outputs": [],
   "source": [
    "scaler = MinMaxScaler()\n",
    "X_train = scaler.fit_transform(X_train)\n",
    "X_val = scaler.transform(X_val)\n",
    "X_test = scaler.transform(X_test)"
   ]
  },
  {
   "cell_type": "code",
   "execution_count": 15,
   "metadata": {},
   "outputs": [],
   "source": [
    "X_train, y_train = np.array(X_train), np.array(y_train)\n",
    "X_val, y_val = np.array(X_val), np.array(y_val)\n",
    "X_test, y_test = np.array(X_test), np.array(y_test)"
   ]
  },
  {
   "cell_type": "code",
   "execution_count": 16,
   "metadata": {},
   "outputs": [],
   "source": [
    "def get_class_distribution(obj):\n",
    "    count_dict = {\n",
    "        \"normal\": 0,\n",
    "        \"abnormal\": 0\n",
    "    }\n",
    "    \n",
    "    for i in obj:\n",
    "        if i == 0: \n",
    "            count_dict['normal'] += 1\n",
    "        elif i == 1: \n",
    "            count_dict['abnormal'] += 1\n",
    "        else:\n",
    "            print(\"Check classes.\")\n",
    "            \n",
    "    return count_dict "
   ]
  },
  {
   "cell_type": "code",
   "execution_count": 17,
   "metadata": {},
   "outputs": [
    {
     "name": "stdout",
     "output_type": "stream",
     "text": [
      "Train: {'normal': 72, 'abnormal': 151}\n",
      "Test : {'normal': 20, 'abnormal': 42}\n",
      "Val  : {'normal': 8, 'abnormal': 17}\n"
     ]
    }
   ],
   "source": [
    "print(\"Train:\", get_class_distribution(y_train))\n",
    "print(\"Test :\", get_class_distribution(y_test))\n",
    "print(\"Val  :\", get_class_distribution(y_val))"
   ]
  },
  {
   "cell_type": "code",
   "execution_count": 18,
   "metadata": {},
   "outputs": [
    {
     "data": {
      "text/plain": [
       "Text(0.5, 1.0, 'Class Distribution in Test Set')"
      ]
     },
     "execution_count": 18,
     "metadata": {},
     "output_type": "execute_result"
    },
    {
     "data": {
      "image/png": "[encoded data removed]",
      "text/plain": [
       "<Figure size 1800x504 with 3 Axes>"
      ]
     },
     "metadata": {},
     "output_type": "display_data"
    }
   ],
   "source": [
    "fig, axes = plt.subplots(nrows=1, ncols=3, figsize=(25,7))\n",
    "sns.barplot(data = pd.DataFrame.from_dict([get_class_distribution(y_train)]).melt(), x = \"variable\", y=\"value\", hue=\"variable\",  ax=axes[0]).set_title('Class Distribution in Train Set')\n",
    "sns.barplot(data = pd.DataFrame.from_dict([get_class_distribution(y_val)]).melt(), x = \"variable\", y=\"value\", hue=\"variable\",  ax=axes[1]).set_title('Class Distribution in Val Set')\n",
    "sns.barplot(data = pd.DataFrame.from_dict([get_class_distribution(y_test)]).melt(), x = \"variable\", y=\"value\", hue=\"variable\",  ax=axes[2]).set_title('Class Distribution in Test Set')\n"
   ]
  },
  {
   "cell_type": "markdown",
   "metadata": {},
   "source": [
    "## Neural Net"
   ]
  },
  {
   "cell_type": "markdown",
   "metadata": {},
   "source": [
    "### Define Custom Dataset"
   ]
  },
  {
   "cell_type": "code",
   "execution_count": 19,
   "metadata": {},
   "outputs": [],
   "source": [
    "class ClassifierDataset(Dataset):\n",
    "    \n",
    "    def __init__(self, X_data, y_data):\n",
    "        self.X_data = X_data\n",
    "        self.y_data = y_data\n",
    "        \n",
    "    def __getitem__(self, index):\n",
    "        return self.X_data[index], self.y_data[index]\n",
    "        \n",
    "    def __len__ (self):\n",
    "        return len(self.X_data)\n",
    "\n",
    "\n",
    "train_dataset = ClassifierDataset(torch.from_numpy(X_train).float(), torch.from_numpy(y_train).long())\n",
    "val_dataset = ClassifierDataset(torch.from_numpy(X_val).float(), torch.from_numpy(y_val).long())\n",
    "test_dataset = ClassifierDataset(torch.from_numpy(X_test).float(), torch.from_numpy(y_test).long())"
   ]
  },
  {
   "cell_type": "markdown",
   "metadata": {},
   "source": [
    "### Weighted Sampling"
   ]
  },
  {
   "cell_type": "code",
   "execution_count": 20,
   "metadata": {},
   "outputs": [],
   "source": [
    "target_list = []\n",
    "\n",
    "for _, t in train_dataset:\n",
    "    target_list.append(t)\n",
    "    \n",
    "target_list = torch.tensor(target_list)\n",
    "target_list = target_list[torch.randperm(len(target_list))]"
   ]
  },
  {
   "cell_type": "code",
   "execution_count": 21,
   "metadata": {},
   "outputs": [
    {
     "data": {
      "text/plain": [
       "tensor([0.0139, 0.0066])"
      ]
     },
     "execution_count": 21,
     "metadata": {},
     "output_type": "execute_result"
    }
   ],
   "source": [
    "class_count = [i for i in get_class_distribution(y_train).values()]\n",
    "class_weights = 1./torch.tensor(class_count, dtype=torch.float) \n",
    "class_weights"
   ]
  },
  {
   "cell_type": "code",
   "execution_count": 22,
   "metadata": {},
   "outputs": [],
   "source": [
    "class_weights_all = class_weights[target_list]"
   ]
  },
  {
   "cell_type": "code",
   "execution_count": 23,
   "metadata": {},
   "outputs": [],
   "source": [
    "weighted_sampler = WeightedRandomSampler(\n",
    "    weights=class_weights_all,\n",
    "    num_samples=len(class_weights_all),\n",
    "    replacement=True\n",
    ")"
   ]
  },
  {
   "cell_type": "markdown",
   "metadata": {},
   "source": [
    "### Model Params"
   ]
  },
  {
   "cell_type": "code",
   "execution_count": 24,
   "metadata": {},
   "outputs": [],
   "source": [
    "EPOCHS = 300\n",
    "BATCH_SIZE = 64\n",
    "LEARNING_RATE = 0.001"
   ]
  },
  {
   "cell_type": "markdown",
   "metadata": {},
   "source": [
    "### Define Dataloader"
   ]
  },
  {
   "cell_type": "code",
   "execution_count": 25,
   "metadata": {},
   "outputs": [],
   "source": [
    "train_loader = DataLoader(dataset=train_dataset, batch_size=BATCH_SIZE, sampler=weighted_sampler)\n",
    "val_loader = DataLoader(dataset=val_dataset, batch_size=1)\n",
    "test_loader = DataLoader(dataset=test_dataset, batch_size=1)"
   ]
  },
  {
   "cell_type": "markdown",
   "metadata": {},
   "source": [
    "### Define Neural Net Architecture"
   ]
  },
  {
   "cell_type": "code",
   "execution_count": 26,
   "metadata": {},
   "outputs": [],
   "source": [
    "class BinaryClassification(nn.Module):\n",
    "    def __init__(self):\n",
    "        super(BinaryClassification, self).__init__()\n",
    "        \n",
    "        self.layer_1 = nn.Linear(12, 32) # Number of input features is 12.\n",
    "        self.layer_out = nn.Linear(32, 2) \n",
    "        \n",
    "        self.lrelu = nn.LeakyReLU()\n",
    "        self.dropout = nn.Dropout(p=0.1)\n",
    "        self.batchnorm = nn.BatchNorm1d(32)\n",
    "        \n",
    "    def forward(self, x):\n",
    "        x = self.layer_1(x)\n",
    "        x = self.batchnorm(x)\n",
    "        x = self.lrelu(x)\n",
    "        x = self.layer_out(x)\n",
    "        \n",
    "        return x"
   ]
  },
  {
   "cell_type": "code",
   "execution_count": 27,
   "metadata": {},
   "outputs": [
    {
     "name": "stdout",
     "output_type": "stream",
     "text": [
      "cuda:0\n"
     ]
    }
   ],
   "source": [
    "device = torch.device(\"cuda:0\" if torch.cuda.is_available() else \"cpu\")\n",
    "print(device)"
   ]
  },
  {
   "cell_type": "code",
   "execution_count": 28,
   "metadata": {},
   "outputs": [
    {
     "name": "stdout",
     "output_type": "stream",
     "text": [
      "BinaryClassification(\n",
      "  (layer_1): Linear(in_features=12, out_features=32, bias=True)\n",
      "  (layer_out): Linear(in_features=32, out_features=2, bias=True)\n",
      "  (lrelu): LeakyReLU(negative_slope=0.01)\n",
      "  (dropout): Dropout(p=0.1, inplace=False)\n",
      "  (batchnorm): BatchNorm1d(32, eps=1e-05, momentum=0.1, affine=True, track_running_stats=True)\n",
      ")\n"
     ]
    }
   ],
   "source": [
    "model = BinaryClassification()\n",
    "model.to(device)\n",
    "\n",
    "print(model)\n",
    "\n",
    "criterion = nn.CrossEntropyLoss()\n",
    "optimizer = optim.Adam(model.parameters(), lr=LEARNING_RATE)"
   ]
  },
  {
   "cell_type": "markdown",
   "metadata": {},
   "source": [
    "### Train Model"
   ]
  },
  {
   "cell_type": "code",
   "execution_count": 29,
   "metadata": {},
   "outputs": [],
   "source": [
    "def binary_acc(y_pred, y_test):\n",
    "    y_pred_tag = torch.log_softmax(y_pred, dim = 1)\n",
    "    _, y_pred_tags = torch.max(y_pred_tag, dim = 1)\n",
    "    \n",
    "    correct_results_sum = (y_pred_tags == y_test).sum().float()\n",
    "    \n",
    "    acc = correct_results_sum/y_test.shape[0]\n",
    "    acc = torch.round(acc * 100)\n",
    "    \n",
    "    return acc"
   ]
  },
  {
   "cell_type": "code",
   "execution_count": 30,
   "metadata": {},
   "outputs": [],
   "source": [
    "accuracy_stats = {\n",
    "    'train': [],\n",
    "    \"val\": []\n",
    "}\n",
    "\n",
    "loss_stats = {\n",
    "    'train': [],\n",
    "    \"val\": []\n",
    "}"
   ]
  },
  {
   "cell_type": "code",
   "execution_count": 31,
   "metadata": {},
   "outputs": [
    {
     "name": "stdout",
     "output_type": "stream",
     "text": [
      "Begin training.\n"
     ]
    },
    {
     "data": {
      "application/vnd.jupyter.widget-view+json": {
       "model_id": "5db956573eea453bac8af7841a9a5f12",
       "version_major": 2,
       "version_minor": 0
      },
      "text/plain": [
       "HBox(children=(FloatProgress(value=0.0, max=300.0), HTML(value='')))"
      ]
     },
     "metadata": {},
     "output_type": "display_data"
    },
    {
     "name": "stdout",
     "output_type": "stream",
     "text": [
      "Epoch 001: | Train Loss: 0.87451 | Val Loss: 0.71415 | Train Acc: 32.000| Val Acc: 36.000\n",
      "Epoch 002: | Train Loss: 0.83757 | Val Loss: 0.70639 | Train Acc: 31.000| Val Acc: 40.000\n",
      "Epoch 003: | Train Loss: 0.79367 | Val Loss: 0.69928 | Train Acc: 30.750| Val Acc: 40.000\n",
      "Epoch 004: | Train Loss: 0.73270 | Val Loss: 0.68969 | Train Acc: 45.500| Val Acc: 56.000\n",
      "Epoch 005: | Train Loss: 0.73065 | Val Loss: 0.67953 | Train Acc: 46.250| Val Acc: 64.000\n",
      "Epoch 006: | Train Loss: 0.70324 | Val Loss: 0.66675 | Train Acc: 51.500| Val Acc: 60.000\n",
      "Epoch 007: | Train Loss: 0.68676 | Val Loss: 0.65144 | Train Acc: 56.000| Val Acc: 68.000\n",
      "Epoch 008: | Train Loss: 0.64898 | Val Loss: 0.63369 | Train Acc: 67.750| Val Acc: 72.000\n",
      "Epoch 009: | Train Loss: 0.62982 | Val Loss: 0.61743 | Train Acc: 69.500| Val Acc: 72.000\n",
      "Epoch 010: | Train Loss: 0.59470 | Val Loss: 0.60216 | Train Acc: 72.000| Val Acc: 72.000\n",
      "Epoch 011: | Train Loss: 0.57850 | Val Loss: 0.58876 | Train Acc: 70.500| Val Acc: 72.000\n",
      "Epoch 012: | Train Loss: 0.61185 | Val Loss: 0.57823 | Train Acc: 68.500| Val Acc: 72.000\n",
      "Epoch 013: | Train Loss: 0.59117 | Val Loss: 0.57232 | Train Acc: 67.750| Val Acc: 72.000\n",
      "Epoch 014: | Train Loss: 0.55675 | Val Loss: 0.56470 | Train Acc: 72.000| Val Acc: 72.000\n",
      "Epoch 015: | Train Loss: 0.52024 | Val Loss: 0.55809 | Train Acc: 75.000| Val Acc: 72.000\n",
      "Epoch 016: | Train Loss: 0.57580 | Val Loss: 0.54974 | Train Acc: 69.250| Val Acc: 72.000\n",
      "Epoch 017: | Train Loss: 0.54246 | Val Loss: 0.54054 | Train Acc: 69.500| Val Acc: 72.000\n",
      "Epoch 018: | Train Loss: 0.55854 | Val Loss: 0.53341 | Train Acc: 67.500| Val Acc: 72.000\n",
      "Epoch 019: | Train Loss: 0.50162 | Val Loss: 0.52805 | Train Acc: 76.500| Val Acc: 72.000\n",
      "Epoch 020: | Train Loss: 0.52405 | Val Loss: 0.52357 | Train Acc: 72.000| Val Acc: 76.000\n",
      "Epoch 021: | Train Loss: 0.48798 | Val Loss: 0.51928 | Train Acc: 74.250| Val Acc: 76.000\n",
      "Epoch 022: | Train Loss: 0.49986 | Val Loss: 0.51667 | Train Acc: 71.750| Val Acc: 80.000\n",
      "Epoch 023: | Train Loss: 0.51388 | Val Loss: 0.50982 | Train Acc: 73.750| Val Acc: 80.000\n",
      "Epoch 024: | Train Loss: 0.48122 | Val Loss: 0.50304 | Train Acc: 77.000| Val Acc: 80.000\n",
      "Epoch 025: | Train Loss: 0.47457 | Val Loss: 0.49684 | Train Acc: 80.250| Val Acc: 80.000\n",
      "Epoch 026: | Train Loss: 0.50162 | Val Loss: 0.49516 | Train Acc: 72.500| Val Acc: 80.000\n",
      "Epoch 027: | Train Loss: 0.48572 | Val Loss: 0.49287 | Train Acc: 75.250| Val Acc: 80.000\n",
      "Epoch 028: | Train Loss: 0.49042 | Val Loss: 0.48933 | Train Acc: 76.000| Val Acc: 80.000\n",
      "Epoch 029: | Train Loss: 0.48379 | Val Loss: 0.48792 | Train Acc: 74.500| Val Acc: 80.000\n",
      "Epoch 030: | Train Loss: 0.41489 | Val Loss: 0.48468 | Train Acc: 83.250| Val Acc: 84.000\n",
      "Epoch 031: | Train Loss: 0.47367 | Val Loss: 0.47877 | Train Acc: 77.750| Val Acc: 84.000\n",
      "Epoch 032: | Train Loss: 0.44180 | Val Loss: 0.47320 | Train Acc: 80.250| Val Acc: 84.000\n",
      "Epoch 033: | Train Loss: 0.47329 | Val Loss: 0.46821 | Train Acc: 77.000| Val Acc: 84.000\n",
      "Epoch 034: | Train Loss: 0.42549 | Val Loss: 0.46437 | Train Acc: 82.750| Val Acc: 80.000\n",
      "Epoch 035: | Train Loss: 0.46363 | Val Loss: 0.46409 | Train Acc: 76.000| Val Acc: 80.000\n",
      "Epoch 036: | Train Loss: 0.46926 | Val Loss: 0.46332 | Train Acc: 77.750| Val Acc: 84.000\n",
      "Epoch 037: | Train Loss: 0.44449 | Val Loss: 0.45947 | Train Acc: 83.750| Val Acc: 84.000\n",
      "Epoch 038: | Train Loss: 0.43367 | Val Loss: 0.45725 | Train Acc: 80.000| Val Acc: 80.000\n",
      "Epoch 039: | Train Loss: 0.44222 | Val Loss: 0.45525 | Train Acc: 75.250| Val Acc: 84.000\n",
      "Epoch 040: | Train Loss: 0.42709 | Val Loss: 0.45206 | Train Acc: 80.500| Val Acc: 84.000\n",
      "Epoch 041: | Train Loss: 0.42994 | Val Loss: 0.44957 | Train Acc: 81.000| Val Acc: 84.000\n",
      "Epoch 042: | Train Loss: 0.44218 | Val Loss: 0.44686 | Train Acc: 79.250| Val Acc: 84.000\n",
      "Epoch 043: | Train Loss: 0.41332 | Val Loss: 0.43907 | Train Acc: 80.500| Val Acc: 84.000\n",
      "Epoch 044: | Train Loss: 0.39156 | Val Loss: 0.43165 | Train Acc: 83.500| Val Acc: 84.000\n",
      "Epoch 045: | Train Loss: 0.42620 | Val Loss: 0.42532 | Train Acc: 78.000| Val Acc: 84.000\n",
      "Epoch 046: | Train Loss: 0.39730 | Val Loss: 0.41782 | Train Acc: 82.500| Val Acc: 84.000\n",
      "Epoch 047: | Train Loss: 0.39601 | Val Loss: 0.41369 | Train Acc: 84.500| Val Acc: 84.000\n",
      "Epoch 048: | Train Loss: 0.46863 | Val Loss: 0.41285 | Train Acc: 77.750| Val Acc: 84.000\n",
      "Epoch 049: | Train Loss: 0.43472 | Val Loss: 0.40631 | Train Acc: 80.500| Val Acc: 84.000\n",
      "Epoch 050: | Train Loss: 0.39686 | Val Loss: 0.40091 | Train Acc: 80.750| Val Acc: 84.000\n",
      "Epoch 051: | Train Loss: 0.38157 | Val Loss: 0.39368 | Train Acc: 84.250| Val Acc: 84.000\n",
      "Epoch 052: | Train Loss: 0.38179 | Val Loss: 0.38664 | Train Acc: 86.750| Val Acc: 84.000\n",
      "Epoch 053: | Train Loss: 0.37091 | Val Loss: 0.38421 | Train Acc: 84.750| Val Acc: 84.000\n",
      "Epoch 054: | Train Loss: 0.39440 | Val Loss: 0.37918 | Train Acc: 83.000| Val Acc: 88.000\n",
      "Epoch 055: | Train Loss: 0.34677 | Val Loss: 0.37517 | Train Acc: 90.000| Val Acc: 88.000\n",
      "Epoch 056: | Train Loss: 0.39840 | Val Loss: 0.37077 | Train Acc: 79.000| Val Acc: 84.000\n",
      "Epoch 057: | Train Loss: 0.38068 | Val Loss: 0.36801 | Train Acc: 84.250| Val Acc: 88.000\n",
      "Epoch 058: | Train Loss: 0.35849 | Val Loss: 0.36352 | Train Acc: 85.500| Val Acc: 88.000\n",
      "Epoch 059: | Train Loss: 0.34349 | Val Loss: 0.35865 | Train Acc: 85.750| Val Acc: 88.000\n",
      "Epoch 060: | Train Loss: 0.35024 | Val Loss: 0.35719 | Train Acc: 81.500| Val Acc: 88.000\n",
      "Epoch 061: | Train Loss: 0.34549 | Val Loss: 0.35526 | Train Acc: 86.250| Val Acc: 88.000\n",
      "Epoch 062: | Train Loss: 0.35687 | Val Loss: 0.35017 | Train Acc: 84.250| Val Acc: 88.000\n",
      "Epoch 063: | Train Loss: 0.35575 | Val Loss: 0.34961 | Train Acc: 84.500| Val Acc: 88.000\n",
      "Epoch 064: | Train Loss: 0.31396 | Val Loss: 0.34184 | Train Acc: 89.000| Val Acc: 88.000\n",
      "Epoch 065: | Train Loss: 0.33882 | Val Loss: 0.34098 | Train Acc: 85.750| Val Acc: 88.000\n",
      "Epoch 066: | Train Loss: 0.40066 | Val Loss: 0.33896 | Train Acc: 82.000| Val Acc: 88.000\n",
      "Epoch 067: | Train Loss: 0.35449 | Val Loss: 0.33241 | Train Acc: 85.250| Val Acc: 88.000\n",
      "Epoch 068: | Train Loss: 0.32574 | Val Loss: 0.33152 | Train Acc: 86.000| Val Acc: 88.000\n",
      "Epoch 069: | Train Loss: 0.31640 | Val Loss: 0.32009 | Train Acc: 86.250| Val Acc: 88.000\n",
      "Epoch 070: | Train Loss: 0.33797 | Val Loss: 0.31821 | Train Acc: 84.250| Val Acc: 88.000\n",
      "Epoch 071: | Train Loss: 0.29695 | Val Loss: 0.31621 | Train Acc: 87.500| Val Acc: 88.000\n",
      "Epoch 072: | Train Loss: 0.32869 | Val Loss: 0.31658 | Train Acc: 85.500| Val Acc: 88.000\n",
      "Epoch 073: | Train Loss: 0.32377 | Val Loss: 0.32285 | Train Acc: 84.250| Val Acc: 88.000\n",
      "Epoch 074: | Train Loss: 0.30655 | Val Loss: 0.32344 | Train Acc: 85.250| Val Acc: 88.000\n",
      "Epoch 075: | Train Loss: 0.33600 | Val Loss: 0.32148 | Train Acc: 82.750| Val Acc: 88.000\n",
      "Epoch 076: | Train Loss: 0.33334 | Val Loss: 0.31923 | Train Acc: 87.750| Val Acc: 84.000\n",
      "Epoch 077: | Train Loss: 0.31956 | Val Loss: 0.31914 | Train Acc: 86.250| Val Acc: 84.000\n",
      "Epoch 078: | Train Loss: 0.32933 | Val Loss: 0.32105 | Train Acc: 86.750| Val Acc: 84.000\n",
      "Epoch 079: | Train Loss: 0.32428 | Val Loss: 0.31487 | Train Acc: 86.250| Val Acc: 84.000\n",
      "Epoch 080: | Train Loss: 0.36406 | Val Loss: 0.31729 | Train Acc: 82.750| Val Acc: 84.000\n",
      "Epoch 081: | Train Loss: 0.30461 | Val Loss: 0.32203 | Train Acc: 86.500| Val Acc: 84.000\n",
      "Epoch 082: | Train Loss: 0.30003 | Val Loss: 0.31801 | Train Acc: 85.500| Val Acc: 84.000\n",
      "Epoch 083: | Train Loss: 0.30138 | Val Loss: 0.31183 | Train Acc: 86.250| Val Acc: 84.000\n",
      "Epoch 084: | Train Loss: 0.27944 | Val Loss: 0.29799 | Train Acc: 91.000| Val Acc: 80.000\n",
      "Epoch 085: | Train Loss: 0.30773 | Val Loss: 0.29639 | Train Acc: 87.250| Val Acc: 80.000\n",
      "Epoch 086: | Train Loss: 0.25870 | Val Loss: 0.28686 | Train Acc: 91.000| Val Acc: 80.000\n",
      "Epoch 087: | Train Loss: 0.27169 | Val Loss: 0.28140 | Train Acc: 89.500| Val Acc: 80.000\n",
      "Epoch 088: | Train Loss: 0.30891 | Val Loss: 0.27788 | Train Acc: 89.000| Val Acc: 80.000\n",
      "Epoch 089: | Train Loss: 0.30267 | Val Loss: 0.26866 | Train Acc: 85.750| Val Acc: 80.000\n",
      "Epoch 090: | Train Loss: 0.29956 | Val Loss: 0.26507 | Train Acc: 84.500| Val Acc: 80.000\n",
      "Epoch 091: | Train Loss: 0.26637 | Val Loss: 0.25860 | Train Acc: 90.750| Val Acc: 80.000\n",
      "Epoch 092: | Train Loss: 0.28764 | Val Loss: 0.25493 | Train Acc: 88.500| Val Acc: 88.000\n",
      "Epoch 093: | Train Loss: 0.26437 | Val Loss: 0.25580 | Train Acc: 90.000| Val Acc: 80.000\n",
      "Epoch 094: | Train Loss: 0.31505 | Val Loss: 0.25914 | Train Acc: 83.000| Val Acc: 84.000\n",
      "Epoch 095: | Train Loss: 0.24911 | Val Loss: 0.25787 | Train Acc: 87.500| Val Acc: 84.000\n",
      "Epoch 096: | Train Loss: 0.26529 | Val Loss: 0.25654 | Train Acc: 88.250| Val Acc: 84.000\n",
      "Epoch 097: | Train Loss: 0.25826 | Val Loss: 0.25674 | Train Acc: 89.500| Val Acc: 84.000\n",
      "Epoch 098: | Train Loss: 0.26321 | Val Loss: 0.25849 | Train Acc: 87.000| Val Acc: 84.000\n",
      "Epoch 099: | Train Loss: 0.27579 | Val Loss: 0.26869 | Train Acc: 88.750| Val Acc: 84.000\n",
      "Epoch 100: | Train Loss: 0.28633 | Val Loss: 0.27960 | Train Acc: 88.500| Val Acc: 84.000\n",
      "Epoch 101: | Train Loss: 0.24255 | Val Loss: 0.27473 | Train Acc: 89.500| Val Acc: 84.000\n",
      "Epoch 102: | Train Loss: 0.26590 | Val Loss: 0.28691 | Train Acc: 87.250| Val Acc: 84.000\n",
      "Epoch 103: | Train Loss: 0.24552 | Val Loss: 0.28517 | Train Acc: 92.250| Val Acc: 84.000\n",
      "Epoch 104: | Train Loss: 0.27411 | Val Loss: 0.28690 | Train Acc: 85.750| Val Acc: 84.000\n",
      "Epoch 105: | Train Loss: 0.25964 | Val Loss: 0.27577 | Train Acc: 90.750| Val Acc: 84.000\n",
      "Epoch 106: | Train Loss: 0.27537 | Val Loss: 0.26983 | Train Acc: 87.000| Val Acc: 84.000\n",
      "Epoch 107: | Train Loss: 0.23532 | Val Loss: 0.27367 | Train Acc: 90.500| Val Acc: 84.000\n",
      "Epoch 108: | Train Loss: 0.26924 | Val Loss: 0.26183 | Train Acc: 88.750| Val Acc: 84.000\n",
      "Epoch 109: | Train Loss: 0.22671 | Val Loss: 0.27540 | Train Acc: 91.250| Val Acc: 84.000\n",
      "Epoch 110: | Train Loss: 0.27864 | Val Loss: 0.29051 | Train Acc: 88.500| Val Acc: 84.000\n",
      "Epoch 111: | Train Loss: 0.28119 | Val Loss: 0.29252 | Train Acc: 89.000| Val Acc: 84.000\n",
      "Epoch 112: | Train Loss: 0.22918 | Val Loss: 0.28289 | Train Acc: 91.500| Val Acc: 84.000\n",
      "Epoch 113: | Train Loss: 0.27534 | Val Loss: 0.28139 | Train Acc: 86.000| Val Acc: 84.000\n",
      "Epoch 114: | Train Loss: 0.26756 | Val Loss: 0.28611 | Train Acc: 90.250| Val Acc: 84.000\n",
      "Epoch 115: | Train Loss: 0.24976 | Val Loss: 0.28726 | Train Acc: 89.000| Val Acc: 84.000\n",
      "Epoch 116: | Train Loss: 0.23143 | Val Loss: 0.28104 | Train Acc: 92.000| Val Acc: 84.000\n",
      "Epoch 117: | Train Loss: 0.25453 | Val Loss: 0.27184 | Train Acc: 86.000| Val Acc: 84.000\n",
      "Epoch 118: | Train Loss: 0.24859 | Val Loss: 0.26142 | Train Acc: 89.750| Val Acc: 84.000\n",
      "Epoch 119: | Train Loss: 0.27551 | Val Loss: 0.27154 | Train Acc: 87.750| Val Acc: 84.000\n",
      "Epoch 120: | Train Loss: 0.22878 | Val Loss: 0.27563 | Train Acc: 93.000| Val Acc: 84.000\n",
      "Epoch 121: | Train Loss: 0.25019 | Val Loss: 0.26743 | Train Acc: 87.750| Val Acc: 84.000\n",
      "Epoch 122: | Train Loss: 0.24415 | Val Loss: 0.27441 | Train Acc: 90.500| Val Acc: 84.000\n",
      "Epoch 123: | Train Loss: 0.20702 | Val Loss: 0.25732 | Train Acc: 92.750| Val Acc: 84.000\n",
      "Epoch 124: | Train Loss: 0.20865 | Val Loss: 0.25557 | Train Acc: 92.750| Val Acc: 84.000\n",
      "Epoch 125: | Train Loss: 0.20439 | Val Loss: 0.25464 | Train Acc: 93.500| Val Acc: 84.000\n",
      "Epoch 126: | Train Loss: 0.24260 | Val Loss: 0.26203 | Train Acc: 89.750| Val Acc: 84.000\n",
      "Epoch 127: | Train Loss: 0.33855 | Val Loss: 0.27259 | Train Acc: 84.250| Val Acc: 84.000\n",
      "Epoch 128: | Train Loss: 0.21670 | Val Loss: 0.25668 | Train Acc: 90.500| Val Acc: 84.000\n",
      "Epoch 129: | Train Loss: 0.19302 | Val Loss: 0.24359 | Train Acc: 94.000| Val Acc: 84.000\n",
      "Epoch 130: | Train Loss: 0.20695 | Val Loss: 0.24509 | Train Acc: 90.750| Val Acc: 84.000\n",
      "Epoch 131: | Train Loss: 0.19622 | Val Loss: 0.25502 | Train Acc: 91.500| Val Acc: 84.000\n",
      "Epoch 132: | Train Loss: 0.23289 | Val Loss: 0.25033 | Train Acc: 91.250| Val Acc: 84.000\n",
      "Epoch 133: | Train Loss: 0.18665 | Val Loss: 0.24583 | Train Acc: 93.750| Val Acc: 84.000\n",
      "Epoch 134: | Train Loss: 0.18140 | Val Loss: 0.24949 | Train Acc: 94.750| Val Acc: 84.000\n",
      "Epoch 135: | Train Loss: 0.28397 | Val Loss: 0.25332 | Train Acc: 86.750| Val Acc: 84.000\n",
      "Epoch 136: | Train Loss: 0.23364 | Val Loss: 0.24975 | Train Acc: 90.250| Val Acc: 84.000\n",
      "Epoch 137: | Train Loss: 0.22997 | Val Loss: 0.25573 | Train Acc: 88.000| Val Acc: 84.000\n",
      "Epoch 138: | Train Loss: 0.23007 | Val Loss: 0.25343 | Train Acc: 89.000| Val Acc: 84.000\n",
      "Epoch 139: | Train Loss: 0.22751 | Val Loss: 0.25443 | Train Acc: 90.750| Val Acc: 84.000\n",
      "Epoch 140: | Train Loss: 0.21826 | Val Loss: 0.26142 | Train Acc: 90.750| Val Acc: 84.000\n",
      "Epoch 141: | Train Loss: 0.21828 | Val Loss: 0.26349 | Train Acc: 89.750| Val Acc: 84.000\n",
      "Epoch 142: | Train Loss: 0.20631 | Val Loss: 0.25525 | Train Acc: 89.750| Val Acc: 84.000\n",
      "Epoch 143: | Train Loss: 0.24234 | Val Loss: 0.25894 | Train Acc: 88.000| Val Acc: 84.000\n",
      "Epoch 144: | Train Loss: 0.24412 | Val Loss: 0.24873 | Train Acc: 88.500| Val Acc: 84.000\n",
      "Epoch 145: | Train Loss: 0.20278 | Val Loss: 0.24460 | Train Acc: 93.250| Val Acc: 84.000\n",
      "Epoch 146: | Train Loss: 0.18368 | Val Loss: 0.24450 | Train Acc: 92.250| Val Acc: 84.000\n",
      "Epoch 147: | Train Loss: 0.18904 | Val Loss: 0.23849 | Train Acc: 94.500| Val Acc: 84.000\n",
      "Epoch 148: | Train Loss: 0.22600 | Val Loss: 0.23804 | Train Acc: 91.750| Val Acc: 84.000\n",
      "Epoch 149: | Train Loss: 0.23396 | Val Loss: 0.22783 | Train Acc: 87.750| Val Acc: 88.000\n",
      "Epoch 150: | Train Loss: 0.23611 | Val Loss: 0.23235 | Train Acc: 89.000| Val Acc: 84.000\n",
      "Epoch 151: | Train Loss: 0.20293 | Val Loss: 0.23909 | Train Acc: 92.500| Val Acc: 84.000\n",
      "Epoch 152: | Train Loss: 0.23654 | Val Loss: 0.25124 | Train Acc: 89.750| Val Acc: 84.000\n",
      "Epoch 153: | Train Loss: 0.22864 | Val Loss: 0.25051 | Train Acc: 91.250| Val Acc: 84.000\n",
      "Epoch 154: | Train Loss: 0.21648 | Val Loss: 0.24196 | Train Acc: 89.750| Val Acc: 84.000\n",
      "Epoch 155: | Train Loss: 0.21188 | Val Loss: 0.23807 | Train Acc: 93.250| Val Acc: 84.000\n",
      "Epoch 156: | Train Loss: 0.24257 | Val Loss: 0.23298 | Train Acc: 88.750| Val Acc: 88.000\n",
      "Epoch 157: | Train Loss: 0.22008 | Val Loss: 0.24237 | Train Acc: 89.500| Val Acc: 84.000\n",
      "Epoch 158: | Train Loss: 0.23543 | Val Loss: 0.23868 | Train Acc: 92.000| Val Acc: 84.000\n",
      "Epoch 159: | Train Loss: 0.21882 | Val Loss: 0.24019 | Train Acc: 90.500| Val Acc: 84.000\n",
      "Epoch 160: | Train Loss: 0.19036 | Val Loss: 0.24397 | Train Acc: 93.500| Val Acc: 84.000\n",
      "Epoch 161: | Train Loss: 0.18275 | Val Loss: 0.23616 | Train Acc: 93.000| Val Acc: 84.000\n",
      "Epoch 162: | Train Loss: 0.17549 | Val Loss: 0.23611 | Train Acc: 93.000| Val Acc: 84.000\n",
      "Epoch 163: | Train Loss: 0.24478 | Val Loss: 0.24038 | Train Acc: 89.000| Val Acc: 84.000\n",
      "Epoch 164: | Train Loss: 0.21208 | Val Loss: 0.25036 | Train Acc: 88.250| Val Acc: 84.000\n",
      "Epoch 165: | Train Loss: 0.17002 | Val Loss: 0.27740 | Train Acc: 92.250| Val Acc: 84.000\n",
      "Epoch 166: | Train Loss: 0.20578 | Val Loss: 0.30103 | Train Acc: 90.000| Val Acc: 80.000\n",
      "Epoch 167: | Train Loss: 0.21441 | Val Loss: 0.31490 | Train Acc: 88.500| Val Acc: 80.000\n",
      "Epoch 168: | Train Loss: 0.20934 | Val Loss: 0.31375 | Train Acc: 88.500| Val Acc: 80.000\n",
      "Epoch 169: | Train Loss: 0.22769 | Val Loss: 0.30457 | Train Acc: 88.000| Val Acc: 80.000\n",
      "Epoch 170: | Train Loss: 0.22318 | Val Loss: 0.31853 | Train Acc: 89.000| Val Acc: 80.000\n",
      "Epoch 171: | Train Loss: 0.17734 | Val Loss: 0.31953 | Train Acc: 92.750| Val Acc: 80.000\n",
      "Epoch 172: | Train Loss: 0.17182 | Val Loss: 0.33119 | Train Acc: 93.750| Val Acc: 80.000\n",
      "Epoch 173: | Train Loss: 0.19010 | Val Loss: 0.32355 | Train Acc: 93.500| Val Acc: 80.000\n",
      "Epoch 174: | Train Loss: 0.19620 | Val Loss: 0.29251 | Train Acc: 92.000| Val Acc: 80.000\n",
      "Epoch 175: | Train Loss: 0.20327 | Val Loss: 0.28208 | Train Acc: 91.250| Val Acc: 84.000\n",
      "Epoch 176: | Train Loss: 0.17958 | Val Loss: 0.27370 | Train Acc: 93.750| Val Acc: 84.000\n",
      "Epoch 177: | Train Loss: 0.19711 | Val Loss: 0.26719 | Train Acc: 91.250| Val Acc: 84.000\n",
      "Epoch 178: | Train Loss: 0.17608 | Val Loss: 0.25055 | Train Acc: 94.500| Val Acc: 84.000\n",
      "Epoch 179: | Train Loss: 0.19877 | Val Loss: 0.24582 | Train Acc: 93.750| Val Acc: 84.000\n",
      "Epoch 180: | Train Loss: 0.19504 | Val Loss: 0.26469 | Train Acc: 91.500| Val Acc: 84.000\n",
      "Epoch 181: | Train Loss: 0.18446 | Val Loss: 0.26140 | Train Acc: 92.750| Val Acc: 84.000\n",
      "Epoch 182: | Train Loss: 0.15946 | Val Loss: 0.26805 | Train Acc: 94.750| Val Acc: 84.000\n",
      "Epoch 183: | Train Loss: 0.20369 | Val Loss: 0.27139 | Train Acc: 92.500| Val Acc: 84.000\n",
      "Epoch 184: | Train Loss: 0.22337 | Val Loss: 0.28209 | Train Acc: 91.000| Val Acc: 84.000\n",
      "Epoch 185: | Train Loss: 0.20307 | Val Loss: 0.27223 | Train Acc: 90.250| Val Acc: 84.000\n",
      "Epoch 186: | Train Loss: 0.16125 | Val Loss: 0.25955 | Train Acc: 93.750| Val Acc: 84.000\n",
      "Epoch 187: | Train Loss: 0.17011 | Val Loss: 0.25244 | Train Acc: 91.250| Val Acc: 84.000\n",
      "Epoch 188: | Train Loss: 0.20262 | Val Loss: 0.25391 | Train Acc: 93.250| Val Acc: 84.000\n",
      "Epoch 189: | Train Loss: 0.18295 | Val Loss: 0.26548 | Train Acc: 94.250| Val Acc: 84.000\n",
      "Epoch 190: | Train Loss: 0.15873 | Val Loss: 0.26693 | Train Acc: 94.000| Val Acc: 84.000\n",
      "Epoch 191: | Train Loss: 0.17397 | Val Loss: 0.25797 | Train Acc: 93.500| Val Acc: 84.000\n",
      "Epoch 192: | Train Loss: 0.17476 | Val Loss: 0.26196 | Train Acc: 93.500| Val Acc: 84.000\n",
      "Epoch 193: | Train Loss: 0.17330 | Val Loss: 0.26192 | Train Acc: 92.250| Val Acc: 84.000\n",
      "Epoch 194: | Train Loss: 0.17259 | Val Loss: 0.25932 | Train Acc: 93.500| Val Acc: 84.000\n",
      "Epoch 195: | Train Loss: 0.22472 | Val Loss: 0.26176 | Train Acc: 89.750| Val Acc: 84.000\n",
      "Epoch 196: | Train Loss: 0.20244 | Val Loss: 0.25069 | Train Acc: 90.500| Val Acc: 84.000\n",
      "Epoch 197: | Train Loss: 0.21725 | Val Loss: 0.24747 | Train Acc: 91.000| Val Acc: 84.000\n",
      "Epoch 198: | Train Loss: 0.22090 | Val Loss: 0.24340 | Train Acc: 89.000| Val Acc: 84.000\n",
      "Epoch 199: | Train Loss: 0.13811 | Val Loss: 0.24543 | Train Acc: 96.750| Val Acc: 84.000\n",
      "Epoch 200: | Train Loss: 0.19315 | Val Loss: 0.26325 | Train Acc: 92.000| Val Acc: 84.000\n",
      "Epoch 201: | Train Loss: 0.16138 | Val Loss: 0.26095 | Train Acc: 96.750| Val Acc: 84.000\n",
      "Epoch 202: | Train Loss: 0.16956 | Val Loss: 0.25711 | Train Acc: 93.000| Val Acc: 84.000\n",
      "Epoch 203: | Train Loss: 0.20247 | Val Loss: 0.24856 | Train Acc: 92.000| Val Acc: 88.000\n",
      "Epoch 204: | Train Loss: 0.16018 | Val Loss: 0.25014 | Train Acc: 96.250| Val Acc: 84.000\n",
      "Epoch 205: | Train Loss: 0.17799 | Val Loss: 0.25966 | Train Acc: 94.250| Val Acc: 84.000\n",
      "Epoch 206: | Train Loss: 0.17321 | Val Loss: 0.26206 | Train Acc: 94.250| Val Acc: 84.000\n",
      "Epoch 207: | Train Loss: 0.25060 | Val Loss: 0.26447 | Train Acc: 87.250| Val Acc: 84.000\n",
      "Epoch 208: | Train Loss: 0.15913 | Val Loss: 0.25033 | Train Acc: 93.000| Val Acc: 84.000\n",
      "Epoch 209: | Train Loss: 0.17103 | Val Loss: 0.23788 | Train Acc: 92.750| Val Acc: 84.000\n",
      "Epoch 210: | Train Loss: 0.14888 | Val Loss: 0.24385 | Train Acc: 95.500| Val Acc: 84.000\n",
      "Epoch 211: | Train Loss: 0.17198 | Val Loss: 0.25464 | Train Acc: 92.500| Val Acc: 84.000\n",
      "Epoch 212: | Train Loss: 0.19631 | Val Loss: 0.25503 | Train Acc: 91.250| Val Acc: 84.000\n",
      "Epoch 213: | Train Loss: 0.16121 | Val Loss: 0.24697 | Train Acc: 95.000| Val Acc: 88.000\n",
      "Epoch 214: | Train Loss: 0.19631 | Val Loss: 0.25809 | Train Acc: 91.000| Val Acc: 84.000\n",
      "Epoch 215: | Train Loss: 0.16417 | Val Loss: 0.25468 | Train Acc: 94.500| Val Acc: 88.000\n",
      "Epoch 216: | Train Loss: 0.17477 | Val Loss: 0.26682 | Train Acc: 92.750| Val Acc: 84.000\n",
      "Epoch 217: | Train Loss: 0.16970 | Val Loss: 0.26411 | Train Acc: 93.750| Val Acc: 84.000\n",
      "Epoch 218: | Train Loss: 0.18704 | Val Loss: 0.26878 | Train Acc: 91.750| Val Acc: 84.000\n",
      "Epoch 219: | Train Loss: 0.23724 | Val Loss: 0.28058 | Train Acc: 90.000| Val Acc: 84.000\n",
      "Epoch 220: | Train Loss: 0.19987 | Val Loss: 0.27450 | Train Acc: 89.500| Val Acc: 84.000\n",
      "Epoch 221: | Train Loss: 0.15648 | Val Loss: 0.25918 | Train Acc: 94.000| Val Acc: 84.000\n",
      "Epoch 222: | Train Loss: 0.14931 | Val Loss: 0.26690 | Train Acc: 95.000| Val Acc: 84.000\n",
      "Epoch 223: | Train Loss: 0.18641 | Val Loss: 0.26309 | Train Acc: 93.250| Val Acc: 84.000\n",
      "Epoch 224: | Train Loss: 0.19684 | Val Loss: 0.26660 | Train Acc: 92.250| Val Acc: 84.000\n",
      "Epoch 225: | Train Loss: 0.19333 | Val Loss: 0.27915 | Train Acc: 90.750| Val Acc: 84.000\n",
      "Epoch 226: | Train Loss: 0.14864 | Val Loss: 0.28721 | Train Acc: 94.500| Val Acc: 84.000\n",
      "Epoch 227: | Train Loss: 0.19733 | Val Loss: 0.28717 | Train Acc: 92.500| Val Acc: 84.000\n",
      "Epoch 228: | Train Loss: 0.19736 | Val Loss: 0.26701 | Train Acc: 92.000| Val Acc: 84.000\n",
      "Epoch 229: | Train Loss: 0.15227 | Val Loss: 0.27975 | Train Acc: 95.250| Val Acc: 84.000\n",
      "Epoch 230: | Train Loss: 0.19804 | Val Loss: 0.27903 | Train Acc: 91.000| Val Acc: 84.000\n",
      "Epoch 231: | Train Loss: 0.16947 | Val Loss: 0.27490 | Train Acc: 95.500| Val Acc: 84.000\n",
      "Epoch 232: | Train Loss: 0.17701 | Val Loss: 0.26821 | Train Acc: 90.500| Val Acc: 84.000\n",
      "Epoch 233: | Train Loss: 0.18292 | Val Loss: 0.26075 | Train Acc: 94.000| Val Acc: 84.000\n",
      "Epoch 234: | Train Loss: 0.13979 | Val Loss: 0.25407 | Train Acc: 95.250| Val Acc: 84.000\n",
      "Epoch 235: | Train Loss: 0.18625 | Val Loss: 0.26204 | Train Acc: 91.750| Val Acc: 84.000\n",
      "Epoch 236: | Train Loss: 0.16453 | Val Loss: 0.26690 | Train Acc: 94.000| Val Acc: 84.000\n",
      "Epoch 237: | Train Loss: 0.16547 | Val Loss: 0.27496 | Train Acc: 93.000| Val Acc: 80.000\n",
      "Epoch 238: | Train Loss: 0.17671 | Val Loss: 0.26828 | Train Acc: 91.000| Val Acc: 80.000\n",
      "Epoch 239: | Train Loss: 0.13283 | Val Loss: 0.26709 | Train Acc: 96.500| Val Acc: 80.000\n",
      "Epoch 240: | Train Loss: 0.18683 | Val Loss: 0.27409 | Train Acc: 92.000| Val Acc: 80.000\n",
      "Epoch 241: | Train Loss: 0.20978 | Val Loss: 0.30276 | Train Acc: 90.250| Val Acc: 84.000\n",
      "Epoch 242: | Train Loss: 0.16241 | Val Loss: 0.31147 | Train Acc: 93.750| Val Acc: 80.000\n",
      "Epoch 243: | Train Loss: 0.15201 | Val Loss: 0.27828 | Train Acc: 96.250| Val Acc: 80.000\n",
      "Epoch 244: | Train Loss: 0.15213 | Val Loss: 0.27409 | Train Acc: 93.250| Val Acc: 80.000\n",
      "Epoch 245: | Train Loss: 0.20657 | Val Loss: 0.30338 | Train Acc: 92.250| Val Acc: 84.000\n",
      "Epoch 246: | Train Loss: 0.15917 | Val Loss: 0.30144 | Train Acc: 95.500| Val Acc: 84.000\n",
      "Epoch 247: | Train Loss: 0.16351 | Val Loss: 0.28796 | Train Acc: 92.000| Val Acc: 84.000\n",
      "Epoch 248: | Train Loss: 0.14991 | Val Loss: 0.26454 | Train Acc: 94.750| Val Acc: 80.000\n",
      "Epoch 249: | Train Loss: 0.16109 | Val Loss: 0.25978 | Train Acc: 93.750| Val Acc: 80.000\n",
      "Epoch 250: | Train Loss: 0.17707 | Val Loss: 0.25929 | Train Acc: 93.250| Val Acc: 84.000\n",
      "Epoch 251: | Train Loss: 0.19233 | Val Loss: 0.26984 | Train Acc: 93.000| Val Acc: 80.000\n",
      "Epoch 252: | Train Loss: 0.13810 | Val Loss: 0.27454 | Train Acc: 96.250| Val Acc: 80.000\n",
      "Epoch 253: | Train Loss: 0.18995 | Val Loss: 0.25489 | Train Acc: 91.750| Val Acc: 84.000\n",
      "Epoch 254: | Train Loss: 0.18405 | Val Loss: 0.26319 | Train Acc: 94.500| Val Acc: 84.000\n",
      "Epoch 255: | Train Loss: 0.16409 | Val Loss: 0.27184 | Train Acc: 93.500| Val Acc: 80.000\n",
      "Epoch 256: | Train Loss: 0.18593 | Val Loss: 0.28696 | Train Acc: 93.250| Val Acc: 80.000\n",
      "Epoch 257: | Train Loss: 0.15379 | Val Loss: 0.27123 | Train Acc: 94.250| Val Acc: 80.000\n",
      "Epoch 258: | Train Loss: 0.19986 | Val Loss: 0.27471 | Train Acc: 91.250| Val Acc: 80.000\n",
      "Epoch 259: | Train Loss: 0.15203 | Val Loss: 0.26595 | Train Acc: 92.250| Val Acc: 80.000\n",
      "Epoch 260: | Train Loss: 0.14740 | Val Loss: 0.26455 | Train Acc: 94.250| Val Acc: 84.000\n",
      "Epoch 261: | Train Loss: 0.15622 | Val Loss: 0.27868 | Train Acc: 96.500| Val Acc: 80.000\n",
      "Epoch 262: | Train Loss: 0.16833 | Val Loss: 0.28734 | Train Acc: 93.250| Val Acc: 84.000\n",
      "Epoch 263: | Train Loss: 0.14507 | Val Loss: 0.27730 | Train Acc: 92.750| Val Acc: 80.000\n",
      "Epoch 264: | Train Loss: 0.15098 | Val Loss: 0.26159 | Train Acc: 95.250| Val Acc: 80.000\n",
      "Epoch 265: | Train Loss: 0.14718 | Val Loss: 0.25753 | Train Acc: 95.250| Val Acc: 80.000\n",
      "Epoch 266: | Train Loss: 0.14818 | Val Loss: 0.26141 | Train Acc: 94.750| Val Acc: 80.000\n",
      "Epoch 267: | Train Loss: 0.14850 | Val Loss: 0.27501 | Train Acc: 94.500| Val Acc: 80.000\n",
      "Epoch 268: | Train Loss: 0.16596 | Val Loss: 0.27444 | Train Acc: 94.500| Val Acc: 80.000\n",
      "Epoch 269: | Train Loss: 0.15678 | Val Loss: 0.25698 | Train Acc: 94.000| Val Acc: 80.000\n",
      "Epoch 270: | Train Loss: 0.15694 | Val Loss: 0.26229 | Train Acc: 93.750| Val Acc: 84.000\n",
      "Epoch 271: | Train Loss: 0.14725 | Val Loss: 0.28340 | Train Acc: 92.750| Val Acc: 84.000\n",
      "Epoch 272: | Train Loss: 0.13683 | Val Loss: 0.29935 | Train Acc: 96.750| Val Acc: 84.000\n",
      "Epoch 273: | Train Loss: 0.18027 | Val Loss: 0.31172 | Train Acc: 92.750| Val Acc: 84.000\n",
      "Epoch 274: | Train Loss: 0.14572 | Val Loss: 0.32715 | Train Acc: 94.000| Val Acc: 84.000\n",
      "Epoch 275: | Train Loss: 0.14686 | Val Loss: 0.31810 | Train Acc: 94.000| Val Acc: 80.000\n",
      "Epoch 276: | Train Loss: 0.15048 | Val Loss: 0.32602 | Train Acc: 96.000| Val Acc: 80.000\n",
      "Epoch 277: | Train Loss: 0.15238 | Val Loss: 0.30386 | Train Acc: 94.000| Val Acc: 80.000\n",
      "Epoch 278: | Train Loss: 0.14442 | Val Loss: 0.30362 | Train Acc: 94.250| Val Acc: 80.000\n",
      "Epoch 279: | Train Loss: 0.16258 | Val Loss: 0.30492 | Train Acc: 93.000| Val Acc: 80.000\n",
      "Epoch 280: | Train Loss: 0.14905 | Val Loss: 0.29736 | Train Acc: 94.000| Val Acc: 80.000\n",
      "Epoch 281: | Train Loss: 0.13634 | Val Loss: 0.29028 | Train Acc: 96.500| Val Acc: 84.000\n",
      "Epoch 282: | Train Loss: 0.15765 | Val Loss: 0.30671 | Train Acc: 93.500| Val Acc: 80.000\n",
      "Epoch 283: | Train Loss: 0.14377 | Val Loss: 0.30370 | Train Acc: 94.500| Val Acc: 80.000\n",
      "Epoch 284: | Train Loss: 0.15800 | Val Loss: 0.29505 | Train Acc: 95.250| Val Acc: 80.000\n",
      "Epoch 285: | Train Loss: 0.12990 | Val Loss: 0.29080 | Train Acc: 95.250| Val Acc: 80.000\n",
      "Epoch 286: | Train Loss: 0.13065 | Val Loss: 0.27474 | Train Acc: 94.500| Val Acc: 84.000\n",
      "Epoch 287: | Train Loss: 0.16228 | Val Loss: 0.28808 | Train Acc: 93.250| Val Acc: 80.000\n",
      "Epoch 288: | Train Loss: 0.14234 | Val Loss: 0.28565 | Train Acc: 94.000| Val Acc: 80.000\n",
      "Epoch 289: | Train Loss: 0.13707 | Val Loss: 0.27705 | Train Acc: 96.000| Val Acc: 80.000\n",
      "Epoch 290: | Train Loss: 0.11409 | Val Loss: 0.29494 | Train Acc: 97.250| Val Acc: 80.000\n",
      "Epoch 291: | Train Loss: 0.17195 | Val Loss: 0.31059 | Train Acc: 93.000| Val Acc: 80.000\n",
      "Epoch 292: | Train Loss: 0.16872 | Val Loss: 0.32414 | Train Acc: 93.000| Val Acc: 80.000\n",
      "Epoch 293: | Train Loss: 0.11347 | Val Loss: 0.30213 | Train Acc: 96.750| Val Acc: 80.000\n",
      "Epoch 294: | Train Loss: 0.12875 | Val Loss: 0.28766 | Train Acc: 94.250| Val Acc: 80.000\n",
      "Epoch 295: | Train Loss: 0.13379 | Val Loss: 0.28091 | Train Acc: 95.750| Val Acc: 80.000\n",
      "Epoch 296: | Train Loss: 0.14321 | Val Loss: 0.28657 | Train Acc: 95.500| Val Acc: 80.000\n",
      "Epoch 297: | Train Loss: 0.13871 | Val Loss: 0.28235 | Train Acc: 95.250| Val Acc: 80.000\n",
      "Epoch 298: | Train Loss: 0.15624 | Val Loss: 0.27413 | Train Acc: 95.750| Val Acc: 84.000\n",
      "Epoch 299: | Train Loss: 0.18069 | Val Loss: 0.29977 | Train Acc: 93.000| Val Acc: 80.000\n",
      "Epoch 300: | Train Loss: 0.13759 | Val Loss: 0.30037 | Train Acc: 97.500| Val Acc: 80.000\n",
      "\n"
     ]
    }
   ],
   "source": [
    "print(\"Begin training.\")\n",
    "\n",
    "for e in tqdm(range(1, EPOCHS+1)):\n",
    "    \n",
    "    # TRAINING\n",
    "    \n",
    "    train_epoch_loss = 0\n",
    "    train_epoch_acc = 0\n",
    "    \n",
    "    model.train()\n",
    "    for X_train_batch, y_train_batch in train_loader:\n",
    "        X_train_batch, y_train_batch = X_train_batch.to(device), y_train_batch.to(device)\n",
    "        optimizer.zero_grad()\n",
    "        \n",
    "        y_train_pred = model(X_train_batch)\n",
    "        \n",
    "        train_loss = criterion(y_train_pred, y_train_batch)\n",
    "        train_acc = binary_acc(y_train_pred, y_train_batch)\n",
    "        \n",
    "        train_loss.backward()\n",
    "        optimizer.step()\n",
    "        \n",
    "        train_epoch_loss += train_loss.item()\n",
    "        train_epoch_acc += train_acc.item()\n",
    "        \n",
    "        \n",
    "    # VALIDATION\n",
    "    with torch.no_grad():\n",
    "        model.eval()\n",
    "        val_epoch_loss = 0\n",
    "        val_epoch_acc = 0\n",
    "        for X_val_batch, y_val_batch in val_loader:\n",
    "            X_val_batch, y_val_batch = X_val_batch.to(device), y_val_batch.to(device)\n",
    "            \n",
    "            y_val_pred = model(X_val_batch)\n",
    "                        \n",
    "            val_loss = criterion(y_val_pred, y_val_batch)\n",
    "            val_acc = binary_acc(y_val_pred, y_val_batch)\n",
    "            \n",
    "            val_epoch_loss += val_loss.item()\n",
    "            val_epoch_acc += val_acc.item()\n",
    "\n",
    "    \n",
    "        \n",
    "    loss_stats['train'].append(train_epoch_loss/len(train_loader))\n",
    "    loss_stats['val'].append(val_epoch_loss/len(val_loader))\n",
    "    accuracy_stats['train'].append(train_epoch_acc/len(train_loader))\n",
    "    accuracy_stats['val'].append(val_epoch_acc/len(val_loader))\n",
    "                              \n",
    "    \n",
    "    print(f'Epoch {e+0:03}: | Train Loss: {train_epoch_loss/len(train_loader):.5f} | Val Loss: {val_epoch_loss/len(val_loader):.5f} | Train Acc: {train_epoch_acc/len(train_loader):.3f}| Val Acc: {val_epoch_acc/len(val_loader):.3f}')"
   ]
  },
  {
   "cell_type": "markdown",
   "metadata": {},
   "source": [
    "### Visualize Loss and Accuracy"
   ]
  },
  {
   "cell_type": "code",
   "execution_count": 32,
   "metadata": {},
   "outputs": [
    {
     "data": {
      "text/plain": [
       "Text(0.5, 1.0, 'Train-Val Loss/Epoch')"
      ]
     },
     "execution_count": 32,
     "metadata": {},
     "output_type": "execute_result"
    },
    {
     "data": {
      "image/png": "[encoded data removed]",
      "text/plain": [
       "<Figure size 2160x720 with 2 Axes>"
      ]
     },
     "metadata": {},
     "output_type": "display_data"
    }
   ],
   "source": [
    "train_val_acc_df = pd.DataFrame.from_dict(accuracy_stats).reset_index().melt(id_vars=['index']).rename(columns={\"index\":\"epochs\"})\n",
    "train_val_loss_df = pd.DataFrame.from_dict(loss_stats).reset_index().melt(id_vars=['index']).rename(columns={\"index\":\"epochs\"})\n",
    "\n",
    "fig, axes = plt.subplots(nrows=1, ncols=2, figsize=(30,10))\n",
    "sns.lineplot(data=train_val_acc_df, x = \"epochs\", y=\"value\", hue=\"variable\",  ax=axes[0]).set_title('Train-Val Accuracy/Epoch')\n",
    "sns.lineplot(data=train_val_loss_df, x = \"epochs\", y=\"value\", hue=\"variable\", ax=axes[1]).set_title('Train-Val Loss/Epoch')"
   ]
  },
  {
   "cell_type": "markdown",
   "metadata": {},
   "source": [
    "As you can see, the val_loss starts increasing after around 150 epochs while the train loss keeps decreasing. This means that your model has started to overfit. You can retrain this model to train for ~150 epochs to prevent overfitting."
   ]
  },
  {
   "cell_type": "markdown",
   "metadata": {},
   "source": [
    "### Test Model"
   ]
  },
  {
   "cell_type": "code",
   "execution_count": 33,
   "metadata": {},
   "outputs": [],
   "source": [
    "y_pred_list = []\n",
    "\n",
    "with torch.no_grad():\n",
    "    model.eval()\n",
    "    for X_batch, _ in test_loader:\n",
    "        X_batch = X_batch.to(device)\n",
    "        y_test_pred = model(X_batch)\n",
    "        y_test_pred = torch.log_softmax(y_test_pred, dim=1)\n",
    "        _, y_pred_tag = torch.max(y_test_pred, dim = 1)\n",
    "        y_pred_list.append(y_pred_tag.cpu().numpy())"
   ]
  },
  {
   "cell_type": "code",
   "execution_count": 34,
   "metadata": {},
   "outputs": [],
   "source": [
    "y_pred_list = [a.squeeze().tolist() for a in y_pred_list]"
   ]
  },
  {
   "cell_type": "markdown",
   "metadata": {},
   "source": [
    "### Confusion Matrix"
   ]
  },
  {
   "cell_type": "code",
   "execution_count": 35,
   "metadata": {},
   "outputs": [
    {
     "data": {
      "text/plain": [
       "<matplotlib.axes._subplots.AxesSubplot at 0x7f7eb60f9cc0>"
      ]
     },
     "execution_count": 35,
     "metadata": {},
     "output_type": "execute_result"
    },
    {
     "data": {
      "image/png": "[encoded data removed]",
      "text/plain": [
       "<Figure size 432x288 with 2 Axes>"
      ]
     },
     "metadata": {},
     "output_type": "display_data"
    }
   ],
   "source": [
    "confusion_matrix_df = pd.DataFrame(confusion_matrix(y_test, y_pred_list)).rename(columns=idx2class, index=idx2class)\n",
    "sns.heatmap(confusion_matrix_df, annot=True)"
   ]
  },
  {
   "cell_type": "markdown",
   "metadata": {},
   "source": [
    "### Classification Report"
   ]
  },
  {
   "cell_type": "code",
   "execution_count": 36,
   "metadata": {},
   "outputs": [
    {
     "name": "stdout",
     "output_type": "stream",
     "text": [
      "              precision    recall  f1-score   support\n",
      "\n",
      "      Normal       0.89      0.80      0.84        20\n",
      "    Abnormal       0.91      0.95      0.93        42\n",
      "\n",
      "    accuracy                           0.90        62\n",
      "   macro avg       0.90      0.88      0.89        62\n",
      "weighted avg       0.90      0.90      0.90        62\n",
      "\n"
     ]
    }
   ],
   "source": [
    "print(classification_report(y_test, y_pred_list, target_names=[\"Normal\", \"Abnormal\"]))"
   ]
  }
 ],
 "metadata": {
  "kernelspec": {
   "display_name": "Python 3",
   "language": "python",
   "name": "python3"
  },
  "language_info": {
   "codemirror_mode": {
    "name": "ipython",
    "version": 3
   },
   "file_extension": ".py",
   "mimetype": "text/x-python",
   "name": "python",
   "nbconvert_exporter": "python",
   "pygments_lexer": "ipython3",
   "version": "3.6.10"
  }
 },
 "nbformat": 4,
 "nbformat_minor": 4
}
